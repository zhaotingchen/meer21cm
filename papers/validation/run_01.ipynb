{
 "cells": [
  {
   "cell_type": "code",
   "execution_count": 1,
   "metadata": {},
   "outputs": [
    {
     "name": "stderr",
     "output_type": "stream",
     "text": [
      "/global/homes/z/ztchen/.conda/envs/meer21cm/lib/python3.10/site-packages/halomod/halo_model.py:32: UserWarning: Warning: Some Halo-Exclusion models have significant speedup when using Numba\n",
      "  from .halo_exclusion import Exclusion, NoExclusion\n",
      "2025-07-12 08:59:06.598499: E external/local_xla/xla/stream_executor/cuda/cuda_fft.cc:467] Unable to register cuFFT factory: Attempting to register factory for plugin cuFFT when one has already been registered\n",
      "WARNING: All log messages before absl::InitializeLog() is called are written to STDERR\n",
      "E0000 00:00:1752335946.612066  672222 cuda_dnn.cc:8579] Unable to register cuDNN factory: Attempting to register factory for plugin cuDNN when one has already been registered\n",
      "E0000 00:00:1752335946.616254  672222 cuda_blas.cc:1407] Unable to register cuBLAS factory: Attempting to register factory for plugin cuBLAS when one has already been registered\n",
      "W0000 00:00:1752335946.628287  672222 computation_placer.cc:177] computation placer already registered. Please check linkage and avoid linking the same target more than once.\n",
      "W0000 00:00:1752335946.628298  672222 computation_placer.cc:177] computation placer already registered. Please check linkage and avoid linking the same target more than once.\n",
      "W0000 00:00:1752335946.628300  672222 computation_placer.cc:177] computation placer already registered. Please check linkage and avoid linking the same target more than once.\n",
      "W0000 00:00:1752335946.628301  672222 computation_placer.cc:177] computation placer already registered. Please check linkage and avoid linking the same target more than once.\n",
      "2025-07-12 08:59:06.633557: I tensorflow/core/platform/cpu_feature_guard.cc:210] This TensorFlow binary is optimized to use available CPU instructions in performance-critical operations.\n",
      "To enable the following instructions: AVX2 FMA, in other operations, rebuild TensorFlow with the appropriate compiler flags.\n",
      "2025-07-12 08:59:16.288090: E external/local_xla/xla/stream_executor/cuda/cuda_platform.cc:51] failed call to cuInit: INTERNAL: CUDA error: Failed call to cuInit: CUDA_ERROR_NO_DEVICE: no CUDA-capable device is detected\n"
     ]
    }
   ],
   "source": [
    "import numpy as np\n",
    "from meer21cm.mock import MockSimulation\n",
    "from meer21cm.grid import project_particle_to_regular_grid, shot_noise_correction_from_gridding, fourier_window_for_assignment\n",
    "from func_01 import get_3d_power\n",
    "from multiprocessing import Pool\n",
    "from meer21cm.power import bin_3d_to_1d, bin_3d_to_cy\n",
    "import matplotlib.pyplot as plt\n",
    "\n"
   ]
  },
  {
   "cell_type": "code",
   "execution_count": 2,
   "metadata": {},
   "outputs": [],
   "source": [
    "save_dir = '/pscratch/sd/z/ztchen/test_01/'"
   ]
  },
  {
   "cell_type": "code",
   "execution_count": 3,
   "metadata": {},
   "outputs": [
    {
     "name": "stdout",
     "output_type": "stream",
     "text": [
      "Note: redshifts have been re-sorted (earliest first)\n",
      "Note: redshifts have been re-sorted (earliest first)Note: redshifts have been re-sorted (earliest first)\n",
      "\n",
      "Note: redshifts have been re-sorted (earliest first)Note: redshifts have been re-sorted (earliest first)\n",
      "Note: redshifts have been re-sorted (earliest first)\n",
      "\n",
      "Note: redshifts have been re-sorted (earliest first)Note: redshifts have been re-sorted (earliest first)Note: redshifts have been re-sorted (earliest first)Note: redshifts have been re-sorted (earliest first)\n",
      "\n",
      "Note: redshifts have been re-sorted (earliest first)\n",
      "\n",
      "Note: redshifts have been re-sorted (earliest first)\n",
      "Note: redshifts have been re-sorted (earliest first)Note: redshifts have been re-sorted (earliest first)Note: redshifts have been re-sorted (earliest first)Note: redshifts have been re-sorted (earliest first)Note: redshifts have been re-sorted (earliest first)Note: redshifts have been re-sorted (earliest first)Note: redshifts have been re-sorted (earliest first)Note: redshifts have been re-sorted (earliest first)\n",
      "Note: redshifts have been re-sorted (earliest first)Note: redshifts have been re-sorted (earliest first)\n",
      "\n",
      "Note: redshifts have been re-sorted (earliest first)Note: redshifts have been re-sorted (earliest first)\n",
      "Note: redshifts have been re-sorted (earliest first)\n",
      "\n",
      "Note: redshifts have been re-sorted (earliest first)"
     ]
    },
    {
     "name": "stdout",
     "output_type": "stream",
     "text": [
      "Note: redshifts have been re-sorted (earliest first)Note: redshifts have been re-sorted (earliest first)\n",
      "\n",
      "\n",
      "Note: redshifts have been re-sorted (earliest first)\n",
      "\n",
      "Note: redshifts have been re-sorted (earliest first)\n",
      "\n",
      "\n",
      "\n",
      "\n",
      "\n",
      "\n",
      "Note: redshifts have been re-sorted (earliest first)\n",
      "\n",
      "Note: redshifts have been re-sorted (earliest first)\n",
      "no input beam found, setting include_beam to False\n"
     ]
    },
    {
     "name": "stderr",
     "output_type": "stream",
     "text": [
      "/global/homes/z/ztchen/.conda/envs/meer21cm/lib/python3.10/site-packages/numpy/fft/_helper.py:170: RuntimeWarning: divide by zero encountered in scalar divide\n",
      "  val = 1.0 / (n * d)\n",
      "/global/homes/z/ztchen/.conda/envs/meer21cm/lib/python3.10/site-packages/numpy/fft/_helper.py:177: RuntimeWarning: invalid value encountered in multiply\n",
      "  return results * val\n"
     ]
    },
    {
     "name": "stdout",
     "output_type": "stream",
     "text": [
      "no input beam found, setting include_beam to False\n"
     ]
    },
    {
     "name": "stderr",
     "output_type": "stream",
     "text": [
      "/global/homes/z/ztchen/.conda/envs/meer21cm/lib/python3.10/site-packages/numpy/fft/_helper.py:170: RuntimeWarning: divide by zero encountered in scalar divide\n",
      "  val = 1.0 / (n * d)\n",
      "/global/homes/z/ztchen/.conda/envs/meer21cm/lib/python3.10/site-packages/numpy/fft/_helper.py:177: RuntimeWarning: invalid value encountered in multiply\n",
      "  return results * val\n"
     ]
    },
    {
     "name": "stdout",
     "output_type": "stream",
     "text": [
      "Note: redshifts have been re-sorted (earliest first)\n",
      "Note: redshifts have been re-sorted (earliest first)no input beam found, setting include_beam to False\n",
      "\n"
     ]
    },
    {
     "name": "stderr",
     "output_type": "stream",
     "text": [
      "/global/homes/z/ztchen/.conda/envs/meer21cm/lib/python3.10/site-packages/numpy/fft/_helper.py:170: RuntimeWarning: divide by zero encountered in scalar divide\n",
      "  val = 1.0 / (n * d)\n"
     ]
    },
    {
     "name": "stdout",
     "output_type": "stream",
     "text": [
      "no input beam found, setting include_beam to False"
     ]
    },
    {
     "name": "stderr",
     "output_type": "stream",
     "text": [
      "/global/homes/z/ztchen/.conda/envs/meer21cm/lib/python3.10/site-packages/numpy/fft/_helper.py:177: RuntimeWarning: invalid value encountered in multiply\n",
      "  return results * val\n"
     ]
    },
    {
     "name": "stdout",
     "output_type": "stream",
     "text": [
      "\n"
     ]
    },
    {
     "name": "stderr",
     "output_type": "stream",
     "text": [
      "/global/homes/z/ztchen/.conda/envs/meer21cm/lib/python3.10/site-packages/numpy/fft/_helper.py:170: RuntimeWarning: divide by zero encountered in scalar divide\n",
      "  val = 1.0 / (n * d)\n"
     ]
    },
    {
     "name": "stdout",
     "output_type": "stream",
     "text": [
      "Note: redshifts have been re-sorted (earliest first)\n",
      "no input beam found, setting include_beam to False\n"
     ]
    },
    {
     "name": "stderr",
     "output_type": "stream",
     "text": [
      "/global/homes/z/ztchen/.conda/envs/meer21cm/lib/python3.10/site-packages/numpy/fft/_helper.py:177: RuntimeWarning: invalid value encountered in multiply\n",
      "  return results * val\n"
     ]
    },
    {
     "name": "stdout",
     "output_type": "stream",
     "text": [
      "Note: redshifts have been re-sorted (earliest first)\n",
      "no input beam found, setting include_beam to False\n",
      "no input beam found, setting include_beam to False\n",
      "no input beam found, setting include_beam to False\n"
     ]
    },
    {
     "name": "stderr",
     "output_type": "stream",
     "text": [
      "/global/homes/z/ztchen/.conda/envs/meer21cm/lib/python3.10/site-packages/numpy/fft/_helper.py:170: RuntimeWarning: divide by zero encountered in scalar divide\n",
      "  val = 1.0 / (n * d)\n",
      "/global/homes/z/ztchen/.conda/envs/meer21cm/lib/python3.10/site-packages/numpy/fft/_helper.py:177: RuntimeWarning: invalid value encountered in multiply\n",
      "  return results * val\n"
     ]
    },
    {
     "name": "stdout",
     "output_type": "stream",
     "text": [
      "no input beam found, setting include_beam to False\n"
     ]
    },
    {
     "name": "stderr",
     "output_type": "stream",
     "text": [
      "/global/homes/z/ztchen/.conda/envs/meer21cm/lib/python3.10/site-packages/numpy/fft/_helper.py:170: RuntimeWarning: divide by zero encountered in scalar divide\n",
      "  val = 1.0 / (n * d)\n",
      "/global/homes/z/ztchen/.conda/envs/meer21cm/lib/python3.10/site-packages/numpy/fft/_helper.py:177: RuntimeWarning: invalid value encountered in multiply\n",
      "  return results * val\n"
     ]
    },
    {
     "name": "stdout",
     "output_type": "stream",
     "text": [
      "no input beam found, setting include_beam to False\n",
      "Note: redshifts have been re-sorted (earliest first)\n",
      "Note: redshifts have been re-sorted (earliest first)\n",
      "no input beam found, setting include_beam to Falseno input beam found, setting include_beam to False\n",
      "\n"
     ]
    },
    {
     "name": "stderr",
     "output_type": "stream",
     "text": [
      "/global/homes/z/ztchen/.conda/envs/meer21cm/lib/python3.10/site-packages/numpy/fft/_helper.py:170: RuntimeWarning: divide by zero encountered in scalar divide\n",
      "  val = 1.0 / (n * d)\n",
      "/global/homes/z/ztchen/.conda/envs/meer21cm/lib/python3.10/site-packages/numpy/fft/_helper.py:177: RuntimeWarning: invalid value encountered in multiply\n",
      "  return results * val\n"
     ]
    },
    {
     "name": "stdout",
     "output_type": "stream",
     "text": [
      "Note: redshifts have been re-sorted (earliest first)\n",
      "no input beam found, setting include_beam to False\n"
     ]
    },
    {
     "name": "stderr",
     "output_type": "stream",
     "text": [
      "/global/homes/z/ztchen/.conda/envs/meer21cm/lib/python3.10/site-packages/numpy/fft/_helper.py:170: RuntimeWarning: divide by zero encountered in scalar divide\n",
      "  val = 1.0 / (n * d)\n",
      "/global/homes/z/ztchen/.conda/envs/meer21cm/lib/python3.10/site-packages/numpy/fft/_helper.py:170: RuntimeWarning: divide by zero encountered in scalar divide\n",
      "  val = 1.0 / (n * d)\n",
      "/global/homes/z/ztchen/.conda/envs/meer21cm/lib/python3.10/site-packages/numpy/fft/_helper.py:177: RuntimeWarning: invalid value encountered in multiply\n",
      "  return results * val\n",
      "/global/homes/z/ztchen/.conda/envs/meer21cm/lib/python3.10/site-packages/numpy/fft/_helper.py:177: RuntimeWarning: invalid value encountered in multiply\n",
      "  return results * val\n"
     ]
    },
    {
     "name": "stdout",
     "output_type": "stream",
     "text": [
      "Note: redshifts have been re-sorted (earliest first)\n",
      "no input beam found, setting include_beam to False\n",
      "no input beam found, setting include_beam to False\n",
      "Note: redshifts have been re-sorted (earliest first)"
     ]
    },
    {
     "name": "stderr",
     "output_type": "stream",
     "text": [
      "/global/homes/z/ztchen/.conda/envs/meer21cm/lib/python3.10/site-packages/numpy/fft/_helper.py:170: RuntimeWarning: divide by zero encountered in scalar divide\n",
      "  val = 1.0 / (n * d)\n",
      "/global/homes/z/ztchen/.conda/envs/meer21cm/lib/python3.10/site-packages/numpy/fft/_helper.py:170: RuntimeWarning: divide by zero encountered in scalar divide\n",
      "  val = 1.0 / (n * d)\n"
     ]
    },
    {
     "name": "stdout",
     "output_type": "stream",
     "text": [
      "\n"
     ]
    },
    {
     "name": "stderr",
     "output_type": "stream",
     "text": [
      "/global/homes/z/ztchen/.conda/envs/meer21cm/lib/python3.10/site-packages/numpy/fft/_helper.py:177: RuntimeWarning: invalid value encountered in multiply\n",
      "  return results * val\n"
     ]
    },
    {
     "name": "stdout",
     "output_type": "stream",
     "text": [
      "no input beam found, setting include_beam to False\n",
      "no input beam found, setting include_beam to Falseno input beam found, setting include_beam to False"
     ]
    },
    {
     "name": "stderr",
     "output_type": "stream",
     "text": [
      "/global/homes/z/ztchen/.conda/envs/meer21cm/lib/python3.10/site-packages/numpy/fft/_helper.py:177: RuntimeWarning: invalid value encountered in multiply\n",
      "  return results * val\n"
     ]
    },
    {
     "name": "stdout",
     "output_type": "stream",
     "text": [
      "\n",
      "no input beam found, setting include_beam to False\n",
      "\n"
     ]
    },
    {
     "name": "stderr",
     "output_type": "stream",
     "text": [
      "/global/homes/z/ztchen/.conda/envs/meer21cm/lib/python3.10/site-packages/numpy/fft/_helper.py:170: RuntimeWarning: divide by zero encountered in scalar divide\n",
      "  val = 1.0 / (n * d)\n",
      "/global/homes/z/ztchen/.conda/envs/meer21cm/lib/python3.10/site-packages/numpy/fft/_helper.py:170: RuntimeWarning: divide by zero encountered in scalar divide\n",
      "  val = 1.0 / (n * d)\n"
     ]
    },
    {
     "name": "stdout",
     "output_type": "stream",
     "text": [
      "no input beam found, setting include_beam to False"
     ]
    },
    {
     "name": "stderr",
     "output_type": "stream",
     "text": [
      "/global/homes/z/ztchen/.conda/envs/meer21cm/lib/python3.10/site-packages/numpy/fft/_helper.py:177: RuntimeWarning: invalid value encountered in multiply\n",
      "  return results * val\n"
     ]
    },
    {
     "name": "stdout",
     "output_type": "stream",
     "text": [
      "\n"
     ]
    },
    {
     "name": "stderr",
     "output_type": "stream",
     "text": [
      "/global/homes/z/ztchen/.conda/envs/meer21cm/lib/python3.10/site-packages/numpy/fft/_helper.py:177: RuntimeWarning: invalid value encountered in multiply\n",
      "  return results * val\n",
      "/global/homes/z/ztchen/.conda/envs/meer21cm/lib/python3.10/site-packages/numpy/fft/_helper.py:170: RuntimeWarning: divide by zero encountered in scalar divide\n",
      "  val = 1.0 / (n * d)\n"
     ]
    },
    {
     "name": "stdout",
     "output_type": "stream",
     "text": [
      "no input beam found, setting include_beam to False"
     ]
    },
    {
     "name": "stderr",
     "output_type": "stream",
     "text": [
      "/global/homes/z/ztchen/.conda/envs/meer21cm/lib/python3.10/site-packages/numpy/fft/_helper.py:170: RuntimeWarning: divide by zero encountered in scalar divide\n",
      "  val = 1.0 / (n * d)\n"
     ]
    },
    {
     "name": "stdout",
     "output_type": "stream",
     "text": [
      "no input beam found, setting include_beam to False"
     ]
    },
    {
     "name": "stderr",
     "output_type": "stream",
     "text": [
      "/global/homes/z/ztchen/.conda/envs/meer21cm/lib/python3.10/site-packages/numpy/fft/_helper.py:177: RuntimeWarning: invalid value encountered in multiply\n",
      "  return results * val\n"
     ]
    },
    {
     "name": "stdout",
     "output_type": "stream",
     "text": [
      "\n",
      "no input beam found, setting include_beam to False\n"
     ]
    },
    {
     "name": "stderr",
     "output_type": "stream",
     "text": [
      "/global/homes/z/ztchen/.conda/envs/meer21cm/lib/python3.10/site-packages/numpy/fft/_helper.py:177: RuntimeWarning: invalid value encountered in multiply\n",
      "  return results * val\n"
     ]
    },
    {
     "name": "stdout",
     "output_type": "stream",
     "text": [
      "Note: redshifts have been re-sorted (earliest first)no input beam found, setting include_beam to False\n",
      "no input beam found, setting include_beam to False\n",
      "\n",
      "no input beam found, setting include_beam to Falseno input beam found, setting include_beam to FalseNote: redshifts have been re-sorted (earliest first)no input beam found, setting include_beam to False\n",
      "\n",
      "\n",
      "no input beam found, setting include_beam to False\n",
      "no input beam found, setting include_beam to False\n",
      "Note: redshifts have been re-sorted (earliest first)\n"
     ]
    },
    {
     "name": "stderr",
     "output_type": "stream",
     "text": [
      "/global/homes/z/ztchen/.conda/envs/meer21cm/lib/python3.10/site-packages/numpy/fft/_helper.py:170: RuntimeWarning: divide by zero encountered in scalar divide\n",
      "  val = 1.0 / (n * d)\n"
     ]
    },
    {
     "name": "stdout",
     "output_type": "stream",
     "text": [
      "\n"
     ]
    },
    {
     "name": "stderr",
     "output_type": "stream",
     "text": [
      "/global/homes/z/ztchen/.conda/envs/meer21cm/lib/python3.10/site-packages/numpy/fft/_helper.py:170: RuntimeWarning: divide by zero encountered in scalar divide\n",
      "  val = 1.0 / (n * d)\n"
     ]
    },
    {
     "name": "stdout",
     "output_type": "stream",
     "text": [
      "no input beam found, setting include_beam to FalseNote: redshifts have been re-sorted (earliest first)"
     ]
    },
    {
     "name": "stderr",
     "output_type": "stream",
     "text": [
      "/global/homes/z/ztchen/.conda/envs/meer21cm/lib/python3.10/site-packages/numpy/fft/_helper.py:177: RuntimeWarning: invalid value encountered in multiply\n",
      "  return results * val\n"
     ]
    },
    {
     "name": "stdout",
     "output_type": "stream",
     "text": [
      "no input beam found, setting include_beam to False"
     ]
    },
    {
     "name": "stderr",
     "output_type": "stream",
     "text": [
      "/global/homes/z/ztchen/.conda/envs/meer21cm/lib/python3.10/site-packages/numpy/fft/_helper.py:177: RuntimeWarning: invalid value encountered in multiply\n",
      "  return results * val\n"
     ]
    },
    {
     "name": "stdout",
     "output_type": "stream",
     "text": [
      "\n",
      "Note: redshifts have been re-sorted (earliest first)"
     ]
    },
    {
     "name": "stderr",
     "output_type": "stream",
     "text": [
      "/global/homes/z/ztchen/.conda/envs/meer21cm/lib/python3.10/site-packages/numpy/fft/_helper.py:177: RuntimeWarning: invalid value encountered in multiply\n",
      "  return results * val\n",
      "/global/homes/z/ztchen/.conda/envs/meer21cm/lib/python3.10/site-packages/numpy/fft/_helper.py:170: RuntimeWarning: divide by zero encountered in scalar divide\n",
      "  val = 1.0 / (n * d)\n",
      "/global/homes/z/ztchen/.conda/envs/meer21cm/lib/python3.10/site-packages/numpy/fft/_helper.py:170: RuntimeWarning: divide by zero encountered in scalar divide\n",
      "  val = 1.0 / (n * d)\n"
     ]
    },
    {
     "name": "stdout",
     "output_type": "stream",
     "text": [
      "\n"
     ]
    },
    {
     "name": "stderr",
     "output_type": "stream",
     "text": [
      "/global/homes/z/ztchen/.conda/envs/meer21cm/lib/python3.10/site-packages/numpy/fft/_helper.py:170: RuntimeWarning: divide by zero encountered in scalar divide\n",
      "  val = 1.0 / (n * d)\n"
     ]
    },
    {
     "name": "stdout",
     "output_type": "stream",
     "text": [
      "Note: redshifts have been re-sorted (earliest first)"
     ]
    },
    {
     "name": "stderr",
     "output_type": "stream",
     "text": [
      "/global/homes/z/ztchen/.conda/envs/meer21cm/lib/python3.10/site-packages/numpy/fft/_helper.py:177: RuntimeWarning: invalid value encountered in multiply\n",
      "  return results * val\n",
      "/global/homes/z/ztchen/.conda/envs/meer21cm/lib/python3.10/site-packages/numpy/fft/_helper.py:170: RuntimeWarning: divide by zero encountered in scalar divide\n",
      "  val = 1.0 / (n * d)\n",
      "/global/homes/z/ztchen/.conda/envs/meer21cm/lib/python3.10/site-packages/numpy/fft/_helper.py:170: RuntimeWarning: divide by zero encountered in scalar divide\n",
      "  val = 1.0 / (n * d)\n",
      "/global/homes/z/ztchen/.conda/envs/meer21cm/lib/python3.10/site-packages/numpy/fft/_helper.py:177: RuntimeWarning: invalid value encountered in multiply\n",
      "  return results * val\n",
      "/global/homes/z/ztchen/.conda/envs/meer21cm/lib/python3.10/site-packages/numpy/fft/_helper.py:170: RuntimeWarning: divide by zero encountered in scalar divide\n",
      "  val = 1.0 / (n * d)\n"
     ]
    },
    {
     "name": "stdout",
     "output_type": "stream",
     "text": [
      "\n"
     ]
    },
    {
     "name": "stderr",
     "output_type": "stream",
     "text": [
      "/global/homes/z/ztchen/.conda/envs/meer21cm/lib/python3.10/site-packages/numpy/fft/_helper.py:170: RuntimeWarning: divide by zero encountered in scalar divide\n",
      "  val = 1.0 / (n * d)\n",
      "/global/homes/z/ztchen/.conda/envs/meer21cm/lib/python3.10/site-packages/numpy/fft/_helper.py:170: RuntimeWarning: divide by zero encountered in scalar divide\n",
      "  val = 1.0 / (n * d)\n",
      "/global/homes/z/ztchen/.conda/envs/meer21cm/lib/python3.10/site-packages/numpy/fft/_helper.py:177: RuntimeWarning: invalid value encountered in multiply\n",
      "  return results * val\n",
      "/global/homes/z/ztchen/.conda/envs/meer21cm/lib/python3.10/site-packages/numpy/fft/_helper.py:177: RuntimeWarning: invalid value encountered in multiply\n",
      "  return results * val\n",
      "/global/homes/z/ztchen/.conda/envs/meer21cm/lib/python3.10/site-packages/numpy/fft/_helper.py:170: RuntimeWarning: divide by zero encountered in scalar divide\n",
      "  val = 1.0 / (n * d)\n",
      "/global/homes/z/ztchen/.conda/envs/meer21cm/lib/python3.10/site-packages/numpy/fft/_helper.py:177: RuntimeWarning: invalid value encountered in multiply\n",
      "  return results * val\n",
      "/global/homes/z/ztchen/.conda/envs/meer21cm/lib/python3.10/site-packages/numpy/fft/_helper.py:177: RuntimeWarning: invalid value encountered in multiply\n",
      "  return results * val\n",
      "/global/homes/z/ztchen/.conda/envs/meer21cm/lib/python3.10/site-packages/numpy/fft/_helper.py:177: RuntimeWarning: invalid value encountered in multiply\n",
      "  return results * val\n"
     ]
    },
    {
     "name": "stdout",
     "output_type": "stream",
     "text": [
      "\n",
      "Note: redshifts have been re-sorted (earliest first)\n",
      "\n",
      "Note: redshifts have been re-sorted (earliest first)no input beam found, setting include_beam to False\n"
     ]
    },
    {
     "name": "stderr",
     "output_type": "stream",
     "text": [
      "/global/homes/z/ztchen/.conda/envs/meer21cm/lib/python3.10/site-packages/numpy/fft/_helper.py:177: RuntimeWarning: invalid value encountered in multiply\n",
      "  return results * val\n"
     ]
    },
    {
     "name": "stdout",
     "output_type": "stream",
     "text": [
      "no input beam found, setting include_beam to False\n",
      "\n",
      "Note: redshifts have been re-sorted (earliest first)Note: redshifts have been re-sorted (earliest first)\n",
      "Note: redshifts have been re-sorted (earliest first)Note: redshifts have been re-sorted (earliest first)no input beam found, setting include_beam to False\n",
      "\n",
      "\n",
      "Note: redshifts have been re-sorted (earliest first)Note: redshifts have been re-sorted (earliest first)\n"
     ]
    },
    {
     "name": "stderr",
     "output_type": "stream",
     "text": [
      "/global/homes/z/ztchen/.conda/envs/meer21cm/lib/python3.10/site-packages/numpy/fft/_helper.py:170: RuntimeWarning: divide by zero encountered in scalar divide\n",
      "  val = 1.0 / (n * d)\n",
      "/global/homes/z/ztchen/.conda/envs/meer21cm/lib/python3.10/site-packages/numpy/fft/_helper.py:170: RuntimeWarning: divide by zero encountered in scalar divide\n",
      "  val = 1.0 / (n * d)\n"
     ]
    },
    {
     "name": "stdout",
     "output_type": "stream",
     "text": [
      "\n",
      "Note: redshifts have been re-sorted (earliest first)no input beam found, setting include_beam to False"
     ]
    },
    {
     "name": "stderr",
     "output_type": "stream",
     "text": [
      "/global/homes/z/ztchen/.conda/envs/meer21cm/lib/python3.10/site-packages/numpy/fft/_helper.py:170: RuntimeWarning: divide by zero encountered in scalar divide\n",
      "  val = 1.0 / (n * d)\n",
      "/global/homes/z/ztchen/.conda/envs/meer21cm/lib/python3.10/site-packages/numpy/fft/_helper.py:170: RuntimeWarning: divide by zero encountered in scalar divide\n",
      "  val = 1.0 / (n * d)\n"
     ]
    },
    {
     "name": "stdout",
     "output_type": "stream",
     "text": [
      "Note: redshifts have been re-sorted (earliest first)"
     ]
    },
    {
     "name": "stderr",
     "output_type": "stream",
     "text": [
      "/global/homes/z/ztchen/.conda/envs/meer21cm/lib/python3.10/site-packages/numpy/fft/_helper.py:177: RuntimeWarning: invalid value encountered in multiply\n",
      "  return results * val\n"
     ]
    },
    {
     "name": "stdout",
     "output_type": "stream",
     "text": [
      "no input beam found, setting include_beam to False\n"
     ]
    },
    {
     "name": "stderr",
     "output_type": "stream",
     "text": [
      "/global/homes/z/ztchen/.conda/envs/meer21cm/lib/python3.10/site-packages/numpy/fft/_helper.py:170: RuntimeWarning: divide by zero encountered in scalar divide\n",
      "  val = 1.0 / (n * d)\n",
      "/global/homes/z/ztchen/.conda/envs/meer21cm/lib/python3.10/site-packages/numpy/fft/_helper.py:177: RuntimeWarning: invalid value encountered in multiply\n",
      "  return results * val\n",
      "/global/homes/z/ztchen/.conda/envs/meer21cm/lib/python3.10/site-packages/numpy/fft/_helper.py:177: RuntimeWarning: invalid value encountered in multiply\n",
      "  return results * val\n"
     ]
    },
    {
     "name": "stdout",
     "output_type": "stream",
     "text": [
      "\n",
      "\n"
     ]
    },
    {
     "name": "stderr",
     "output_type": "stream",
     "text": [
      "/global/homes/z/ztchen/.conda/envs/meer21cm/lib/python3.10/site-packages/numpy/fft/_helper.py:177: RuntimeWarning: invalid value encountered in multiply\n",
      "  return results * val\n"
     ]
    },
    {
     "name": "stdout",
     "output_type": "stream",
     "text": [
      "\n",
      "Note: redshifts have been re-sorted (earliest first)no input beam found, setting include_beam to False\n",
      "Note: redshifts have been re-sorted (earliest first)\n",
      "\n"
     ]
    },
    {
     "name": "stderr",
     "output_type": "stream",
     "text": [
      "/global/homes/z/ztchen/.conda/envs/meer21cm/lib/python3.10/site-packages/numpy/fft/_helper.py:177: RuntimeWarning: invalid value encountered in multiply\n",
      "  return results * val\n"
     ]
    },
    {
     "name": "stdout",
     "output_type": "stream",
     "text": [
      "\n",
      "\n",
      "Note: redshifts have been re-sorted (earliest first)\n",
      "Note: redshifts have been re-sorted (earliest first)"
     ]
    },
    {
     "name": "stderr",
     "output_type": "stream",
     "text": [
      "/global/homes/z/ztchen/.conda/envs/meer21cm/lib/python3.10/site-packages/numpy/fft/_helper.py:170: RuntimeWarning: divide by zero encountered in scalar divide\n",
      "  val = 1.0 / (n * d)\n"
     ]
    },
    {
     "name": "stdout",
     "output_type": "stream",
     "text": [
      "no input beam found, setting include_beam to False"
     ]
    },
    {
     "name": "stderr",
     "output_type": "stream",
     "text": [
      "/global/homes/z/ztchen/.conda/envs/meer21cm/lib/python3.10/site-packages/numpy/fft/_helper.py:177: RuntimeWarning: invalid value encountered in multiply\n",
      "  return results * val\n"
     ]
    },
    {
     "name": "stdout",
     "output_type": "stream",
     "text": [
      "\n",
      "Note: redshifts have been re-sorted (earliest first)\n",
      "Note: redshifts have been re-sorted (earliest first)\n",
      "no input beam found, setting include_beam to False\n",
      "Note: redshifts have been re-sorted (earliest first)\n",
      "no input beam found, setting include_beam to False\n",
      "\n",
      "no input beam found, setting include_beam to False\n",
      "no input beam found, setting include_beam to False\n",
      "no input beam found, setting include_beam to False\n",
      "no input beam found, setting include_beam to False\n",
      "no input beam found, setting include_beam to Falseno input beam found, setting include_beam to False\n",
      "\n",
      "no input beam found, setting include_beam to False\n",
      "no input beam found, setting include_beam to False\n",
      "no input beam found, setting include_beam to False\n",
      "no input beam found, setting include_beam to False\n",
      "no input beam found, setting include_beam to False\n",
      "no input beam found, setting include_beam to False\n",
      "no input beam found, setting include_beam to Falseno input beam found, setting include_beam to Falseno input beam found, setting include_beam to Falseno input beam found, setting include_beam to False\n",
      "\n",
      "\n",
      "\n",
      "no input beam found, setting include_beam to Falseno input beam found, setting include_beam to False\n",
      "no input beam found, setting include_beam to Falseno input beam found, setting include_beam to False\n",
      "\n",
      "\n",
      "no input beam found, setting include_beam to False\n",
      "Note: redshifts have been re-sorted (earliest first)no input beam found, setting include_beam to False\n",
      "no input beam found, setting include_beam to False\n",
      "\n",
      "Note: redshifts have been re-sorted (earliest first)\n",
      "Note: redshifts have been re-sorted (earliest first)\n",
      "Note: redshifts have been re-sorted (earliest first)\n",
      "Note: redshifts have been re-sorted (earliest first)\n",
      "Note: redshifts have been re-sorted (earliest first)\n",
      "Note: redshifts have been re-sorted (earliest first)\n",
      "Note: redshifts have been re-sorted (earliest first)\n",
      "Note: redshifts have been re-sorted (earliest first)\n",
      "Note: redshifts have been re-sorted (earliest first)\n",
      "Note: redshifts have been re-sorted (earliest first)\n",
      "Note: redshifts have been re-sorted (earliest first)\n",
      "Note: redshifts have been re-sorted (earliest first)\n",
      "Note: redshifts have been re-sorted (earliest first)\n",
      "Note: redshifts have been re-sorted (earliest first)\n",
      "Note: redshifts have been re-sorted (earliest first)\n",
      "Note: redshifts have been re-sorted (earliest first)\n",
      "Note: redshifts have been re-sorted (earliest first)\n",
      "Note: redshifts have been re-sorted (earliest first)\n",
      "Note: redshifts have been re-sorted (earliest first)\n",
      "Note: redshifts have been re-sorted (earliest first)\n",
      "Note: redshifts have been re-sorted (earliest first)\n",
      "Note: redshifts have been re-sorted (earliest first)\n",
      "Note: redshifts have been re-sorted (earliest first)\n",
      "Note: redshifts have been re-sorted (earliest first)\n",
      "Note: redshifts have been re-sorted (earliest first)\n",
      "Note: redshifts have been re-sorted (earliest first)\n",
      "Note: redshifts have been re-sorted (earliest first)\n",
      "Note: redshifts have been re-sorted (earliest first)\n",
      "Note: redshifts have been re-sorted (earliest first)\n",
      "Note: redshifts have been re-sorted (earliest first)\n",
      "Note: redshifts have been re-sorted (earliest first)\n",
      "no input beam found, setting include_beam to False\n"
     ]
    },
    {
     "name": "stderr",
     "output_type": "stream",
     "text": [
      "/global/homes/z/ztchen/.conda/envs/meer21cm/lib/python3.10/site-packages/numpy/fft/_helper.py:170: RuntimeWarning: divide by zero encountered in scalar divide\n",
      "  val = 1.0 / (n * d)\n",
      "/global/homes/z/ztchen/.conda/envs/meer21cm/lib/python3.10/site-packages/numpy/fft/_helper.py:177: RuntimeWarning: invalid value encountered in multiply\n",
      "  return results * val\n"
     ]
    },
    {
     "name": "stdout",
     "output_type": "stream",
     "text": [
      "Note: redshifts have been re-sorted (earliest first)\n",
      "no input beam found, setting include_beam to False\n",
      "Note: redshifts have been re-sorted (earliest first)\n",
      "no input beam found, setting include_beam to False\n"
     ]
    },
    {
     "name": "stderr",
     "output_type": "stream",
     "text": [
      "/global/homes/z/ztchen/.conda/envs/meer21cm/lib/python3.10/site-packages/numpy/fft/_helper.py:170: RuntimeWarning: divide by zero encountered in scalar divide\n",
      "  val = 1.0 / (n * d)\n",
      "/global/homes/z/ztchen/.conda/envs/meer21cm/lib/python3.10/site-packages/numpy/fft/_helper.py:177: RuntimeWarning: invalid value encountered in multiply\n",
      "  return results * val\n"
     ]
    },
    {
     "name": "stdout",
     "output_type": "stream",
     "text": [
      "Note: redshifts have been re-sorted (earliest first)\n",
      "Note: redshifts have been re-sorted (earliest first)\n",
      "no input beam found, setting include_beam to False\n",
      "Note: redshifts have been re-sorted (earliest first)\n",
      "no input beam found, setting include_beam to False\n"
     ]
    },
    {
     "name": "stderr",
     "output_type": "stream",
     "text": [
      "/global/homes/z/ztchen/.conda/envs/meer21cm/lib/python3.10/site-packages/numpy/fft/_helper.py:170: RuntimeWarning: divide by zero encountered in scalar divide\n",
      "  val = 1.0 / (n * d)\n",
      "/global/homes/z/ztchen/.conda/envs/meer21cm/lib/python3.10/site-packages/numpy/fft/_helper.py:177: RuntimeWarning: invalid value encountered in multiply\n",
      "  return results * val\n"
     ]
    },
    {
     "name": "stdout",
     "output_type": "stream",
     "text": [
      "Note: redshifts have been re-sorted (earliest first)\n",
      "no input beam found, setting include_beam to False\n",
      "Note: redshifts have been re-sorted (earliest first)\n",
      "no input beam found, setting include_beam to False\n"
     ]
    },
    {
     "name": "stderr",
     "output_type": "stream",
     "text": [
      "/global/homes/z/ztchen/.conda/envs/meer21cm/lib/python3.10/site-packages/numpy/fft/_helper.py:170: RuntimeWarning: divide by zero encountered in scalar divide\n",
      "  val = 1.0 / (n * d)\n",
      "/global/homes/z/ztchen/.conda/envs/meer21cm/lib/python3.10/site-packages/numpy/fft/_helper.py:177: RuntimeWarning: invalid value encountered in multiply\n",
      "  return results * val\n"
     ]
    },
    {
     "name": "stdout",
     "output_type": "stream",
     "text": [
      "Note: redshifts have been re-sorted (earliest first)\n",
      "no input beam found, setting include_beam to False\n",
      "Note: redshifts have been re-sorted (earliest first)\n",
      "no input beam found, setting include_beam to False\n"
     ]
    },
    {
     "name": "stderr",
     "output_type": "stream",
     "text": [
      "/global/homes/z/ztchen/.conda/envs/meer21cm/lib/python3.10/site-packages/numpy/fft/_helper.py:170: RuntimeWarning: divide by zero encountered in scalar divide\n",
      "  val = 1.0 / (n * d)\n",
      "/global/homes/z/ztchen/.conda/envs/meer21cm/lib/python3.10/site-packages/numpy/fft/_helper.py:177: RuntimeWarning: invalid value encountered in multiply\n",
      "  return results * val\n"
     ]
    },
    {
     "name": "stdout",
     "output_type": "stream",
     "text": [
      "Note: redshifts have been re-sorted (earliest first)\n",
      "no input beam found, setting include_beam to False\n",
      "Note: redshifts have been re-sorted (earliest first)\n",
      "Note: redshifts have been re-sorted (earliest first)\n",
      "no input beam found, setting include_beam to False\n"
     ]
    },
    {
     "name": "stderr",
     "output_type": "stream",
     "text": [
      "/global/homes/z/ztchen/.conda/envs/meer21cm/lib/python3.10/site-packages/numpy/fft/_helper.py:170: RuntimeWarning: divide by zero encountered in scalar divide\n",
      "  val = 1.0 / (n * d)\n",
      "/global/homes/z/ztchen/.conda/envs/meer21cm/lib/python3.10/site-packages/numpy/fft/_helper.py:177: RuntimeWarning: invalid value encountered in multiply\n",
      "  return results * val\n"
     ]
    },
    {
     "name": "stdout",
     "output_type": "stream",
     "text": [
      "Note: redshifts have been re-sorted (earliest first)\n",
      "Note: redshifts have been re-sorted (earliest first)no input beam found, setting include_beam to False\n",
      "\n",
      "Note: redshifts have been re-sorted (earliest first)\n",
      "Note: redshifts have been re-sorted (earliest first)\n",
      "Note: redshifts have been re-sorted (earliest first)\n",
      "Note: redshifts have been re-sorted (earliest first)\n",
      "Note: redshifts have been re-sorted (earliest first)\n",
      "no input beam found, setting include_beam to False\n"
     ]
    },
    {
     "name": "stderr",
     "output_type": "stream",
     "text": [
      "/global/homes/z/ztchen/.conda/envs/meer21cm/lib/python3.10/site-packages/numpy/fft/_helper.py:170: RuntimeWarning: divide by zero encountered in scalar divide\n",
      "  val = 1.0 / (n * d)\n",
      "/global/homes/z/ztchen/.conda/envs/meer21cm/lib/python3.10/site-packages/numpy/fft/_helper.py:177: RuntimeWarning: invalid value encountered in multiply\n",
      "  return results * val\n"
     ]
    },
    {
     "name": "stdout",
     "output_type": "stream",
     "text": [
      "Note: redshifts have been re-sorted (earliest first)\n",
      "Note: redshifts have been re-sorted (earliest first)\n",
      "no input beam found, setting include_beam to False\n"
     ]
    },
    {
     "name": "stderr",
     "output_type": "stream",
     "text": [
      "/global/homes/z/ztchen/.conda/envs/meer21cm/lib/python3.10/site-packages/numpy/fft/_helper.py:170: RuntimeWarning: divide by zero encountered in scalar divide\n",
      "  val = 1.0 / (n * d)\n",
      "/global/homes/z/ztchen/.conda/envs/meer21cm/lib/python3.10/site-packages/numpy/fft/_helper.py:177: RuntimeWarning: invalid value encountered in multiply\n",
      "  return results * val\n"
     ]
    },
    {
     "name": "stdout",
     "output_type": "stream",
     "text": [
      "no input beam found, setting include_beam to False\n"
     ]
    },
    {
     "name": "stderr",
     "output_type": "stream",
     "text": [
      "/global/homes/z/ztchen/.conda/envs/meer21cm/lib/python3.10/site-packages/numpy/fft/_helper.py:170: RuntimeWarning: divide by zero encountered in scalar divide\n",
      "  val = 1.0 / (n * d)\n",
      "/global/homes/z/ztchen/.conda/envs/meer21cm/lib/python3.10/site-packages/numpy/fft/_helper.py:177: RuntimeWarning: invalid value encountered in multiply\n",
      "  return results * val\n"
     ]
    },
    {
     "name": "stdout",
     "output_type": "stream",
     "text": [
      "no input beam found, setting include_beam to False\n",
      "Note: redshifts have been re-sorted (earliest first)\n",
      "Note: redshifts have been re-sorted (earliest first)\n",
      "no input beam found, setting include_beam to False\n",
      "no input beam found, setting include_beam to False\n",
      "Note: redshifts have been re-sorted (earliest first)\n",
      "Note: redshifts have been re-sorted (earliest first)\n",
      "no input beam found, setting include_beam to False\n"
     ]
    },
    {
     "name": "stderr",
     "output_type": "stream",
     "text": [
      "/global/homes/z/ztchen/.conda/envs/meer21cm/lib/python3.10/site-packages/numpy/fft/_helper.py:170: RuntimeWarning: divide by zero encountered in scalar divide\n",
      "  val = 1.0 / (n * d)\n",
      "/global/homes/z/ztchen/.conda/envs/meer21cm/lib/python3.10/site-packages/numpy/fft/_helper.py:177: RuntimeWarning: invalid value encountered in multiply\n",
      "  return results * val\n"
     ]
    },
    {
     "name": "stdout",
     "output_type": "stream",
     "text": [
      "Note: redshifts have been re-sorted (earliest first)\n",
      "no input beam found, setting include_beam to False\n",
      "Note: redshifts have been re-sorted (earliest first)\n",
      "Note: redshifts have been re-sorted (earliest first)\n",
      "Note: redshifts have been re-sorted (earliest first)\n",
      "Note: redshifts have been re-sorted (earliest first)\n",
      "no input beam found, setting include_beam to False\n"
     ]
    },
    {
     "name": "stderr",
     "output_type": "stream",
     "text": [
      "/global/homes/z/ztchen/.conda/envs/meer21cm/lib/python3.10/site-packages/numpy/fft/_helper.py:170: RuntimeWarning: divide by zero encountered in scalar divide\n",
      "  val = 1.0 / (n * d)\n",
      "/global/homes/z/ztchen/.conda/envs/meer21cm/lib/python3.10/site-packages/numpy/fft/_helper.py:177: RuntimeWarning: invalid value encountered in multiply\n",
      "  return results * val\n"
     ]
    },
    {
     "name": "stdout",
     "output_type": "stream",
     "text": [
      "Note: redshifts have been re-sorted (earliest first)\n",
      "Note: redshifts have been re-sorted (earliest first)\n",
      "no input beam found, setting include_beam to False\n"
     ]
    },
    {
     "name": "stderr",
     "output_type": "stream",
     "text": [
      "/global/homes/z/ztchen/.conda/envs/meer21cm/lib/python3.10/site-packages/numpy/fft/_helper.py:170: RuntimeWarning: divide by zero encountered in scalar divide\n",
      "  val = 1.0 / (n * d)\n",
      "/global/homes/z/ztchen/.conda/envs/meer21cm/lib/python3.10/site-packages/numpy/fft/_helper.py:177: RuntimeWarning: invalid value encountered in multiply\n",
      "  return results * val\n"
     ]
    },
    {
     "name": "stdout",
     "output_type": "stream",
     "text": [
      "no input beam found, setting include_beam to False\n",
      "Note: redshifts have been re-sorted (earliest first)\n",
      "no input beam found, setting include_beam to False\n",
      "Note: redshifts have been re-sorted (earliest first)\n",
      "no input beam found, setting include_beam to False\n"
     ]
    },
    {
     "name": "stderr",
     "output_type": "stream",
     "text": [
      "/global/homes/z/ztchen/.conda/envs/meer21cm/lib/python3.10/site-packages/numpy/fft/_helper.py:170: RuntimeWarning: divide by zero encountered in scalar divide\n",
      "  val = 1.0 / (n * d)\n",
      "/global/homes/z/ztchen/.conda/envs/meer21cm/lib/python3.10/site-packages/numpy/fft/_helper.py:177: RuntimeWarning: invalid value encountered in multiply\n",
      "  return results * val\n"
     ]
    },
    {
     "name": "stdout",
     "output_type": "stream",
     "text": [
      "Note: redshifts have been re-sorted (earliest first)\n",
      "no input beam found, setting include_beam to False\n",
      "Note: redshifts have been re-sorted (earliest first)\n",
      "Note: redshifts have been re-sorted (earliest first)\n",
      "no input beam found, setting include_beam to False\n"
     ]
    },
    {
     "name": "stderr",
     "output_type": "stream",
     "text": [
      "/global/homes/z/ztchen/.conda/envs/meer21cm/lib/python3.10/site-packages/numpy/fft/_helper.py:170: RuntimeWarning: divide by zero encountered in scalar divide\n",
      "  val = 1.0 / (n * d)\n",
      "/global/homes/z/ztchen/.conda/envs/meer21cm/lib/python3.10/site-packages/numpy/fft/_helper.py:177: RuntimeWarning: invalid value encountered in multiply\n",
      "  return results * val\n"
     ]
    },
    {
     "name": "stdout",
     "output_type": "stream",
     "text": [
      "Note: redshifts have been re-sorted (earliest first)\n",
      "no input beam found, setting include_beam to False\n",
      "Note: redshifts have been re-sorted (earliest first)\n",
      "no input beam found, setting include_beam to False\n"
     ]
    },
    {
     "name": "stderr",
     "output_type": "stream",
     "text": [
      "/global/homes/z/ztchen/.conda/envs/meer21cm/lib/python3.10/site-packages/numpy/fft/_helper.py:170: RuntimeWarning: divide by zero encountered in scalar divide\n",
      "  val = 1.0 / (n * d)\n",
      "/global/homes/z/ztchen/.conda/envs/meer21cm/lib/python3.10/site-packages/numpy/fft/_helper.py:177: RuntimeWarning: invalid value encountered in multiply\n",
      "  return results * val\n"
     ]
    },
    {
     "name": "stdout",
     "output_type": "stream",
     "text": [
      "Note: redshifts have been re-sorted (earliest first)\n",
      "Note: redshifts have been re-sorted (earliest first)\n",
      "no input beam found, setting include_beam to False\n",
      "no input beam found, setting include_beam to False\n"
     ]
    },
    {
     "name": "stderr",
     "output_type": "stream",
     "text": [
      "/global/homes/z/ztchen/.conda/envs/meer21cm/lib/python3.10/site-packages/numpy/fft/_helper.py:170: RuntimeWarning: divide by zero encountered in scalar divide\n",
      "  val = 1.0 / (n * d)\n",
      "/global/homes/z/ztchen/.conda/envs/meer21cm/lib/python3.10/site-packages/numpy/fft/_helper.py:177: RuntimeWarning: invalid value encountered in multiply\n",
      "  return results * val\n"
     ]
    },
    {
     "name": "stdout",
     "output_type": "stream",
     "text": [
      "Note: redshifts have been re-sorted (earliest first)\n",
      "no input beam found, setting include_beam to False\n",
      "Note: redshifts have been re-sorted (earliest first)\n",
      "Note: redshifts have been re-sorted (earliest first)\n",
      "Note: redshifts have been re-sorted (earliest first)\n",
      "Note: redshifts have been re-sorted (earliest first)\n",
      "no input beam found, setting include_beam to False\n"
     ]
    },
    {
     "name": "stderr",
     "output_type": "stream",
     "text": [
      "/global/homes/z/ztchen/.conda/envs/meer21cm/lib/python3.10/site-packages/numpy/fft/_helper.py:170: RuntimeWarning: divide by zero encountered in scalar divide\n",
      "  val = 1.0 / (n * d)\n",
      "/global/homes/z/ztchen/.conda/envs/meer21cm/lib/python3.10/site-packages/numpy/fft/_helper.py:177: RuntimeWarning: invalid value encountered in multiply\n",
      "  return results * val\n"
     ]
    },
    {
     "name": "stdout",
     "output_type": "stream",
     "text": [
      "Note: redshifts have been re-sorted (earliest first)\n",
      "no input beam found, setting include_beam to False\n",
      "Note: redshifts have been re-sorted (earliest first)\n",
      "Note: redshifts have been re-sorted (earliest first)\n",
      "Note: redshifts have been re-sorted (earliest first)\n",
      "Note: redshifts have been re-sorted (earliest first)\n",
      "no input beam found, setting include_beam to False\n"
     ]
    },
    {
     "name": "stderr",
     "output_type": "stream",
     "text": [
      "/global/homes/z/ztchen/.conda/envs/meer21cm/lib/python3.10/site-packages/numpy/fft/_helper.py:170: RuntimeWarning: divide by zero encountered in scalar divide\n",
      "  val = 1.0 / (n * d)\n",
      "/global/homes/z/ztchen/.conda/envs/meer21cm/lib/python3.10/site-packages/numpy/fft/_helper.py:177: RuntimeWarning: invalid value encountered in multiply\n",
      "  return results * val\n"
     ]
    },
    {
     "name": "stdout",
     "output_type": "stream",
     "text": [
      "Note: redshifts have been re-sorted (earliest first)\n",
      "no input beam found, setting include_beam to False\n",
      "Note: redshifts have been re-sorted (earliest first)\n",
      "Note: redshifts have been re-sorted (earliest first)\n",
      "Note: redshifts have been re-sorted (earliest first)\n",
      "no input beam found, setting include_beam to False\n"
     ]
    },
    {
     "name": "stderr",
     "output_type": "stream",
     "text": [
      "/global/homes/z/ztchen/.conda/envs/meer21cm/lib/python3.10/site-packages/numpy/fft/_helper.py:170: RuntimeWarning: divide by zero encountered in scalar divide\n",
      "  val = 1.0 / (n * d)\n",
      "/global/homes/z/ztchen/.conda/envs/meer21cm/lib/python3.10/site-packages/numpy/fft/_helper.py:177: RuntimeWarning: invalid value encountered in multiply\n",
      "  return results * val\n"
     ]
    },
    {
     "name": "stdout",
     "output_type": "stream",
     "text": [
      "Note: redshifts have been re-sorted (earliest first)\n",
      "no input beam found, setting include_beam to False\n",
      "Note: redshifts have been re-sorted (earliest first)\n",
      "no input beam found, setting include_beam to False\n"
     ]
    },
    {
     "name": "stderr",
     "output_type": "stream",
     "text": [
      "/global/homes/z/ztchen/.conda/envs/meer21cm/lib/python3.10/site-packages/numpy/fft/_helper.py:170: RuntimeWarning: divide by zero encountered in scalar divide\n",
      "  val = 1.0 / (n * d)\n",
      "/global/homes/z/ztchen/.conda/envs/meer21cm/lib/python3.10/site-packages/numpy/fft/_helper.py:177: RuntimeWarning: invalid value encountered in multiply\n",
      "  return results * val\n"
     ]
    },
    {
     "name": "stdout",
     "output_type": "stream",
     "text": [
      "Note: redshifts have been re-sorted (earliest first)\n",
      "no input beam found, setting include_beam to False\n",
      "Note: redshifts have been re-sorted (earliest first)\n",
      "no input beam found, setting include_beam to False\n"
     ]
    },
    {
     "name": "stderr",
     "output_type": "stream",
     "text": [
      "/global/homes/z/ztchen/.conda/envs/meer21cm/lib/python3.10/site-packages/numpy/fft/_helper.py:170: RuntimeWarning: divide by zero encountered in scalar divide\n",
      "  val = 1.0 / (n * d)\n",
      "/global/homes/z/ztchen/.conda/envs/meer21cm/lib/python3.10/site-packages/numpy/fft/_helper.py:177: RuntimeWarning: invalid value encountered in multiply\n",
      "  return results * val\n"
     ]
    },
    {
     "name": "stdout",
     "output_type": "stream",
     "text": [
      "Note: redshifts have been re-sorted (earliest first)\n",
      "no input beam found, setting include_beam to False\n",
      "Note: redshifts have been re-sorted (earliest first)\n",
      "no input beam found, setting include_beam to False\n"
     ]
    },
    {
     "name": "stderr",
     "output_type": "stream",
     "text": [
      "/global/homes/z/ztchen/.conda/envs/meer21cm/lib/python3.10/site-packages/numpy/fft/_helper.py:170: RuntimeWarning: divide by zero encountered in scalar divide\n",
      "  val = 1.0 / (n * d)\n",
      "/global/homes/z/ztchen/.conda/envs/meer21cm/lib/python3.10/site-packages/numpy/fft/_helper.py:177: RuntimeWarning: invalid value encountered in multiply\n",
      "  return results * val\n"
     ]
    },
    {
     "name": "stdout",
     "output_type": "stream",
     "text": [
      "Note: redshifts have been re-sorted (earliest first)\n",
      "no input beam found, setting include_beam to False\n",
      "Note: redshifts have been re-sorted (earliest first)\n",
      "Note: redshifts have been re-sorted (earliest first)\n",
      "no input beam found, setting include_beam to False\n"
     ]
    },
    {
     "name": "stderr",
     "output_type": "stream",
     "text": [
      "/global/homes/z/ztchen/.conda/envs/meer21cm/lib/python3.10/site-packages/numpy/fft/_helper.py:170: RuntimeWarning: divide by zero encountered in scalar divide\n",
      "  val = 1.0 / (n * d)\n",
      "/global/homes/z/ztchen/.conda/envs/meer21cm/lib/python3.10/site-packages/numpy/fft/_helper.py:177: RuntimeWarning: invalid value encountered in multiply\n",
      "  return results * val\n"
     ]
    },
    {
     "name": "stdout",
     "output_type": "stream",
     "text": [
      "no input beam found, setting include_beam to False\n"
     ]
    },
    {
     "name": "stderr",
     "output_type": "stream",
     "text": [
      "/global/homes/z/ztchen/.conda/envs/meer21cm/lib/python3.10/site-packages/numpy/fft/_helper.py:170: RuntimeWarning: divide by zero encountered in scalar divide\n",
      "  val = 1.0 / (n * d)\n",
      "/global/homes/z/ztchen/.conda/envs/meer21cm/lib/python3.10/site-packages/numpy/fft/_helper.py:177: RuntimeWarning: invalid value encountered in multiply\n",
      "  return results * val\n"
     ]
    },
    {
     "name": "stdout",
     "output_type": "stream",
     "text": [
      "Note: redshifts have been re-sorted (earliest first)\n",
      "Note: redshifts have been re-sorted (earliest first)\n",
      "no input beam found, setting include_beam to False\n",
      "Note: redshifts have been re-sorted (earliest first)\n",
      "no input beam found, setting include_beam to False\n",
      "no input beam found, setting include_beam to False\n"
     ]
    },
    {
     "name": "stderr",
     "output_type": "stream",
     "text": [
      "/global/homes/z/ztchen/.conda/envs/meer21cm/lib/python3.10/site-packages/numpy/fft/_helper.py:170: RuntimeWarning: divide by zero encountered in scalar divide\n",
      "  val = 1.0 / (n * d)\n",
      "/global/homes/z/ztchen/.conda/envs/meer21cm/lib/python3.10/site-packages/numpy/fft/_helper.py:177: RuntimeWarning: invalid value encountered in multiply\n",
      "  return results * val\n"
     ]
    },
    {
     "name": "stdout",
     "output_type": "stream",
     "text": [
      "Note: redshifts have been re-sorted (earliest first)\n",
      "no input beam found, setting include_beam to False\n",
      "Note: redshifts have been re-sorted (earliest first)\n",
      "Note: redshifts have been re-sorted (earliest first)\n",
      "no input beam found, setting include_beam to False\n"
     ]
    },
    {
     "name": "stderr",
     "output_type": "stream",
     "text": [
      "/global/homes/z/ztchen/.conda/envs/meer21cm/lib/python3.10/site-packages/numpy/fft/_helper.py:170: RuntimeWarning: divide by zero encountered in scalar divide\n",
      "  val = 1.0 / (n * d)\n",
      "/global/homes/z/ztchen/.conda/envs/meer21cm/lib/python3.10/site-packages/numpy/fft/_helper.py:177: RuntimeWarning: invalid value encountered in multiply\n",
      "  return results * val\n"
     ]
    },
    {
     "name": "stdout",
     "output_type": "stream",
     "text": [
      "Note: redshifts have been re-sorted (earliest first)\n",
      "Note: redshifts have been re-sorted (earliest first)\n",
      "no input beam found, setting include_beam to False\n"
     ]
    },
    {
     "name": "stderr",
     "output_type": "stream",
     "text": [
      "/global/homes/z/ztchen/.conda/envs/meer21cm/lib/python3.10/site-packages/numpy/fft/_helper.py:170: RuntimeWarning: divide by zero encountered in scalar divide\n",
      "  val = 1.0 / (n * d)\n",
      "/global/homes/z/ztchen/.conda/envs/meer21cm/lib/python3.10/site-packages/numpy/fft/_helper.py:177: RuntimeWarning: invalid value encountered in multiply\n",
      "  return results * val\n"
     ]
    },
    {
     "name": "stdout",
     "output_type": "stream",
     "text": [
      "no input beam found, setting include_beam to False\n",
      "Note: redshifts have been re-sorted (earliest first)\n",
      "no input beam found, setting include_beam to False\n",
      "Note: redshifts have been re-sorted (earliest first)\n",
      "Note: redshifts have been re-sorted (earliest first)\n",
      "Note: redshifts have been re-sorted (earliest first)\n",
      "no input beam found, setting include_beam to False\n"
     ]
    },
    {
     "name": "stderr",
     "output_type": "stream",
     "text": [
      "/global/homes/z/ztchen/.conda/envs/meer21cm/lib/python3.10/site-packages/numpy/fft/_helper.py:170: RuntimeWarning: divide by zero encountered in scalar divide\n",
      "  val = 1.0 / (n * d)\n",
      "/global/homes/z/ztchen/.conda/envs/meer21cm/lib/python3.10/site-packages/numpy/fft/_helper.py:177: RuntimeWarning: invalid value encountered in multiply\n",
      "  return results * val\n"
     ]
    },
    {
     "name": "stdout",
     "output_type": "stream",
     "text": [
      "Note: redshifts have been re-sorted (earliest first)\n",
      "Note: redshifts have been re-sorted (earliest first)\n",
      "no input beam found, setting include_beam to False\n"
     ]
    },
    {
     "name": "stderr",
     "output_type": "stream",
     "text": [
      "/global/homes/z/ztchen/.conda/envs/meer21cm/lib/python3.10/site-packages/numpy/fft/_helper.py:170: RuntimeWarning: divide by zero encountered in scalar divide\n",
      "  val = 1.0 / (n * d)\n",
      "/global/homes/z/ztchen/.conda/envs/meer21cm/lib/python3.10/site-packages/numpy/fft/_helper.py:177: RuntimeWarning: invalid value encountered in multiply\n",
      "  return results * val\n"
     ]
    },
    {
     "name": "stdout",
     "output_type": "stream",
     "text": [
      "no input beam found, setting include_beam to False\n",
      "Note: redshifts have been re-sorted (earliest first)\n",
      "no input beam found, setting include_beam to False\n",
      "Note: redshifts have been re-sorted (earliest first)\n",
      "no input beam found, setting include_beam to False\n"
     ]
    },
    {
     "name": "stderr",
     "output_type": "stream",
     "text": [
      "/global/homes/z/ztchen/.conda/envs/meer21cm/lib/python3.10/site-packages/numpy/fft/_helper.py:170: RuntimeWarning: divide by zero encountered in scalar divide\n",
      "  val = 1.0 / (n * d)\n",
      "/global/homes/z/ztchen/.conda/envs/meer21cm/lib/python3.10/site-packages/numpy/fft/_helper.py:177: RuntimeWarning: invalid value encountered in multiply\n",
      "  return results * val\n"
     ]
    },
    {
     "name": "stdout",
     "output_type": "stream",
     "text": [
      "Note: redshifts have been re-sorted (earliest first)\n",
      "no input beam found, setting include_beam to False\n",
      "Note: redshifts have been re-sorted (earliest first)\n",
      "Note: redshifts have been re-sorted (earliest first)Note: redshifts have been re-sorted (earliest first)\n",
      "\n",
      "no input beam found, setting include_beam to False\n"
     ]
    },
    {
     "name": "stderr",
     "output_type": "stream",
     "text": [
      "/global/homes/z/ztchen/.conda/envs/meer21cm/lib/python3.10/site-packages/numpy/fft/_helper.py:170: RuntimeWarning: divide by zero encountered in scalar divide\n",
      "  val = 1.0 / (n * d)\n",
      "/global/homes/z/ztchen/.conda/envs/meer21cm/lib/python3.10/site-packages/numpy/fft/_helper.py:177: RuntimeWarning: invalid value encountered in multiply\n",
      "  return results * val\n"
     ]
    },
    {
     "name": "stdout",
     "output_type": "stream",
     "text": [
      "no input beam found, setting include_beam to False\n"
     ]
    },
    {
     "name": "stderr",
     "output_type": "stream",
     "text": [
      "/global/homes/z/ztchen/.conda/envs/meer21cm/lib/python3.10/site-packages/numpy/fft/_helper.py:170: RuntimeWarning: divide by zero encountered in scalar divide\n",
      "  val = 1.0 / (n * d)\n",
      "/global/homes/z/ztchen/.conda/envs/meer21cm/lib/python3.10/site-packages/numpy/fft/_helper.py:177: RuntimeWarning: invalid value encountered in multiply\n",
      "  return results * val\n"
     ]
    },
    {
     "name": "stdout",
     "output_type": "stream",
     "text": [
      "Note: redshifts have been re-sorted (earliest first)\n",
      "Note: redshifts have been re-sorted (earliest first)\n",
      "no input beam found, setting include_beam to FalseNote: redshifts have been re-sorted (earliest first)\n",
      "no input beam found, setting include_beam to False\n",
      "\n",
      "Note: redshifts have been re-sorted (earliest first)\n",
      "Note: redshifts have been re-sorted (earliest first)\n",
      "Note: redshifts have been re-sorted (earliest first)\n",
      "Note: redshifts have been re-sorted (earliest first)\n",
      "Note: redshifts have been re-sorted (earliest first)\n",
      "Note: redshifts have been re-sorted (earliest first)\n",
      "Note: redshifts have been re-sorted (earliest first)\n",
      "no input beam found, setting include_beam to False\n"
     ]
    },
    {
     "name": "stderr",
     "output_type": "stream",
     "text": [
      "/global/homes/z/ztchen/.conda/envs/meer21cm/lib/python3.10/site-packages/numpy/fft/_helper.py:170: RuntimeWarning: divide by zero encountered in scalar divide\n",
      "  val = 1.0 / (n * d)\n",
      "/global/homes/z/ztchen/.conda/envs/meer21cm/lib/python3.10/site-packages/numpy/fft/_helper.py:177: RuntimeWarning: invalid value encountered in multiply\n",
      "  return results * val\n"
     ]
    },
    {
     "name": "stdout",
     "output_type": "stream",
     "text": [
      "no input beam found, setting include_beam to FalseNote: redshifts have been re-sorted (earliest first)\n",
      "\n"
     ]
    },
    {
     "name": "stderr",
     "output_type": "stream",
     "text": [
      "/global/homes/z/ztchen/.conda/envs/meer21cm/lib/python3.10/site-packages/numpy/fft/_helper.py:170: RuntimeWarning: divide by zero encountered in scalar divide\n",
      "  val = 1.0 / (n * d)\n",
      "/global/homes/z/ztchen/.conda/envs/meer21cm/lib/python3.10/site-packages/numpy/fft/_helper.py:177: RuntimeWarning: invalid value encountered in multiply\n",
      "  return results * val\n"
     ]
    },
    {
     "name": "stdout",
     "output_type": "stream",
     "text": [
      "no input beam found, setting include_beam to False\n"
     ]
    },
    {
     "name": "stderr",
     "output_type": "stream",
     "text": [
      "/global/homes/z/ztchen/.conda/envs/meer21cm/lib/python3.10/site-packages/numpy/fft/_helper.py:170: RuntimeWarning: divide by zero encountered in scalar divide\n",
      "  val = 1.0 / (n * d)\n",
      "/global/homes/z/ztchen/.conda/envs/meer21cm/lib/python3.10/site-packages/numpy/fft/_helper.py:177: RuntimeWarning: invalid value encountered in multiply\n",
      "  return results * val\n"
     ]
    },
    {
     "name": "stdout",
     "output_type": "stream",
     "text": [
      "Note: redshifts have been re-sorted (earliest first)\n",
      "no input beam found, setting include_beam to False\n",
      "Note: redshifts have been re-sorted (earliest first)\n",
      "Note: redshifts have been re-sorted (earliest first)\n",
      "no input beam found, setting include_beam to False\n",
      "no input beam found, setting include_beam to False\n",
      "no input beam found, setting include_beam to False\n"
     ]
    },
    {
     "name": "stderr",
     "output_type": "stream",
     "text": [
      "/global/homes/z/ztchen/.conda/envs/meer21cm/lib/python3.10/site-packages/numpy/fft/_helper.py:170: RuntimeWarning: divide by zero encountered in scalar divide\n",
      "  val = 1.0 / (n * d)\n",
      "/global/homes/z/ztchen/.conda/envs/meer21cm/lib/python3.10/site-packages/numpy/fft/_helper.py:177: RuntimeWarning: invalid value encountered in multiply\n",
      "  return results * val\n"
     ]
    },
    {
     "name": "stdout",
     "output_type": "stream",
     "text": [
      "Note: redshifts have been re-sorted (earliest first)\n",
      "no input beam found, setting include_beam to False\n",
      "Note: redshifts have been re-sorted (earliest first)\n",
      "no input beam found, setting include_beam to False\n"
     ]
    },
    {
     "name": "stderr",
     "output_type": "stream",
     "text": [
      "/global/homes/z/ztchen/.conda/envs/meer21cm/lib/python3.10/site-packages/numpy/fft/_helper.py:170: RuntimeWarning: divide by zero encountered in scalar divide\n",
      "  val = 1.0 / (n * d)\n",
      "/global/homes/z/ztchen/.conda/envs/meer21cm/lib/python3.10/site-packages/numpy/fft/_helper.py:177: RuntimeWarning: invalid value encountered in multiply\n",
      "  return results * val\n"
     ]
    },
    {
     "name": "stdout",
     "output_type": "stream",
     "text": [
      "Note: redshifts have been re-sorted (earliest first)\n",
      "no input beam found, setting include_beam to False\n",
      "Note: redshifts have been re-sorted (earliest first)\n",
      "no input beam found, setting include_beam to False\n"
     ]
    },
    {
     "name": "stderr",
     "output_type": "stream",
     "text": [
      "/global/homes/z/ztchen/.conda/envs/meer21cm/lib/python3.10/site-packages/numpy/fft/_helper.py:170: RuntimeWarning: divide by zero encountered in scalar divide\n",
      "  val = 1.0 / (n * d)\n",
      "/global/homes/z/ztchen/.conda/envs/meer21cm/lib/python3.10/site-packages/numpy/fft/_helper.py:177: RuntimeWarning: invalid value encountered in multiply\n",
      "  return results * val\n"
     ]
    },
    {
     "name": "stdout",
     "output_type": "stream",
     "text": [
      "Note: redshifts have been re-sorted (earliest first)\n",
      "Note: redshifts have been re-sorted (earliest first)\n",
      "no input beam found, setting include_beam to False\n",
      "Note: redshifts have been re-sorted (earliest first)\n",
      "Note: redshifts have been re-sorted (earliest first)\n",
      "Note: redshifts have been re-sorted (earliest first)\n",
      "Note: redshifts have been re-sorted (earliest first)\n",
      "Note: redshifts have been re-sorted (earliest first)\n",
      "no input beam found, setting include_beam to False\n"
     ]
    },
    {
     "name": "stderr",
     "output_type": "stream",
     "text": [
      "/global/homes/z/ztchen/.conda/envs/meer21cm/lib/python3.10/site-packages/numpy/fft/_helper.py:170: RuntimeWarning: divide by zero encountered in scalar divide\n",
      "  val = 1.0 / (n * d)\n",
      "/global/homes/z/ztchen/.conda/envs/meer21cm/lib/python3.10/site-packages/numpy/fft/_helper.py:177: RuntimeWarning: invalid value encountered in multiply\n",
      "  return results * val\n"
     ]
    },
    {
     "name": "stdout",
     "output_type": "stream",
     "text": [
      "Note: redshifts have been re-sorted (earliest first)\n",
      "no input beam found, setting include_beam to False\n"
     ]
    },
    {
     "name": "stderr",
     "output_type": "stream",
     "text": [
      "/global/homes/z/ztchen/.conda/envs/meer21cm/lib/python3.10/site-packages/numpy/fft/_helper.py:170: RuntimeWarning: divide by zero encountered in scalar divide\n",
      "  val = 1.0 / (n * d)\n",
      "/global/homes/z/ztchen/.conda/envs/meer21cm/lib/python3.10/site-packages/numpy/fft/_helper.py:177: RuntimeWarning: invalid value encountered in multiply\n",
      "  return results * val\n"
     ]
    },
    {
     "name": "stdout",
     "output_type": "stream",
     "text": [
      "Note: redshifts have been re-sorted (earliest first)\n",
      "Note: redshifts have been re-sorted (earliest first)\n",
      "no input beam found, setting include_beam to False\n",
      "Note: redshifts have been re-sorted (earliest first)\n",
      "no input beam found, setting include_beam to False\n",
      "no input beam found, setting include_beam to False\n"
     ]
    },
    {
     "name": "stderr",
     "output_type": "stream",
     "text": [
      "/global/homes/z/ztchen/.conda/envs/meer21cm/lib/python3.10/site-packages/numpy/fft/_helper.py:170: RuntimeWarning: divide by zero encountered in scalar divide\n",
      "  val = 1.0 / (n * d)\n",
      "/global/homes/z/ztchen/.conda/envs/meer21cm/lib/python3.10/site-packages/numpy/fft/_helper.py:177: RuntimeWarning: invalid value encountered in multiply\n",
      "  return results * val\n"
     ]
    },
    {
     "name": "stdout",
     "output_type": "stream",
     "text": [
      "Note: redshifts have been re-sorted (earliest first)\n",
      "no input beam found, setting include_beam to False\n",
      "Note: redshifts have been re-sorted (earliest first)\n",
      "Note: redshifts have been re-sorted (earliest first)\n",
      "Note: redshifts have been re-sorted (earliest first)\n",
      "Note: redshifts have been re-sorted (earliest first)\n",
      "Note: redshifts have been re-sorted (earliest first)\n",
      "Note: redshifts have been re-sorted (earliest first)\n",
      "Note: redshifts have been re-sorted (earliest first)\n",
      "Note: redshifts have been re-sorted (earliest first)\n",
      "Note: redshifts have been re-sorted (earliest first)\n",
      "Note: redshifts have been re-sorted (earliest first)\n",
      "no input beam found, setting include_beam to False\n"
     ]
    },
    {
     "name": "stderr",
     "output_type": "stream",
     "text": [
      "/global/homes/z/ztchen/.conda/envs/meer21cm/lib/python3.10/site-packages/numpy/fft/_helper.py:170: RuntimeWarning: divide by zero encountered in scalar divide\n",
      "  val = 1.0 / (n * d)\n",
      "/global/homes/z/ztchen/.conda/envs/meer21cm/lib/python3.10/site-packages/numpy/fft/_helper.py:177: RuntimeWarning: invalid value encountered in multiply\n",
      "  return results * val\n"
     ]
    },
    {
     "name": "stdout",
     "output_type": "stream",
     "text": [
      "Note: redshifts have been re-sorted (earliest first)\n",
      "no input beam found, setting include_beam to False\n",
      "Note: redshifts have been re-sorted (earliest first)\n",
      "no input beam found, setting include_beam to False\n"
     ]
    },
    {
     "name": "stderr",
     "output_type": "stream",
     "text": [
      "/global/homes/z/ztchen/.conda/envs/meer21cm/lib/python3.10/site-packages/numpy/fft/_helper.py:170: RuntimeWarning: divide by zero encountered in scalar divide\n",
      "  val = 1.0 / (n * d)\n",
      "/global/homes/z/ztchen/.conda/envs/meer21cm/lib/python3.10/site-packages/numpy/fft/_helper.py:177: RuntimeWarning: invalid value encountered in multiply\n",
      "  return results * val\n"
     ]
    },
    {
     "name": "stdout",
     "output_type": "stream",
     "text": [
      "Note: redshifts have been re-sorted (earliest first)\n",
      "no input beam found, setting include_beam to False\n",
      "Note: redshifts have been re-sorted (earliest first)\n",
      "no input beam found, setting include_beam to False\n"
     ]
    },
    {
     "name": "stderr",
     "output_type": "stream",
     "text": [
      "/global/homes/z/ztchen/.conda/envs/meer21cm/lib/python3.10/site-packages/numpy/fft/_helper.py:170: RuntimeWarning: divide by zero encountered in scalar divide\n",
      "  val = 1.0 / (n * d)\n",
      "/global/homes/z/ztchen/.conda/envs/meer21cm/lib/python3.10/site-packages/numpy/fft/_helper.py:177: RuntimeWarning: invalid value encountered in multiply\n",
      "  return results * val\n"
     ]
    },
    {
     "name": "stdout",
     "output_type": "stream",
     "text": [
      "Note: redshifts have been re-sorted (earliest first)\n",
      "no input beam found, setting include_beam to False\n",
      "Note: redshifts have been re-sorted (earliest first)\n",
      "no input beam found, setting include_beam to False\n"
     ]
    },
    {
     "name": "stderr",
     "output_type": "stream",
     "text": [
      "/global/homes/z/ztchen/.conda/envs/meer21cm/lib/python3.10/site-packages/numpy/fft/_helper.py:170: RuntimeWarning: divide by zero encountered in scalar divide\n",
      "  val = 1.0 / (n * d)\n",
      "/global/homes/z/ztchen/.conda/envs/meer21cm/lib/python3.10/site-packages/numpy/fft/_helper.py:177: RuntimeWarning: invalid value encountered in multiply\n",
      "  return results * val\n"
     ]
    },
    {
     "name": "stdout",
     "output_type": "stream",
     "text": [
      "Note: redshifts have been re-sorted (earliest first)\n",
      "Note: redshifts have been re-sorted (earliest first)\n",
      "no input beam found, setting include_beam to False\n",
      "no input beam found, setting include_beam to False\n"
     ]
    },
    {
     "name": "stderr",
     "output_type": "stream",
     "text": [
      "/global/homes/z/ztchen/.conda/envs/meer21cm/lib/python3.10/site-packages/numpy/fft/_helper.py:170: RuntimeWarning: divide by zero encountered in scalar divide\n",
      "  val = 1.0 / (n * d)\n",
      "/global/homes/z/ztchen/.conda/envs/meer21cm/lib/python3.10/site-packages/numpy/fft/_helper.py:177: RuntimeWarning: invalid value encountered in multiply\n",
      "  return results * val\n"
     ]
    },
    {
     "name": "stdout",
     "output_type": "stream",
     "text": [
      "Note: redshifts have been re-sorted (earliest first)\n",
      "Note: redshifts have been re-sorted (earliest first)\n",
      "no input beam found, setting include_beam to False\n",
      "no input beam found, setting include_beam to False\n"
     ]
    },
    {
     "name": "stderr",
     "output_type": "stream",
     "text": [
      "/global/homes/z/ztchen/.conda/envs/meer21cm/lib/python3.10/site-packages/numpy/fft/_helper.py:170: RuntimeWarning: divide by zero encountered in scalar divide\n",
      "  val = 1.0 / (n * d)\n",
      "/global/homes/z/ztchen/.conda/envs/meer21cm/lib/python3.10/site-packages/numpy/fft/_helper.py:177: RuntimeWarning: invalid value encountered in multiply\n",
      "  return results * val\n"
     ]
    },
    {
     "name": "stdout",
     "output_type": "stream",
     "text": [
      "Note: redshifts have been re-sorted (earliest first)\n",
      "no input beam found, setting include_beam to False\n",
      "Note: redshifts have been re-sorted (earliest first)\n",
      "no input beam found, setting include_beam to False\n"
     ]
    },
    {
     "name": "stderr",
     "output_type": "stream",
     "text": [
      "/global/homes/z/ztchen/.conda/envs/meer21cm/lib/python3.10/site-packages/numpy/fft/_helper.py:170: RuntimeWarning: divide by zero encountered in scalar divide\n",
      "  val = 1.0 / (n * d)\n",
      "/global/homes/z/ztchen/.conda/envs/meer21cm/lib/python3.10/site-packages/numpy/fft/_helper.py:177: RuntimeWarning: invalid value encountered in multiply\n",
      "  return results * val\n"
     ]
    },
    {
     "name": "stdout",
     "output_type": "stream",
     "text": [
      "Note: redshifts have been re-sorted (earliest first)\n",
      "no input beam found, setting include_beam to False\n",
      "Note: redshifts have been re-sorted (earliest first)\n",
      "Note: redshifts have been re-sorted (earliest first)\n",
      "Note: redshifts have been re-sorted (earliest first)\n",
      "no input beam found, setting include_beam to False\n"
     ]
    },
    {
     "name": "stderr",
     "output_type": "stream",
     "text": [
      "/global/homes/z/ztchen/.conda/envs/meer21cm/lib/python3.10/site-packages/numpy/fft/_helper.py:170: RuntimeWarning: divide by zero encountered in scalar divide\n",
      "  val = 1.0 / (n * d)\n",
      "/global/homes/z/ztchen/.conda/envs/meer21cm/lib/python3.10/site-packages/numpy/fft/_helper.py:177: RuntimeWarning: invalid value encountered in multiply\n",
      "  return results * val\n"
     ]
    },
    {
     "name": "stdout",
     "output_type": "stream",
     "text": [
      "Note: redshifts have been re-sorted (earliest first)\n",
      "no input beam found, setting include_beam to False\n",
      "Note: redshifts have been re-sorted (earliest first)\n",
      "Note: redshifts have been re-sorted (earliest first)\n",
      "no input beam found, setting include_beam to False\n"
     ]
    },
    {
     "name": "stderr",
     "output_type": "stream",
     "text": [
      "/global/homes/z/ztchen/.conda/envs/meer21cm/lib/python3.10/site-packages/numpy/fft/_helper.py:170: RuntimeWarning: divide by zero encountered in scalar divide\n",
      "  val = 1.0 / (n * d)\n",
      "/global/homes/z/ztchen/.conda/envs/meer21cm/lib/python3.10/site-packages/numpy/fft/_helper.py:177: RuntimeWarning: invalid value encountered in multiply\n",
      "  return results * val\n"
     ]
    },
    {
     "name": "stdout",
     "output_type": "stream",
     "text": [
      "Note: redshifts have been re-sorted (earliest first)\n",
      "no input beam found, setting include_beam to False\n",
      "Note: redshifts have been re-sorted (earliest first)\n",
      "Note: redshifts have been re-sorted (earliest first)\n",
      "Note: redshifts have been re-sorted (earliest first)\n",
      "Note: redshifts have been re-sorted (earliest first)\n",
      "Note: redshifts have been re-sorted (earliest first)\n",
      "no input beam found, setting include_beam to False\n"
     ]
    },
    {
     "name": "stderr",
     "output_type": "stream",
     "text": [
      "/global/homes/z/ztchen/.conda/envs/meer21cm/lib/python3.10/site-packages/numpy/fft/_helper.py:170: RuntimeWarning: divide by zero encountered in scalar divide\n",
      "  val = 1.0 / (n * d)\n",
      "/global/homes/z/ztchen/.conda/envs/meer21cm/lib/python3.10/site-packages/numpy/fft/_helper.py:177: RuntimeWarning: invalid value encountered in multiply\n",
      "  return results * val\n"
     ]
    },
    {
     "name": "stdout",
     "output_type": "stream",
     "text": [
      "Note: redshifts have been re-sorted (earliest first)\n",
      "no input beam found, setting include_beam to False\n",
      "Note: redshifts have been re-sorted (earliest first)\n",
      "no input beam found, setting include_beam to False\n"
     ]
    },
    {
     "name": "stderr",
     "output_type": "stream",
     "text": [
      "/global/homes/z/ztchen/.conda/envs/meer21cm/lib/python3.10/site-packages/numpy/fft/_helper.py:170: RuntimeWarning: divide by zero encountered in scalar divide\n",
      "  val = 1.0 / (n * d)\n",
      "/global/homes/z/ztchen/.conda/envs/meer21cm/lib/python3.10/site-packages/numpy/fft/_helper.py:177: RuntimeWarning: invalid value encountered in multiply\n",
      "  return results * val\n"
     ]
    },
    {
     "name": "stdout",
     "output_type": "stream",
     "text": [
      "Note: redshifts have been re-sorted (earliest first)\n",
      "no input beam found, setting include_beam to False\n",
      "Note: redshifts have been re-sorted (earliest first)\n",
      "no input beam found, setting include_beam to False\n"
     ]
    },
    {
     "name": "stderr",
     "output_type": "stream",
     "text": [
      "/global/homes/z/ztchen/.conda/envs/meer21cm/lib/python3.10/site-packages/numpy/fft/_helper.py:170: RuntimeWarning: divide by zero encountered in scalar divide\n",
      "  val = 1.0 / (n * d)\n",
      "/global/homes/z/ztchen/.conda/envs/meer21cm/lib/python3.10/site-packages/numpy/fft/_helper.py:177: RuntimeWarning: invalid value encountered in multiply\n",
      "  return results * val\n"
     ]
    },
    {
     "name": "stdout",
     "output_type": "stream",
     "text": [
      "Note: redshifts have been re-sorted (earliest first)\n",
      "no input beam found, setting include_beam to False\n",
      "Note: redshifts have been re-sorted (earliest first)\n",
      "Note: redshifts have been re-sorted (earliest first)\n",
      "Note: redshifts have been re-sorted (earliest first)\n",
      "no input beam found, setting include_beam to False\n"
     ]
    },
    {
     "name": "stderr",
     "output_type": "stream",
     "text": [
      "/global/homes/z/ztchen/.conda/envs/meer21cm/lib/python3.10/site-packages/numpy/fft/_helper.py:170: RuntimeWarning: divide by zero encountered in scalar divide\n",
      "  val = 1.0 / (n * d)\n",
      "/global/homes/z/ztchen/.conda/envs/meer21cm/lib/python3.10/site-packages/numpy/fft/_helper.py:177: RuntimeWarning: invalid value encountered in multiply\n",
      "  return results * val\n"
     ]
    },
    {
     "name": "stdout",
     "output_type": "stream",
     "text": [
      "Note: redshifts have been re-sorted (earliest first)\n",
      "no input beam found, setting include_beam to False\n",
      "Note: redshifts have been re-sorted (earliest first)\n",
      "Note: redshifts have been re-sorted (earliest first)\n",
      "no input beam found, setting include_beam to False\n"
     ]
    },
    {
     "name": "stderr",
     "output_type": "stream",
     "text": [
      "/global/homes/z/ztchen/.conda/envs/meer21cm/lib/python3.10/site-packages/numpy/fft/_helper.py:170: RuntimeWarning: divide by zero encountered in scalar divide\n",
      "  val = 1.0 / (n * d)\n",
      "/global/homes/z/ztchen/.conda/envs/meer21cm/lib/python3.10/site-packages/numpy/fft/_helper.py:177: RuntimeWarning: invalid value encountered in multiply\n",
      "  return results * val\n"
     ]
    },
    {
     "name": "stdout",
     "output_type": "stream",
     "text": [
      "Note: redshifts have been re-sorted (earliest first)\n",
      "no input beam found, setting include_beam to False\n",
      "Note: redshifts have been re-sorted (earliest first)\n",
      "no input beam found, setting include_beam to False\n"
     ]
    },
    {
     "name": "stderr",
     "output_type": "stream",
     "text": [
      "/global/homes/z/ztchen/.conda/envs/meer21cm/lib/python3.10/site-packages/numpy/fft/_helper.py:170: RuntimeWarning: divide by zero encountered in scalar divide\n",
      "  val = 1.0 / (n * d)\n",
      "/global/homes/z/ztchen/.conda/envs/meer21cm/lib/python3.10/site-packages/numpy/fft/_helper.py:177: RuntimeWarning: invalid value encountered in multiply\n",
      "  return results * val\n"
     ]
    },
    {
     "name": "stdout",
     "output_type": "stream",
     "text": [
      "Note: redshifts have been re-sorted (earliest first)\n",
      "no input beam found, setting include_beam to False\n",
      "Note: redshifts have been re-sorted (earliest first)\n",
      "Note: redshifts have been re-sorted (earliest first)\n",
      "no input beam found, setting include_beam to False\n"
     ]
    },
    {
     "name": "stderr",
     "output_type": "stream",
     "text": [
      "/global/homes/z/ztchen/.conda/envs/meer21cm/lib/python3.10/site-packages/numpy/fft/_helper.py:170: RuntimeWarning: divide by zero encountered in scalar divide\n",
      "  val = 1.0 / (n * d)\n",
      "/global/homes/z/ztchen/.conda/envs/meer21cm/lib/python3.10/site-packages/numpy/fft/_helper.py:177: RuntimeWarning: invalid value encountered in multiply\n",
      "  return results * val\n"
     ]
    },
    {
     "name": "stdout",
     "output_type": "stream",
     "text": [
      "Note: redshifts have been re-sorted (earliest first)\n",
      "Note: redshifts have been re-sorted (earliest first)Note: redshifts have been re-sorted (earliest first)\n",
      "\n",
      "no input beam found, setting include_beam to False\n",
      "no input beam found, setting include_beam to False\n"
     ]
    },
    {
     "name": "stderr",
     "output_type": "stream",
     "text": [
      "/global/homes/z/ztchen/.conda/envs/meer21cm/lib/python3.10/site-packages/numpy/fft/_helper.py:170: RuntimeWarning: divide by zero encountered in scalar divide\n",
      "  val = 1.0 / (n * d)\n",
      "/global/homes/z/ztchen/.conda/envs/meer21cm/lib/python3.10/site-packages/numpy/fft/_helper.py:177: RuntimeWarning: invalid value encountered in multiply\n",
      "  return results * val\n"
     ]
    },
    {
     "name": "stdout",
     "output_type": "stream",
     "text": [
      "Note: redshifts have been re-sorted (earliest first)\n",
      "no input beam found, setting include_beam to False\n",
      "Note: redshifts have been re-sorted (earliest first)\n",
      "no input beam found, setting include_beam to False\n"
     ]
    },
    {
     "name": "stderr",
     "output_type": "stream",
     "text": [
      "/global/homes/z/ztchen/.conda/envs/meer21cm/lib/python3.10/site-packages/numpy/fft/_helper.py:170: RuntimeWarning: divide by zero encountered in scalar divide\n",
      "  val = 1.0 / (n * d)\n",
      "/global/homes/z/ztchen/.conda/envs/meer21cm/lib/python3.10/site-packages/numpy/fft/_helper.py:177: RuntimeWarning: invalid value encountered in multiply\n",
      "  return results * val\n"
     ]
    },
    {
     "name": "stdout",
     "output_type": "stream",
     "text": [
      "Note: redshifts have been re-sorted (earliest first)\n",
      "no input beam found, setting include_beam to False\n",
      "Note: redshifts have been re-sorted (earliest first)\n",
      "no input beam found, setting include_beam to False\n"
     ]
    },
    {
     "name": "stderr",
     "output_type": "stream",
     "text": [
      "/global/homes/z/ztchen/.conda/envs/meer21cm/lib/python3.10/site-packages/numpy/fft/_helper.py:170: RuntimeWarning: divide by zero encountered in scalar divide\n",
      "  val = 1.0 / (n * d)\n",
      "/global/homes/z/ztchen/.conda/envs/meer21cm/lib/python3.10/site-packages/numpy/fft/_helper.py:177: RuntimeWarning: invalid value encountered in multiply\n",
      "  return results * val\n"
     ]
    },
    {
     "name": "stdout",
     "output_type": "stream",
     "text": [
      "Note: redshifts have been re-sorted (earliest first)\n",
      "no input beam found, setting include_beam to False\n",
      "Note: redshifts have been re-sorted (earliest first)\n",
      "no input beam found, setting include_beam to False\n"
     ]
    },
    {
     "name": "stderr",
     "output_type": "stream",
     "text": [
      "/global/homes/z/ztchen/.conda/envs/meer21cm/lib/python3.10/site-packages/numpy/fft/_helper.py:170: RuntimeWarning: divide by zero encountered in scalar divide\n",
      "  val = 1.0 / (n * d)\n",
      "/global/homes/z/ztchen/.conda/envs/meer21cm/lib/python3.10/site-packages/numpy/fft/_helper.py:177: RuntimeWarning: invalid value encountered in multiply\n",
      "  return results * val\n"
     ]
    },
    {
     "name": "stdout",
     "output_type": "stream",
     "text": [
      "Note: redshifts have been re-sorted (earliest first)\n",
      "Note: redshifts have been re-sorted (earliest first)\n",
      "Note: redshifts have been re-sorted (earliest first)\n",
      "no input beam found, setting include_beam to False\n"
     ]
    },
    {
     "name": "stderr",
     "output_type": "stream",
     "text": [
      "/global/homes/z/ztchen/.conda/envs/meer21cm/lib/python3.10/site-packages/numpy/fft/_helper.py:170: RuntimeWarning: divide by zero encountered in scalar divide\n",
      "  val = 1.0 / (n * d)\n",
      "/global/homes/z/ztchen/.conda/envs/meer21cm/lib/python3.10/site-packages/numpy/fft/_helper.py:177: RuntimeWarning: invalid value encountered in multiply\n",
      "  return results * val\n"
     ]
    },
    {
     "name": "stdout",
     "output_type": "stream",
     "text": [
      "no input beam found, setting include_beam to False\n",
      "Note: redshifts have been re-sorted (earliest first)\n",
      "no input beam found, setting include_beam to False\n",
      "Note: redshifts have been re-sorted (earliest first)\n",
      "Note: redshifts have been re-sorted (earliest first)\n",
      "no input beam found, setting include_beam to False\n"
     ]
    },
    {
     "name": "stderr",
     "output_type": "stream",
     "text": [
      "/global/homes/z/ztchen/.conda/envs/meer21cm/lib/python3.10/site-packages/numpy/fft/_helper.py:170: RuntimeWarning: divide by zero encountered in scalar divide\n",
      "  val = 1.0 / (n * d)\n",
      "/global/homes/z/ztchen/.conda/envs/meer21cm/lib/python3.10/site-packages/numpy/fft/_helper.py:177: RuntimeWarning: invalid value encountered in multiply\n",
      "  return results * val\n"
     ]
    },
    {
     "name": "stdout",
     "output_type": "stream",
     "text": [
      "Note: redshifts have been re-sorted (earliest first)\n",
      "Note: redshifts have been re-sorted (earliest first)\n",
      "no input beam found, setting include_beam to False\n",
      "Note: redshifts have been re-sorted (earliest first)\n",
      "no input beam found, setting include_beam to False\n"
     ]
    },
    {
     "name": "stderr",
     "output_type": "stream",
     "text": [
      "/global/homes/z/ztchen/.conda/envs/meer21cm/lib/python3.10/site-packages/numpy/fft/_helper.py:170: RuntimeWarning: divide by zero encountered in scalar divide\n",
      "  val = 1.0 / (n * d)\n",
      "/global/homes/z/ztchen/.conda/envs/meer21cm/lib/python3.10/site-packages/numpy/fft/_helper.py:177: RuntimeWarning: invalid value encountered in multiply\n",
      "  return results * val\n"
     ]
    },
    {
     "name": "stdout",
     "output_type": "stream",
     "text": [
      "Note: redshifts have been re-sorted (earliest first)\n",
      "Note: redshifts have been re-sorted (earliest first)\n",
      "no input beam found, setting include_beam to Falseno input beam found, setting include_beam to False\n",
      "\n"
     ]
    },
    {
     "name": "stderr",
     "output_type": "stream",
     "text": [
      "/global/homes/z/ztchen/.conda/envs/meer21cm/lib/python3.10/site-packages/numpy/fft/_helper.py:170: RuntimeWarning: divide by zero encountered in scalar divide\n",
      "  val = 1.0 / (n * d)\n",
      "/global/homes/z/ztchen/.conda/envs/meer21cm/lib/python3.10/site-packages/numpy/fft/_helper.py:177: RuntimeWarning: invalid value encountered in multiply\n",
      "  return results * val\n"
     ]
    },
    {
     "name": "stdout",
     "output_type": "stream",
     "text": [
      "Note: redshifts have been re-sorted (earliest first)\n",
      "no input beam found, setting include_beam to False\n",
      "Note: redshifts have been re-sorted (earliest first)\n",
      "Note: redshifts have been re-sorted (earliest first)\n",
      "Note: redshifts have been re-sorted (earliest first)\n",
      "Note: redshifts have been re-sorted (earliest first)\n",
      "no input beam found, setting include_beam to False\n"
     ]
    },
    {
     "name": "stderr",
     "output_type": "stream",
     "text": [
      "/global/homes/z/ztchen/.conda/envs/meer21cm/lib/python3.10/site-packages/numpy/fft/_helper.py:170: RuntimeWarning: divide by zero encountered in scalar divide\n",
      "  val = 1.0 / (n * d)\n"
     ]
    },
    {
     "name": "stdout",
     "output_type": "stream",
     "text": [
      "no input beam found, setting include_beam to FalseNote: redshifts have been re-sorted (earliest first)"
     ]
    },
    {
     "name": "stderr",
     "output_type": "stream",
     "text": [
      "/global/homes/z/ztchen/.conda/envs/meer21cm/lib/python3.10/site-packages/numpy/fft/_helper.py:177: RuntimeWarning: invalid value encountered in multiply\n",
      "  return results * val\n"
     ]
    },
    {
     "name": "stdout",
     "output_type": "stream",
     "text": [
      "\n",
      "\n"
     ]
    },
    {
     "name": "stderr",
     "output_type": "stream",
     "text": [
      "/global/homes/z/ztchen/.conda/envs/meer21cm/lib/python3.10/site-packages/numpy/fft/_helper.py:170: RuntimeWarning: divide by zero encountered in scalar divide\n",
      "  val = 1.0 / (n * d)\n",
      "/global/homes/z/ztchen/.conda/envs/meer21cm/lib/python3.10/site-packages/numpy/fft/_helper.py:177: RuntimeWarning: invalid value encountered in multiply\n",
      "  return results * val\n"
     ]
    },
    {
     "name": "stdout",
     "output_type": "stream",
     "text": [
      "Note: redshifts have been re-sorted (earliest first)Note: redshifts have been re-sorted (earliest first)\n",
      "\n",
      "Note: redshifts have been re-sorted (earliest first)\n",
      "no input beam found, setting include_beam to False\n",
      "no input beam found, setting include_beam to False\n",
      "Note: redshifts have been re-sorted (earliest first)\n",
      "Note: redshifts have been re-sorted (earliest first)\n",
      "no input beam found, setting include_beam to FalseNote: redshifts have been re-sorted (earliest first)\n",
      "\n"
     ]
    },
    {
     "name": "stderr",
     "output_type": "stream",
     "text": [
      "/global/homes/z/ztchen/.conda/envs/meer21cm/lib/python3.10/site-packages/numpy/fft/_helper.py:170: RuntimeWarning: divide by zero encountered in scalar divide\n",
      "  val = 1.0 / (n * d)\n",
      "/global/homes/z/ztchen/.conda/envs/meer21cm/lib/python3.10/site-packages/numpy/fft/_helper.py:177: RuntimeWarning: invalid value encountered in multiply\n",
      "  return results * val\n"
     ]
    },
    {
     "name": "stdout",
     "output_type": "stream",
     "text": [
      "Note: redshifts have been re-sorted (earliest first)\n",
      "no input beam found, setting include_beam to False\n",
      "Note: redshifts have been re-sorted (earliest first)\n",
      "Note: redshifts have been re-sorted (earliest first)\n",
      "Note: redshifts have been re-sorted (earliest first)\n",
      "Note: redshifts have been re-sorted (earliest first)\n",
      "Note: redshifts have been re-sorted (earliest first)\n",
      "Note: redshifts have been re-sorted (earliest first)\n"
     ]
    }
   ],
   "source": [
    "window = 'nnb'\n",
    "rsd = False\n",
    "arglist = [(i, window, rsd) for i in range(100)]\n",
    "pg3d_arr = []\n",
    "sn_arr = []\n",
    "with Pool(32) as p:\n",
    "    for pg3d, sn, pmod3d in p.starmap(get_3d_power, arglist):\n",
    "        pg3d_arr.append(pg3d)\n",
    "        sn_arr.append(sn)\n",
    "np.save(save_dir + f'pg3d_arr_{window}_rsd_{rsd}.npy', pg3d_arr)\n",
    "np.save(save_dir + f'sn_arr_{window}_rsd_{rsd}.npy', sn_arr)\n",
    "np.save(save_dir + f'pmod3d_rsd_{rsd}.npy', pmod3d)"
   ]
  },
  {
   "cell_type": "code",
   "execution_count": 4,
   "metadata": {},
   "outputs": [
    {
     "name": "stdout",
     "output_type": "stream",
     "text": [
      "Note: redshifts have been re-sorted (earliest first)\n",
      "Note: redshifts have been re-sorted (earliest first)Note: redshifts have been re-sorted (earliest first)Note: redshifts have been re-sorted (earliest first)Note: redshifts have been re-sorted (earliest first)\n",
      "Note: redshifts have been re-sorted (earliest first)Note: redshifts have been re-sorted (earliest first)Note: redshifts have been re-sorted (earliest first)Note: redshifts have been re-sorted (earliest first)\n",
      "\n",
      "\n",
      "\n",
      "\n",
      "\n",
      "Note: redshifts have been re-sorted (earliest first)Note: redshifts have been re-sorted (earliest first)Note: redshifts have been re-sorted (earliest first)Note: redshifts have been re-sorted (earliest first)Note: redshifts have been re-sorted (earliest first)Note: redshifts have been re-sorted (earliest first)\n",
      "\n",
      "\n",
      "\n",
      "\n",
      "\n",
      "\n",
      "no input beam found, setting include_beam to False\n",
      "no input beam found, setting include_beam to False\n"
     ]
    },
    {
     "name": "stderr",
     "output_type": "stream",
     "text": [
      "/global/homes/z/ztchen/.conda/envs/meer21cm/lib/python3.10/site-packages/numpy/fft/_helper.py:170: RuntimeWarning: divide by zero encountered in scalar divide\n",
      "  val = 1.0 / (n * d)\n",
      "/global/homes/z/ztchen/.conda/envs/meer21cm/lib/python3.10/site-packages/numpy/fft/_helper.py:177: RuntimeWarning: invalid value encountered in multiply\n",
      "  return results * val\n",
      "/global/homes/z/ztchen/.conda/envs/meer21cm/lib/python3.10/site-packages/numpy/fft/_helper.py:170: RuntimeWarning: divide by zero encountered in scalar divide\n",
      "  val = 1.0 / (n * d)\n",
      "/global/homes/z/ztchen/.conda/envs/meer21cm/lib/python3.10/site-packages/numpy/fft/_helper.py:177: RuntimeWarning: invalid value encountered in multiply\n",
      "  return results * val\n"
     ]
    },
    {
     "name": "stdout",
     "output_type": "stream",
     "text": [
      "no input beam found, setting include_beam to False\n",
      "no input beam found, setting include_beam to False\n",
      "no input beam found, setting include_beam to False\n",
      "no input beam found, setting include_beam to Falseno input beam found, setting include_beam to False\n",
      "\n"
     ]
    },
    {
     "name": "stderr",
     "output_type": "stream",
     "text": [
      "/global/homes/z/ztchen/.conda/envs/meer21cm/lib/python3.10/site-packages/numpy/fft/_helper.py:170: RuntimeWarning: divide by zero encountered in scalar divide\n",
      "  val = 1.0 / (n * d)\n",
      "/global/homes/z/ztchen/.conda/envs/meer21cm/lib/python3.10/site-packages/numpy/fft/_helper.py:177: RuntimeWarning: invalid value encountered in multiply\n",
      "  return results * val\n"
     ]
    },
    {
     "name": "stdout",
     "output_type": "stream",
     "text": [
      "no input beam found, setting include_beam to False"
     ]
    },
    {
     "name": "stderr",
     "output_type": "stream",
     "text": [
      "/global/homes/z/ztchen/.conda/envs/meer21cm/lib/python3.10/site-packages/numpy/fft/_helper.py:170: RuntimeWarning: divide by zero encountered in scalar divide\n",
      "  val = 1.0 / (n * d)\n"
     ]
    },
    {
     "name": "stdout",
     "output_type": "stream",
     "text": [
      "\n"
     ]
    },
    {
     "name": "stderr",
     "output_type": "stream",
     "text": [
      "/global/homes/z/ztchen/.conda/envs/meer21cm/lib/python3.10/site-packages/numpy/fft/_helper.py:177: RuntimeWarning: invalid value encountered in multiply\n",
      "  return results * val\n",
      "/global/homes/z/ztchen/.conda/envs/meer21cm/lib/python3.10/site-packages/numpy/fft/_helper.py:170: RuntimeWarning: divide by zero encountered in scalar divide\n",
      "  val = 1.0 / (n * d)\n",
      "/global/homes/z/ztchen/.conda/envs/meer21cm/lib/python3.10/site-packages/numpy/fft/_helper.py:177: RuntimeWarning: invalid value encountered in multiply\n",
      "  return results * val\n",
      "/global/homes/z/ztchen/.conda/envs/meer21cm/lib/python3.10/site-packages/numpy/fft/_helper.py:170: RuntimeWarning: divide by zero encountered in scalar divide\n",
      "  val = 1.0 / (n * d)\n"
     ]
    },
    {
     "name": "stdout",
     "output_type": "stream",
     "text": [
      "Note: redshifts have been re-sorted (earliest first)Note: redshifts have been re-sorted (earliest first)\n",
      "\n"
     ]
    },
    {
     "name": "stderr",
     "output_type": "stream",
     "text": [
      "/global/homes/z/ztchen/.conda/envs/meer21cm/lib/python3.10/site-packages/numpy/fft/_helper.py:177: RuntimeWarning: invalid value encountered in multiply\n",
      "  return results * val\n"
     ]
    },
    {
     "name": "stdout",
     "output_type": "stream",
     "text": [
      "\n"
     ]
    },
    {
     "name": "stderr",
     "output_type": "stream",
     "text": [
      "/global/homes/z/ztchen/.conda/envs/meer21cm/lib/python3.10/site-packages/numpy/fft/_helper.py:177: RuntimeWarning: invalid value encountered in multiply\n",
      "  return results * val\n"
     ]
    },
    {
     "name": "stdout",
     "output_type": "stream",
     "text": [
      "no input beam found, setting include_beam to False"
     ]
    },
    {
     "name": "stderr",
     "output_type": "stream",
     "text": [
      "/global/homes/z/ztchen/.conda/envs/meer21cm/lib/python3.10/site-packages/numpy/fft/_helper.py:170: RuntimeWarning: divide by zero encountered in scalar divide\n",
      "  val = 1.0 / (n * d)\n",
      "/global/homes/z/ztchen/.conda/envs/meer21cm/lib/python3.10/site-packages/numpy/fft/_helper.py:177: RuntimeWarning: invalid value encountered in multiply\n",
      "  return results * val\n"
     ]
    },
    {
     "name": "stdout",
     "output_type": "stream",
     "text": [
      "no input beam found, setting include_beam to False\n",
      "Note: redshifts have been re-sorted (earliest first)"
     ]
    },
    {
     "name": "stderr",
     "output_type": "stream",
     "text": [
      "/global/homes/z/ztchen/.conda/envs/meer21cm/lib/python3.10/site-packages/numpy/fft/_helper.py:170: RuntimeWarning: divide by zero encountered in scalar divide\n",
      "  val = 1.0 / (n * d)\n",
      "/global/homes/z/ztchen/.conda/envs/meer21cm/lib/python3.10/site-packages/numpy/fft/_helper.py:177: RuntimeWarning: invalid value encountered in multiply\n",
      "  return results * val\n"
     ]
    },
    {
     "name": "stdout",
     "output_type": "stream",
     "text": [
      "\n",
      "Note: redshifts have been re-sorted (earliest first)Note: redshifts have been re-sorted (earliest first)\n",
      "\n",
      "no input beam found, setting include_beam to False\n"
     ]
    },
    {
     "name": "stderr",
     "output_type": "stream",
     "text": [
      "/global/homes/z/ztchen/.conda/envs/meer21cm/lib/python3.10/site-packages/numpy/fft/_helper.py:170: RuntimeWarning: divide by zero encountered in scalar divide\n",
      "  val = 1.0 / (n * d)\n"
     ]
    },
    {
     "name": "stdout",
     "output_type": "stream",
     "text": [
      "\n"
     ]
    },
    {
     "name": "stderr",
     "output_type": "stream",
     "text": [
      "/global/homes/z/ztchen/.conda/envs/meer21cm/lib/python3.10/site-packages/numpy/fft/_helper.py:177: RuntimeWarning: invalid value encountered in multiply\n",
      "  return results * val\n",
      "/global/homes/z/ztchen/.conda/envs/meer21cm/lib/python3.10/site-packages/numpy/fft/_helper.py:170: RuntimeWarning: divide by zero encountered in scalar divide\n",
      "  val = 1.0 / (n * d)\n"
     ]
    },
    {
     "name": "stdout",
     "output_type": "stream",
     "text": [
      "Note: redshifts have been re-sorted (earliest first)Note: redshifts have been re-sorted (earliest first)\n",
      "Note: redshifts have been re-sorted (earliest first)\n",
      "Note: redshifts have been re-sorted (earliest first)\n"
     ]
    },
    {
     "name": "stderr",
     "output_type": "stream",
     "text": [
      "/global/homes/z/ztchen/.conda/envs/meer21cm/lib/python3.10/site-packages/numpy/fft/_helper.py:170: RuntimeWarning: divide by zero encountered in scalar divide\n",
      "  val = 1.0 / (n * d)\n",
      "/global/homes/z/ztchen/.conda/envs/meer21cm/lib/python3.10/site-packages/numpy/fft/_helper.py:177: RuntimeWarning: invalid value encountered in multiply\n",
      "  return results * val\n"
     ]
    },
    {
     "name": "stdout",
     "output_type": "stream",
     "text": [
      "Note: redshifts have been re-sorted (earliest first)\n",
      "no input beam found, setting include_beam to False\n",
      "no input beam found, setting include_beam to Falseno input beam found, setting include_beam to False\n",
      "\n"
     ]
    },
    {
     "name": "stderr",
     "output_type": "stream",
     "text": [
      "/global/homes/z/ztchen/.conda/envs/meer21cm/lib/python3.10/site-packages/numpy/fft/_helper.py:170: RuntimeWarning: divide by zero encountered in scalar divide\n",
      "  val = 1.0 / (n * d)\n"
     ]
    },
    {
     "name": "stdout",
     "output_type": "stream",
     "text": [
      "Note: redshifts have been re-sorted (earliest first)"
     ]
    },
    {
     "name": "stderr",
     "output_type": "stream",
     "text": [
      "/global/homes/z/ztchen/.conda/envs/meer21cm/lib/python3.10/site-packages/numpy/fft/_helper.py:177: RuntimeWarning: invalid value encountered in multiply\n",
      "  return results * val\n",
      "/global/homes/z/ztchen/.conda/envs/meer21cm/lib/python3.10/site-packages/numpy/fft/_helper.py:170: RuntimeWarning: divide by zero encountered in scalar divide\n",
      "  val = 1.0 / (n * d)\n"
     ]
    },
    {
     "name": "stdout",
     "output_type": "stream",
     "text": [
      "\n"
     ]
    },
    {
     "name": "stderr",
     "output_type": "stream",
     "text": [
      "/global/homes/z/ztchen/.conda/envs/meer21cm/lib/python3.10/site-packages/numpy/fft/_helper.py:170: RuntimeWarning: divide by zero encountered in scalar divide\n",
      "  val = 1.0 / (n * d)\n",
      "/global/homes/z/ztchen/.conda/envs/meer21cm/lib/python3.10/site-packages/numpy/fft/_helper.py:177: RuntimeWarning: invalid value encountered in multiply\n",
      "  return results * val\n",
      "/global/homes/z/ztchen/.conda/envs/meer21cm/lib/python3.10/site-packages/numpy/fft/_helper.py:177: RuntimeWarning: invalid value encountered in multiply\n",
      "  return results * val\n"
     ]
    },
    {
     "name": "stdout",
     "output_type": "stream",
     "text": [
      "no input beam found, setting include_beam to False\n",
      "Note: redshifts have been re-sorted (earliest first)"
     ]
    },
    {
     "name": "stderr",
     "output_type": "stream",
     "text": [
      "/global/homes/z/ztchen/.conda/envs/meer21cm/lib/python3.10/site-packages/numpy/fft/_helper.py:170: RuntimeWarning: divide by zero encountered in scalar divide\n",
      "  val = 1.0 / (n * d)\n"
     ]
    },
    {
     "name": "stdout",
     "output_type": "stream",
     "text": [
      "Note: redshifts have been re-sorted (earliest first)\n"
     ]
    },
    {
     "name": "stderr",
     "output_type": "stream",
     "text": [
      "/global/homes/z/ztchen/.conda/envs/meer21cm/lib/python3.10/site-packages/numpy/fft/_helper.py:177: RuntimeWarning: invalid value encountered in multiply\n",
      "  return results * val\n"
     ]
    },
    {
     "name": "stdout",
     "output_type": "stream",
     "text": [
      "\n",
      "Note: redshifts have been re-sorted (earliest first)\n",
      "Note: redshifts have been re-sorted (earliest first)\n",
      "no input beam found, setting include_beam to False\n",
      "no input beam found, setting include_beam to False\n",
      "no input beam found, setting include_beam to False\n",
      "no input beam found, setting include_beam to Falseno input beam found, setting include_beam to Falseno input beam found, setting include_beam to False\n",
      "\n",
      "\n",
      "no input beam found, setting include_beam to False\n",
      "no input beam found, setting include_beam to Falseno input beam found, setting include_beam to False\n",
      "no input beam found, setting include_beam to False\n",
      "\n",
      "no input beam found, setting include_beam to False\n",
      "no input beam found, setting include_beam to False\n",
      "no input beam found, setting include_beam to Falseno input beam found, setting include_beam to False\n",
      "\n",
      "no input beam found, setting include_beam to False\n",
      "Note: redshifts have been re-sorted (earliest first)\n",
      "Note: redshifts have been re-sorted (earliest first)\n",
      "Note: redshifts have been re-sorted (earliest first)\n",
      "Note: redshifts have been re-sorted (earliest first)\n",
      "Note: redshifts have been re-sorted (earliest first)Note: redshifts have been re-sorted (earliest first)\n",
      "\n",
      "Note: redshifts have been re-sorted (earliest first)\n",
      "Note: redshifts have been re-sorted (earliest first)\n",
      "Note: redshifts have been re-sorted (earliest first)\n",
      "Note: redshifts have been re-sorted (earliest first)\n",
      "Note: redshifts have been re-sorted (earliest first)\n",
      "Note: redshifts have been re-sorted (earliest first)\n",
      "Note: redshifts have been re-sorted (earliest first)\n",
      "Note: redshifts have been re-sorted (earliest first)\n",
      "Note: redshifts have been re-sorted (earliest first)\n",
      "Note: redshifts have been re-sorted (earliest first)\n",
      "no input beam found, setting include_beam to False\n"
     ]
    },
    {
     "name": "stderr",
     "output_type": "stream",
     "text": [
      "/global/homes/z/ztchen/.conda/envs/meer21cm/lib/python3.10/site-packages/numpy/fft/_helper.py:170: RuntimeWarning: divide by zero encountered in scalar divide\n",
      "  val = 1.0 / (n * d)\n",
      "/global/homes/z/ztchen/.conda/envs/meer21cm/lib/python3.10/site-packages/numpy/fft/_helper.py:177: RuntimeWarning: invalid value encountered in multiply\n",
      "  return results * val\n"
     ]
    },
    {
     "name": "stdout",
     "output_type": "stream",
     "text": [
      "Note: redshifts have been re-sorted (earliest first)\n",
      "no input beam found, setting include_beam to False\n",
      "Note: redshifts have been re-sorted (earliest first)\n",
      "Note: redshifts have been re-sorted (earliest first)\n",
      "no input beam found, setting include_beam to False\n"
     ]
    },
    {
     "name": "stderr",
     "output_type": "stream",
     "text": [
      "/global/homes/z/ztchen/.conda/envs/meer21cm/lib/python3.10/site-packages/numpy/fft/_helper.py:170: RuntimeWarning: divide by zero encountered in scalar divide\n",
      "  val = 1.0 / (n * d)\n",
      "/global/homes/z/ztchen/.conda/envs/meer21cm/lib/python3.10/site-packages/numpy/fft/_helper.py:177: RuntimeWarning: invalid value encountered in multiply\n",
      "  return results * val\n"
     ]
    },
    {
     "name": "stdout",
     "output_type": "stream",
     "text": [
      "no input beam found, setting include_beam to False\n"
     ]
    },
    {
     "name": "stderr",
     "output_type": "stream",
     "text": [
      "/global/homes/z/ztchen/.conda/envs/meer21cm/lib/python3.10/site-packages/numpy/fft/_helper.py:170: RuntimeWarning: divide by zero encountered in scalar divide\n",
      "  val = 1.0 / (n * d)\n",
      "/global/homes/z/ztchen/.conda/envs/meer21cm/lib/python3.10/site-packages/numpy/fft/_helper.py:177: RuntimeWarning: invalid value encountered in multiply\n",
      "  return results * val\n"
     ]
    },
    {
     "name": "stdout",
     "output_type": "stream",
     "text": [
      "Note: redshifts have been re-sorted (earliest first)\n",
      "Note: redshifts have been re-sorted (earliest first)Note: redshifts have been re-sorted (earliest first)\n",
      "\n",
      "no input beam found, setting include_beam to False\n",
      "no input beam found, setting include_beam to False\n",
      "no input beam found, setting include_beam to False\n"
     ]
    },
    {
     "name": "stderr",
     "output_type": "stream",
     "text": [
      "/global/homes/z/ztchen/.conda/envs/meer21cm/lib/python3.10/site-packages/numpy/fft/_helper.py:170: RuntimeWarning: divide by zero encountered in scalar divide\n",
      "  val = 1.0 / (n * d)\n",
      "/global/homes/z/ztchen/.conda/envs/meer21cm/lib/python3.10/site-packages/numpy/fft/_helper.py:177: RuntimeWarning: invalid value encountered in multiply\n",
      "  return results * val\n"
     ]
    },
    {
     "name": "stdout",
     "output_type": "stream",
     "text": [
      "Note: redshifts have been re-sorted (earliest first)\n",
      "Note: redshifts have been re-sorted (earliest first)\n",
      "no input beam found, setting include_beam to False\n"
     ]
    },
    {
     "name": "stderr",
     "output_type": "stream",
     "text": [
      "/global/homes/z/ztchen/.conda/envs/meer21cm/lib/python3.10/site-packages/numpy/fft/_helper.py:170: RuntimeWarning: divide by zero encountered in scalar divide\n",
      "  val = 1.0 / (n * d)\n",
      "/global/homes/z/ztchen/.conda/envs/meer21cm/lib/python3.10/site-packages/numpy/fft/_helper.py:177: RuntimeWarning: invalid value encountered in multiply\n",
      "  return results * val\n"
     ]
    },
    {
     "name": "stdout",
     "output_type": "stream",
     "text": [
      "no input beam found, setting include_beam to False\n",
      "Note: redshifts have been re-sorted (earliest first)\n",
      "no input beam found, setting include_beam to False\n",
      "Note: redshifts have been re-sorted (earliest first)\n",
      "no input beam found, setting include_beam to False\n"
     ]
    },
    {
     "name": "stderr",
     "output_type": "stream",
     "text": [
      "/global/homes/z/ztchen/.conda/envs/meer21cm/lib/python3.10/site-packages/numpy/fft/_helper.py:170: RuntimeWarning: divide by zero encountered in scalar divide\n",
      "  val = 1.0 / (n * d)\n",
      "/global/homes/z/ztchen/.conda/envs/meer21cm/lib/python3.10/site-packages/numpy/fft/_helper.py:177: RuntimeWarning: invalid value encountered in multiply\n",
      "  return results * val\n"
     ]
    },
    {
     "name": "stdout",
     "output_type": "stream",
     "text": [
      "Note: redshifts have been re-sorted (earliest first)\n",
      "Note: redshifts have been re-sorted (earliest first)\n",
      "no input beam found, setting include_beam to False\n",
      "no input beam found, setting include_beam to False\n"
     ]
    },
    {
     "name": "stderr",
     "output_type": "stream",
     "text": [
      "/global/homes/z/ztchen/.conda/envs/meer21cm/lib/python3.10/site-packages/numpy/fft/_helper.py:170: RuntimeWarning: divide by zero encountered in scalar divide\n",
      "  val = 1.0 / (n * d)\n",
      "/global/homes/z/ztchen/.conda/envs/meer21cm/lib/python3.10/site-packages/numpy/fft/_helper.py:177: RuntimeWarning: invalid value encountered in multiply\n",
      "  return results * val\n"
     ]
    },
    {
     "name": "stdout",
     "output_type": "stream",
     "text": [
      "Note: redshifts have been re-sorted (earliest first)\n",
      "Note: redshifts have been re-sorted (earliest first)\n",
      "Note: redshifts have been re-sorted (earliest first)\n",
      "no input beam found, setting include_beam to False\n",
      "no input beam found, setting include_beam to False\n"
     ]
    },
    {
     "name": "stderr",
     "output_type": "stream",
     "text": [
      "/global/homes/z/ztchen/.conda/envs/meer21cm/lib/python3.10/site-packages/numpy/fft/_helper.py:170: RuntimeWarning: divide by zero encountered in scalar divide\n",
      "  val = 1.0 / (n * d)\n",
      "/global/homes/z/ztchen/.conda/envs/meer21cm/lib/python3.10/site-packages/numpy/fft/_helper.py:177: RuntimeWarning: invalid value encountered in multiply\n",
      "  return results * val\n"
     ]
    },
    {
     "name": "stdout",
     "output_type": "stream",
     "text": [
      "Note: redshifts have been re-sorted (earliest first)\n",
      "Note: redshifts have been re-sorted (earliest first)\n",
      "Note: redshifts have been re-sorted (earliest first)\n",
      "no input beam found, setting include_beam to FalseNote: redshifts have been re-sorted (earliest first)\n",
      "\n",
      "no input beam found, setting include_beam to False\n"
     ]
    },
    {
     "name": "stderr",
     "output_type": "stream",
     "text": [
      "/global/homes/z/ztchen/.conda/envs/meer21cm/lib/python3.10/site-packages/numpy/fft/_helper.py:170: RuntimeWarning: divide by zero encountered in scalar divide\n",
      "  val = 1.0 / (n * d)\n",
      "/global/homes/z/ztchen/.conda/envs/meer21cm/lib/python3.10/site-packages/numpy/fft/_helper.py:177: RuntimeWarning: invalid value encountered in multiply\n",
      "  return results * val\n"
     ]
    },
    {
     "name": "stdout",
     "output_type": "stream",
     "text": [
      "Note: redshifts have been re-sorted (earliest first)\n",
      "no input beam found, setting include_beam to False\n",
      "no input beam found, setting include_beam to False\n"
     ]
    },
    {
     "name": "stderr",
     "output_type": "stream",
     "text": [
      "/global/homes/z/ztchen/.conda/envs/meer21cm/lib/python3.10/site-packages/numpy/fft/_helper.py:170: RuntimeWarning: divide by zero encountered in scalar divide\n",
      "  val = 1.0 / (n * d)\n",
      "/global/homes/z/ztchen/.conda/envs/meer21cm/lib/python3.10/site-packages/numpy/fft/_helper.py:177: RuntimeWarning: invalid value encountered in multiply\n",
      "  return results * val\n",
      "/global/homes/z/ztchen/.conda/envs/meer21cm/lib/python3.10/site-packages/numpy/fft/_helper.py:170: RuntimeWarning: divide by zero encountered in scalar divide\n",
      "  val = 1.0 / (n * d)\n",
      "/global/homes/z/ztchen/.conda/envs/meer21cm/lib/python3.10/site-packages/numpy/fft/_helper.py:177: RuntimeWarning: invalid value encountered in multiply\n",
      "  return results * val\n"
     ]
    },
    {
     "name": "stdout",
     "output_type": "stream",
     "text": [
      "Note: redshifts have been re-sorted (earliest first)\n",
      "no input beam found, setting include_beam to FalseNote: redshifts have been re-sorted (earliest first)\n",
      "\n",
      "Note: redshifts have been re-sorted (earliest first)\n",
      "no input beam found, setting include_beam to False\n",
      "no input beam found, setting include_beam to False\n",
      "no input beam found, setting include_beam to False\n"
     ]
    },
    {
     "name": "stderr",
     "output_type": "stream",
     "text": [
      "/global/homes/z/ztchen/.conda/envs/meer21cm/lib/python3.10/site-packages/numpy/fft/_helper.py:170: RuntimeWarning: divide by zero encountered in scalar divide\n",
      "  val = 1.0 / (n * d)\n",
      "/global/homes/z/ztchen/.conda/envs/meer21cm/lib/python3.10/site-packages/numpy/fft/_helper.py:177: RuntimeWarning: invalid value encountered in multiply\n",
      "  return results * val\n"
     ]
    },
    {
     "name": "stdout",
     "output_type": "stream",
     "text": [
      "Note: redshifts have been re-sorted (earliest first)\n",
      "no input beam found, setting include_beam to False\n",
      "Note: redshifts have been re-sorted (earliest first)\n",
      "Note: redshifts have been re-sorted (earliest first)\n",
      "Note: redshifts have been re-sorted (earliest first)\n",
      "Note: redshifts have been re-sorted (earliest first)\n",
      "Note: redshifts have been re-sorted (earliest first)\n",
      "Note: redshifts have been re-sorted (earliest first)\n",
      "Note: redshifts have been re-sorted (earliest first)\n",
      "Note: redshifts have been re-sorted (earliest first)\n",
      "Note: redshifts have been re-sorted (earliest first)\n",
      "Note: redshifts have been re-sorted (earliest first)\n",
      "Note: redshifts have been re-sorted (earliest first)\n",
      "Note: redshifts have been re-sorted (earliest first)\n",
      "no input beam found, setting include_beam to False\n"
     ]
    },
    {
     "name": "stderr",
     "output_type": "stream",
     "text": [
      "/global/homes/z/ztchen/.conda/envs/meer21cm/lib/python3.10/site-packages/numpy/fft/_helper.py:170: RuntimeWarning: divide by zero encountered in scalar divide\n",
      "  val = 1.0 / (n * d)\n",
      "/global/homes/z/ztchen/.conda/envs/meer21cm/lib/python3.10/site-packages/numpy/fft/_helper.py:177: RuntimeWarning: invalid value encountered in multiply\n",
      "  return results * val\n"
     ]
    },
    {
     "name": "stdout",
     "output_type": "stream",
     "text": [
      "Note: redshifts have been re-sorted (earliest first)\n",
      "no input beam found, setting include_beam to False\n",
      "Note: redshifts have been re-sorted (earliest first)\n",
      "no input beam found, setting include_beam to False\n"
     ]
    },
    {
     "name": "stderr",
     "output_type": "stream",
     "text": [
      "/global/homes/z/ztchen/.conda/envs/meer21cm/lib/python3.10/site-packages/numpy/fft/_helper.py:170: RuntimeWarning: divide by zero encountered in scalar divide\n",
      "  val = 1.0 / (n * d)\n",
      "/global/homes/z/ztchen/.conda/envs/meer21cm/lib/python3.10/site-packages/numpy/fft/_helper.py:177: RuntimeWarning: invalid value encountered in multiply\n",
      "  return results * val\n"
     ]
    },
    {
     "name": "stdout",
     "output_type": "stream",
     "text": [
      "Note: redshifts have been re-sorted (earliest first)\n",
      "no input beam found, setting include_beam to False\n",
      "Note: redshifts have been re-sorted (earliest first)\n",
      "no input beam found, setting include_beam to False\n"
     ]
    },
    {
     "name": "stderr",
     "output_type": "stream",
     "text": [
      "/global/homes/z/ztchen/.conda/envs/meer21cm/lib/python3.10/site-packages/numpy/fft/_helper.py:170: RuntimeWarning: divide by zero encountered in scalar divide\n",
      "  val = 1.0 / (n * d)\n",
      "/global/homes/z/ztchen/.conda/envs/meer21cm/lib/python3.10/site-packages/numpy/fft/_helper.py:177: RuntimeWarning: invalid value encountered in multiply\n",
      "  return results * val\n"
     ]
    },
    {
     "name": "stdout",
     "output_type": "stream",
     "text": [
      "Note: redshifts have been re-sorted (earliest first)\n",
      "no input beam found, setting include_beam to False\n",
      "Note: redshifts have been re-sorted (earliest first)\n",
      "Note: redshifts have been re-sorted (earliest first)\n",
      "Note: redshifts have been re-sorted (earliest first)\n",
      "Note: redshifts have been re-sorted (earliest first)\n",
      "no input beam found, setting include_beam to False\n"
     ]
    },
    {
     "name": "stderr",
     "output_type": "stream",
     "text": [
      "/global/homes/z/ztchen/.conda/envs/meer21cm/lib/python3.10/site-packages/numpy/fft/_helper.py:170: RuntimeWarning: divide by zero encountered in scalar divide\n",
      "  val = 1.0 / (n * d)\n",
      "/global/homes/z/ztchen/.conda/envs/meer21cm/lib/python3.10/site-packages/numpy/fft/_helper.py:177: RuntimeWarning: invalid value encountered in multiply\n",
      "  return results * val\n"
     ]
    },
    {
     "name": "stdout",
     "output_type": "stream",
     "text": [
      "Note: redshifts have been re-sorted (earliest first)\n",
      "no input beam found, setting include_beam to False\n",
      "Note: redshifts have been re-sorted (earliest first)\n",
      "Note: redshifts have been re-sorted (earliest first)\n",
      "no input beam found, setting include_beam to False\n"
     ]
    },
    {
     "name": "stderr",
     "output_type": "stream",
     "text": [
      "/global/homes/z/ztchen/.conda/envs/meer21cm/lib/python3.10/site-packages/numpy/fft/_helper.py:170: RuntimeWarning: divide by zero encountered in scalar divide\n",
      "  val = 1.0 / (n * d)\n",
      "/global/homes/z/ztchen/.conda/envs/meer21cm/lib/python3.10/site-packages/numpy/fft/_helper.py:177: RuntimeWarning: invalid value encountered in multiply\n",
      "  return results * val\n"
     ]
    },
    {
     "name": "stdout",
     "output_type": "stream",
     "text": [
      "Note: redshifts have been re-sorted (earliest first)\n",
      "no input beam found, setting include_beam to False\n",
      "Note: redshifts have been re-sorted (earliest first)\n",
      "no input beam found, setting include_beam to False\n"
     ]
    },
    {
     "name": "stderr",
     "output_type": "stream",
     "text": [
      "/global/homes/z/ztchen/.conda/envs/meer21cm/lib/python3.10/site-packages/numpy/fft/_helper.py:170: RuntimeWarning: divide by zero encountered in scalar divide\n",
      "  val = 1.0 / (n * d)\n",
      "/global/homes/z/ztchen/.conda/envs/meer21cm/lib/python3.10/site-packages/numpy/fft/_helper.py:177: RuntimeWarning: invalid value encountered in multiply\n",
      "  return results * val\n"
     ]
    },
    {
     "name": "stdout",
     "output_type": "stream",
     "text": [
      "Note: redshifts have been re-sorted (earliest first)\n",
      "no input beam found, setting include_beam to False\n",
      "Note: redshifts have been re-sorted (earliest first)\n",
      "no input beam found, setting include_beam to False\n"
     ]
    },
    {
     "name": "stderr",
     "output_type": "stream",
     "text": [
      "/global/homes/z/ztchen/.conda/envs/meer21cm/lib/python3.10/site-packages/numpy/fft/_helper.py:170: RuntimeWarning: divide by zero encountered in scalar divide\n",
      "  val = 1.0 / (n * d)\n",
      "/global/homes/z/ztchen/.conda/envs/meer21cm/lib/python3.10/site-packages/numpy/fft/_helper.py:177: RuntimeWarning: invalid value encountered in multiply\n",
      "  return results * val\n"
     ]
    },
    {
     "name": "stdout",
     "output_type": "stream",
     "text": [
      "Note: redshifts have been re-sorted (earliest first)\n",
      "Note: redshifts have been re-sorted (earliest first)\n",
      "no input beam found, setting include_beam to False\n",
      "no input beam found, setting include_beam to False\n"
     ]
    },
    {
     "name": "stderr",
     "output_type": "stream",
     "text": [
      "/global/homes/z/ztchen/.conda/envs/meer21cm/lib/python3.10/site-packages/numpy/fft/_helper.py:170: RuntimeWarning: divide by zero encountered in scalar divide\n",
      "  val = 1.0 / (n * d)\n",
      "/global/homes/z/ztchen/.conda/envs/meer21cm/lib/python3.10/site-packages/numpy/fft/_helper.py:177: RuntimeWarning: invalid value encountered in multiply\n",
      "  return results * val\n"
     ]
    },
    {
     "name": "stdout",
     "output_type": "stream",
     "text": [
      "Note: redshifts have been re-sorted (earliest first)\n",
      "no input beam found, setting include_beam to False\n",
      "Note: redshifts have been re-sorted (earliest first)\n",
      "no input beam found, setting include_beam to False\n"
     ]
    },
    {
     "name": "stderr",
     "output_type": "stream",
     "text": [
      "/global/homes/z/ztchen/.conda/envs/meer21cm/lib/python3.10/site-packages/numpy/fft/_helper.py:170: RuntimeWarning: divide by zero encountered in scalar divide\n",
      "  val = 1.0 / (n * d)\n",
      "/global/homes/z/ztchen/.conda/envs/meer21cm/lib/python3.10/site-packages/numpy/fft/_helper.py:177: RuntimeWarning: invalid value encountered in multiply\n",
      "  return results * val\n"
     ]
    },
    {
     "name": "stdout",
     "output_type": "stream",
     "text": [
      "Note: redshifts have been re-sorted (earliest first)\n",
      "Note: redshifts have been re-sorted (earliest first)\n",
      "Note: redshifts have been re-sorted (earliest first)no input beam found, setting include_beam to False\n",
      "\n"
     ]
    },
    {
     "name": "stderr",
     "output_type": "stream",
     "text": [
      "/global/homes/z/ztchen/.conda/envs/meer21cm/lib/python3.10/site-packages/numpy/fft/_helper.py:170: RuntimeWarning: divide by zero encountered in scalar divide\n",
      "  val = 1.0 / (n * d)\n",
      "/global/homes/z/ztchen/.conda/envs/meer21cm/lib/python3.10/site-packages/numpy/fft/_helper.py:177: RuntimeWarning: invalid value encountered in multiply\n",
      "  return results * val\n"
     ]
    },
    {
     "name": "stdout",
     "output_type": "stream",
     "text": [
      "no input beam found, setting include_beam to False\n",
      "Note: redshifts have been re-sorted (earliest first)\n",
      "no input beam found, setting include_beam to Falseno input beam found, setting include_beam to False\n",
      "\n"
     ]
    },
    {
     "name": "stderr",
     "output_type": "stream",
     "text": [
      "/global/homes/z/ztchen/.conda/envs/meer21cm/lib/python3.10/site-packages/numpy/fft/_helper.py:170: RuntimeWarning: divide by zero encountered in scalar divide\n",
      "  val = 1.0 / (n * d)\n",
      "/global/homes/z/ztchen/.conda/envs/meer21cm/lib/python3.10/site-packages/numpy/fft/_helper.py:177: RuntimeWarning: invalid value encountered in multiply\n",
      "  return results * val\n"
     ]
    },
    {
     "name": "stdout",
     "output_type": "stream",
     "text": [
      "Note: redshifts have been re-sorted (earliest first)\n",
      "Note: redshifts have been re-sorted (earliest first)\n",
      "no input beam found, setting include_beam to False\n",
      "no input beam found, setting include_beam to False\n"
     ]
    },
    {
     "name": "stderr",
     "output_type": "stream",
     "text": [
      "/global/homes/z/ztchen/.conda/envs/meer21cm/lib/python3.10/site-packages/numpy/fft/_helper.py:170: RuntimeWarning: divide by zero encountered in scalar divide\n",
      "  val = 1.0 / (n * d)\n",
      "/global/homes/z/ztchen/.conda/envs/meer21cm/lib/python3.10/site-packages/numpy/fft/_helper.py:177: RuntimeWarning: invalid value encountered in multiply\n",
      "  return results * val\n"
     ]
    },
    {
     "name": "stdout",
     "output_type": "stream",
     "text": [
      "Note: redshifts have been re-sorted (earliest first)\n",
      "no input beam found, setting include_beam to False\n",
      "Note: redshifts have been re-sorted (earliest first)\n",
      "no input beam found, setting include_beam to False\n"
     ]
    },
    {
     "name": "stderr",
     "output_type": "stream",
     "text": [
      "/global/homes/z/ztchen/.conda/envs/meer21cm/lib/python3.10/site-packages/numpy/fft/_helper.py:170: RuntimeWarning: divide by zero encountered in scalar divide\n",
      "  val = 1.0 / (n * d)\n",
      "/global/homes/z/ztchen/.conda/envs/meer21cm/lib/python3.10/site-packages/numpy/fft/_helper.py:177: RuntimeWarning: invalid value encountered in multiply\n",
      "  return results * val\n"
     ]
    },
    {
     "name": "stdout",
     "output_type": "stream",
     "text": [
      "Note: redshifts have been re-sorted (earliest first)\n",
      "Note: redshifts have been re-sorted (earliest first)\n",
      "no input beam found, setting include_beam to Falseno input beam found, setting include_beam to False\n",
      "\n"
     ]
    },
    {
     "name": "stderr",
     "output_type": "stream",
     "text": [
      "/global/homes/z/ztchen/.conda/envs/meer21cm/lib/python3.10/site-packages/numpy/fft/_helper.py:170: RuntimeWarning: divide by zero encountered in scalar divide\n",
      "  val = 1.0 / (n * d)\n",
      "/global/homes/z/ztchen/.conda/envs/meer21cm/lib/python3.10/site-packages/numpy/fft/_helper.py:177: RuntimeWarning: invalid value encountered in multiply\n",
      "  return results * val\n"
     ]
    },
    {
     "name": "stdout",
     "output_type": "stream",
     "text": [
      "Note: redshifts have been re-sorted (earliest first)\n",
      "no input beam found, setting include_beam to False\n",
      "Note: redshifts have been re-sorted (earliest first)\n",
      "Note: redshifts have been re-sorted (earliest first)\n",
      "no input beam found, setting include_beam to False\n"
     ]
    },
    {
     "name": "stderr",
     "output_type": "stream",
     "text": [
      "/global/homes/z/ztchen/.conda/envs/meer21cm/lib/python3.10/site-packages/numpy/fft/_helper.py:170: RuntimeWarning: divide by zero encountered in scalar divide\n",
      "  val = 1.0 / (n * d)\n",
      "/global/homes/z/ztchen/.conda/envs/meer21cm/lib/python3.10/site-packages/numpy/fft/_helper.py:177: RuntimeWarning: invalid value encountered in multiply\n",
      "  return results * val\n"
     ]
    },
    {
     "name": "stdout",
     "output_type": "stream",
     "text": [
      "Note: redshifts have been re-sorted (earliest first)\n",
      "no input beam found, setting include_beam to False\n",
      "Note: redshifts have been re-sorted (earliest first)\n",
      "Note: redshifts have been re-sorted (earliest first)\n",
      "Note: redshifts have been re-sorted (earliest first)\n",
      "Note: redshifts have been re-sorted (earliest first)\n",
      "Note: redshifts have been re-sorted (earliest first)\n",
      "Note: redshifts have been re-sorted (earliest first)\n",
      "Note: redshifts have been re-sorted (earliest first)\n",
      "Note: redshifts have been re-sorted (earliest first)\n",
      "Note: redshifts have been re-sorted (earliest first)\n",
      "Note: redshifts have been re-sorted (earliest first)\n",
      "Note: redshifts have been re-sorted (earliest first)\n",
      "no input beam found, setting include_beam to False\n"
     ]
    },
    {
     "name": "stderr",
     "output_type": "stream",
     "text": [
      "/global/homes/z/ztchen/.conda/envs/meer21cm/lib/python3.10/site-packages/numpy/fft/_helper.py:170: RuntimeWarning: divide by zero encountered in scalar divide\n",
      "  val = 1.0 / (n * d)\n",
      "/global/homes/z/ztchen/.conda/envs/meer21cm/lib/python3.10/site-packages/numpy/fft/_helper.py:177: RuntimeWarning: invalid value encountered in multiply\n",
      "  return results * val\n"
     ]
    },
    {
     "name": "stdout",
     "output_type": "stream",
     "text": [
      "Note: redshifts have been re-sorted (earliest first)\n",
      "no input beam found, setting include_beam to False\n",
      "Note: redshifts have been re-sorted (earliest first)\n",
      "no input beam found, setting include_beam to False\n"
     ]
    },
    {
     "name": "stderr",
     "output_type": "stream",
     "text": [
      "/global/homes/z/ztchen/.conda/envs/meer21cm/lib/python3.10/site-packages/numpy/fft/_helper.py:170: RuntimeWarning: divide by zero encountered in scalar divide\n",
      "  val = 1.0 / (n * d)\n",
      "/global/homes/z/ztchen/.conda/envs/meer21cm/lib/python3.10/site-packages/numpy/fft/_helper.py:177: RuntimeWarning: invalid value encountered in multiply\n",
      "  return results * val\n"
     ]
    },
    {
     "name": "stdout",
     "output_type": "stream",
     "text": [
      "Note: redshifts have been re-sorted (earliest first)\n",
      "no input beam found, setting include_beam to False\n",
      "Note: redshifts have been re-sorted (earliest first)\n",
      "no input beam found, setting include_beam to False\n"
     ]
    },
    {
     "name": "stderr",
     "output_type": "stream",
     "text": [
      "/global/homes/z/ztchen/.conda/envs/meer21cm/lib/python3.10/site-packages/numpy/fft/_helper.py:170: RuntimeWarning: divide by zero encountered in scalar divide\n",
      "  val = 1.0 / (n * d)\n",
      "/global/homes/z/ztchen/.conda/envs/meer21cm/lib/python3.10/site-packages/numpy/fft/_helper.py:177: RuntimeWarning: invalid value encountered in multiply\n",
      "  return results * val\n"
     ]
    },
    {
     "name": "stdout",
     "output_type": "stream",
     "text": [
      "Note: redshifts have been re-sorted (earliest first)\n",
      "no input beam found, setting include_beam to False\n",
      "Note: redshifts have been re-sorted (earliest first)\n",
      "Note: redshifts have been re-sorted (earliest first)\n",
      "Note: redshifts have been re-sorted (earliest first)\n",
      "Note: redshifts have been re-sorted (earliest first)\n",
      "no input beam found, setting include_beam to False\n"
     ]
    },
    {
     "name": "stderr",
     "output_type": "stream",
     "text": [
      "/global/homes/z/ztchen/.conda/envs/meer21cm/lib/python3.10/site-packages/numpy/fft/_helper.py:170: RuntimeWarning: divide by zero encountered in scalar divide\n",
      "  val = 1.0 / (n * d)\n",
      "/global/homes/z/ztchen/.conda/envs/meer21cm/lib/python3.10/site-packages/numpy/fft/_helper.py:177: RuntimeWarning: invalid value encountered in multiply\n",
      "  return results * val\n"
     ]
    },
    {
     "name": "stdout",
     "output_type": "stream",
     "text": [
      "Note: redshifts have been re-sorted (earliest first)\n",
      "no input beam found, setting include_beam to False\n",
      "Note: redshifts have been re-sorted (earliest first)\n",
      "Note: redshifts have been re-sorted (earliest first)\n",
      "no input beam found, setting include_beam to False\n"
     ]
    },
    {
     "name": "stderr",
     "output_type": "stream",
     "text": [
      "/global/homes/z/ztchen/.conda/envs/meer21cm/lib/python3.10/site-packages/numpy/fft/_helper.py:170: RuntimeWarning: divide by zero encountered in scalar divide\n",
      "  val = 1.0 / (n * d)\n",
      "/global/homes/z/ztchen/.conda/envs/meer21cm/lib/python3.10/site-packages/numpy/fft/_helper.py:177: RuntimeWarning: invalid value encountered in multiply\n",
      "  return results * val\n"
     ]
    },
    {
     "name": "stdout",
     "output_type": "stream",
     "text": [
      "Note: redshifts have been re-sorted (earliest first)\n",
      "no input beam found, setting include_beam to False\n",
      "Note: redshifts have been re-sorted (earliest first)\n",
      "no input beam found, setting include_beam to False\n"
     ]
    },
    {
     "name": "stderr",
     "output_type": "stream",
     "text": [
      "/global/homes/z/ztchen/.conda/envs/meer21cm/lib/python3.10/site-packages/numpy/fft/_helper.py:170: RuntimeWarning: divide by zero encountered in scalar divide\n",
      "  val = 1.0 / (n * d)\n",
      "/global/homes/z/ztchen/.conda/envs/meer21cm/lib/python3.10/site-packages/numpy/fft/_helper.py:177: RuntimeWarning: invalid value encountered in multiply\n",
      "  return results * val\n"
     ]
    },
    {
     "name": "stdout",
     "output_type": "stream",
     "text": [
      "Note: redshifts have been re-sorted (earliest first)\n",
      "no input beam found, setting include_beam to False\n",
      "Note: redshifts have been re-sorted (earliest first)\n",
      "no input beam found, setting include_beam to False\n"
     ]
    },
    {
     "name": "stderr",
     "output_type": "stream",
     "text": [
      "/global/homes/z/ztchen/.conda/envs/meer21cm/lib/python3.10/site-packages/numpy/fft/_helper.py:170: RuntimeWarning: divide by zero encountered in scalar divide\n",
      "  val = 1.0 / (n * d)\n",
      "/global/homes/z/ztchen/.conda/envs/meer21cm/lib/python3.10/site-packages/numpy/fft/_helper.py:177: RuntimeWarning: invalid value encountered in multiply\n",
      "  return results * val\n"
     ]
    },
    {
     "name": "stdout",
     "output_type": "stream",
     "text": [
      "Note: redshifts have been re-sorted (earliest first)\n",
      "Note: redshifts have been re-sorted (earliest first)\n",
      "no input beam found, setting include_beam to False\n",
      "no input beam found, setting include_beam to False\n"
     ]
    },
    {
     "name": "stderr",
     "output_type": "stream",
     "text": [
      "/global/homes/z/ztchen/.conda/envs/meer21cm/lib/python3.10/site-packages/numpy/fft/_helper.py:170: RuntimeWarning: divide by zero encountered in scalar divide\n",
      "  val = 1.0 / (n * d)\n",
      "/global/homes/z/ztchen/.conda/envs/meer21cm/lib/python3.10/site-packages/numpy/fft/_helper.py:177: RuntimeWarning: invalid value encountered in multiply\n",
      "  return results * val\n"
     ]
    },
    {
     "name": "stdout",
     "output_type": "stream",
     "text": [
      "Note: redshifts have been re-sorted (earliest first)\n",
      "no input beam found, setting include_beam to False\n",
      "Note: redshifts have been re-sorted (earliest first)\n",
      "Note: redshifts have been re-sorted (earliest first)\n",
      "no input beam found, setting include_beam to False\n"
     ]
    },
    {
     "name": "stderr",
     "output_type": "stream",
     "text": [
      "/global/homes/z/ztchen/.conda/envs/meer21cm/lib/python3.10/site-packages/numpy/fft/_helper.py:170: RuntimeWarning: divide by zero encountered in scalar divide\n",
      "  val = 1.0 / (n * d)\n",
      "/global/homes/z/ztchen/.conda/envs/meer21cm/lib/python3.10/site-packages/numpy/fft/_helper.py:177: RuntimeWarning: invalid value encountered in multiply\n",
      "  return results * val\n"
     ]
    },
    {
     "name": "stdout",
     "output_type": "stream",
     "text": [
      "no input beam found, setting include_beam to False\n"
     ]
    },
    {
     "name": "stderr",
     "output_type": "stream",
     "text": [
      "/global/homes/z/ztchen/.conda/envs/meer21cm/lib/python3.10/site-packages/numpy/fft/_helper.py:170: RuntimeWarning: divide by zero encountered in scalar divide\n",
      "  val = 1.0 / (n * d)\n",
      "/global/homes/z/ztchen/.conda/envs/meer21cm/lib/python3.10/site-packages/numpy/fft/_helper.py:177: RuntimeWarning: invalid value encountered in multiply\n",
      "  return results * val\n"
     ]
    },
    {
     "name": "stdout",
     "output_type": "stream",
     "text": [
      "Note: redshifts have been re-sorted (earliest first)\n",
      "Note: redshifts have been re-sorted (earliest first)\n",
      "no input beam found, setting include_beam to False\n",
      "no input beam found, setting include_beam to False\n",
      "Note: redshifts have been re-sorted (earliest first)\n",
      "no input beam found, setting include_beam to False\n"
     ]
    },
    {
     "name": "stderr",
     "output_type": "stream",
     "text": [
      "/global/homes/z/ztchen/.conda/envs/meer21cm/lib/python3.10/site-packages/numpy/fft/_helper.py:170: RuntimeWarning: divide by zero encountered in scalar divide\n",
      "  val = 1.0 / (n * d)\n",
      "/global/homes/z/ztchen/.conda/envs/meer21cm/lib/python3.10/site-packages/numpy/fft/_helper.py:177: RuntimeWarning: invalid value encountered in multiply\n",
      "  return results * val\n"
     ]
    },
    {
     "name": "stdout",
     "output_type": "stream",
     "text": [
      "Note: redshifts have been re-sorted (earliest first)\n",
      "no input beam found, setting include_beam to False\n",
      "Note: redshifts have been re-sorted (earliest first)\n",
      "no input beam found, setting include_beam to False\n"
     ]
    },
    {
     "name": "stderr",
     "output_type": "stream",
     "text": [
      "/global/homes/z/ztchen/.conda/envs/meer21cm/lib/python3.10/site-packages/numpy/fft/_helper.py:170: RuntimeWarning: divide by zero encountered in scalar divide\n",
      "  val = 1.0 / (n * d)\n",
      "/global/homes/z/ztchen/.conda/envs/meer21cm/lib/python3.10/site-packages/numpy/fft/_helper.py:177: RuntimeWarning: invalid value encountered in multiply\n",
      "  return results * val\n"
     ]
    },
    {
     "name": "stdout",
     "output_type": "stream",
     "text": [
      "Note: redshifts have been re-sorted (earliest first)\n",
      "Note: redshifts have been re-sorted (earliest first)\n",
      "Note: redshifts have been re-sorted (earliest first)\n",
      "Note: redshifts have been re-sorted (earliest first)\n",
      "no input beam found, setting include_beam to False\n",
      "Note: redshifts have been re-sorted (earliest first)\n",
      "Note: redshifts have been re-sorted (earliest first)\n",
      "no input beam found, setting include_beam to False\n"
     ]
    },
    {
     "name": "stderr",
     "output_type": "stream",
     "text": [
      "/global/homes/z/ztchen/.conda/envs/meer21cm/lib/python3.10/site-packages/numpy/fft/_helper.py:170: RuntimeWarning: divide by zero encountered in scalar divide\n",
      "  val = 1.0 / (n * d)\n",
      "/global/homes/z/ztchen/.conda/envs/meer21cm/lib/python3.10/site-packages/numpy/fft/_helper.py:177: RuntimeWarning: invalid value encountered in multiply\n",
      "  return results * val\n"
     ]
    },
    {
     "name": "stdout",
     "output_type": "stream",
     "text": [
      "no input beam found, setting include_beam to False\n",
      "Note: redshifts have been re-sorted (earliest first)"
     ]
    },
    {
     "name": "stderr",
     "output_type": "stream",
     "text": [
      "/global/homes/z/ztchen/.conda/envs/meer21cm/lib/python3.10/site-packages/numpy/fft/_helper.py:170: RuntimeWarning: divide by zero encountered in scalar divide\n",
      "  val = 1.0 / (n * d)\n",
      "/global/homes/z/ztchen/.conda/envs/meer21cm/lib/python3.10/site-packages/numpy/fft/_helper.py:177: RuntimeWarning: invalid value encountered in multiply\n",
      "  return results * val\n"
     ]
    },
    {
     "name": "stdout",
     "output_type": "stream",
     "text": [
      "\n",
      "Note: redshifts have been re-sorted (earliest first)no input beam found, setting include_beam to False\n",
      "\n"
     ]
    },
    {
     "name": "stderr",
     "output_type": "stream",
     "text": [
      "/global/homes/z/ztchen/.conda/envs/meer21cm/lib/python3.10/site-packages/numpy/fft/_helper.py:170: RuntimeWarning: divide by zero encountered in scalar divide\n",
      "  val = 1.0 / (n * d)\n",
      "/global/homes/z/ztchen/.conda/envs/meer21cm/lib/python3.10/site-packages/numpy/fft/_helper.py:177: RuntimeWarning: invalid value encountered in multiply\n",
      "  return results * val\n"
     ]
    },
    {
     "name": "stdout",
     "output_type": "stream",
     "text": [
      "Note: redshifts have been re-sorted (earliest first)\n",
      "no input beam found, setting include_beam to False\n",
      "no input beam found, setting include_beam to False\n",
      "no input beam found, setting include_beam to False\n",
      "Note: redshifts have been re-sorted (earliest first)\n",
      "Note: redshifts have been re-sorted (earliest first)\n",
      "Note: redshifts have been re-sorted (earliest first)\n",
      "Note: redshifts have been re-sorted (earliest first)\n",
      "Note: redshifts have been re-sorted (earliest first)\n",
      "Note: redshifts have been re-sorted (earliest first)\n",
      "Note: redshifts have been re-sorted (earliest first)\n",
      "Note: redshifts have been re-sorted (earliest first)\n",
      "Note: redshifts have been re-sorted (earliest first)\n",
      "Note: redshifts have been re-sorted (earliest first)\n",
      "no input beam found, setting include_beam to False\n"
     ]
    },
    {
     "name": "stderr",
     "output_type": "stream",
     "text": [
      "/global/homes/z/ztchen/.conda/envs/meer21cm/lib/python3.10/site-packages/numpy/fft/_helper.py:170: RuntimeWarning: divide by zero encountered in scalar divide\n",
      "  val = 1.0 / (n * d)\n",
      "/global/homes/z/ztchen/.conda/envs/meer21cm/lib/python3.10/site-packages/numpy/fft/_helper.py:177: RuntimeWarning: invalid value encountered in multiply\n",
      "  return results * val\n"
     ]
    },
    {
     "name": "stdout",
     "output_type": "stream",
     "text": [
      "Note: redshifts have been re-sorted (earliest first)\n",
      "no input beam found, setting include_beam to False\n",
      "Note: redshifts have been re-sorted (earliest first)\n",
      "no input beam found, setting include_beam to False\n"
     ]
    },
    {
     "name": "stderr",
     "output_type": "stream",
     "text": [
      "/global/homes/z/ztchen/.conda/envs/meer21cm/lib/python3.10/site-packages/numpy/fft/_helper.py:170: RuntimeWarning: divide by zero encountered in scalar divide\n",
      "  val = 1.0 / (n * d)\n",
      "/global/homes/z/ztchen/.conda/envs/meer21cm/lib/python3.10/site-packages/numpy/fft/_helper.py:177: RuntimeWarning: invalid value encountered in multiply\n",
      "  return results * val\n"
     ]
    },
    {
     "name": "stdout",
     "output_type": "stream",
     "text": [
      "Note: redshifts have been re-sorted (earliest first)\n",
      "no input beam found, setting include_beam to False\n",
      "Note: redshifts have been re-sorted (earliest first)\n",
      "no input beam found, setting include_beam to False\n"
     ]
    },
    {
     "name": "stderr",
     "output_type": "stream",
     "text": [
      "/global/homes/z/ztchen/.conda/envs/meer21cm/lib/python3.10/site-packages/numpy/fft/_helper.py:170: RuntimeWarning: divide by zero encountered in scalar divide\n",
      "  val = 1.0 / (n * d)\n",
      "/global/homes/z/ztchen/.conda/envs/meer21cm/lib/python3.10/site-packages/numpy/fft/_helper.py:177: RuntimeWarning: invalid value encountered in multiply\n",
      "  return results * val\n"
     ]
    },
    {
     "name": "stdout",
     "output_type": "stream",
     "text": [
      "Note: redshifts have been re-sorted (earliest first)\n",
      "no input beam found, setting include_beam to False\n",
      "Note: redshifts have been re-sorted (earliest first)\n",
      "Note: redshifts have been re-sorted (earliest first)\n",
      "Note: redshifts have been re-sorted (earliest first)\n",
      "Note: redshifts have been re-sorted (earliest first)\n",
      "no input beam found, setting include_beam to False\n"
     ]
    },
    {
     "name": "stderr",
     "output_type": "stream",
     "text": [
      "/global/homes/z/ztchen/.conda/envs/meer21cm/lib/python3.10/site-packages/numpy/fft/_helper.py:170: RuntimeWarning: divide by zero encountered in scalar divide\n",
      "  val = 1.0 / (n * d)\n",
      "/global/homes/z/ztchen/.conda/envs/meer21cm/lib/python3.10/site-packages/numpy/fft/_helper.py:177: RuntimeWarning: invalid value encountered in multiply\n",
      "  return results * val\n"
     ]
    },
    {
     "name": "stdout",
     "output_type": "stream",
     "text": [
      "Note: redshifts have been re-sorted (earliest first)\n",
      "no input beam found, setting include_beam to False\n",
      "Note: redshifts have been re-sorted (earliest first)\n",
      "Note: redshifts have been re-sorted (earliest first)\n",
      "no input beam found, setting include_beam to False\n"
     ]
    },
    {
     "name": "stderr",
     "output_type": "stream",
     "text": [
      "/global/homes/z/ztchen/.conda/envs/meer21cm/lib/python3.10/site-packages/numpy/fft/_helper.py:170: RuntimeWarning: divide by zero encountered in scalar divide\n",
      "  val = 1.0 / (n * d)\n",
      "/global/homes/z/ztchen/.conda/envs/meer21cm/lib/python3.10/site-packages/numpy/fft/_helper.py:177: RuntimeWarning: invalid value encountered in multiply\n",
      "  return results * val\n"
     ]
    },
    {
     "name": "stdout",
     "output_type": "stream",
     "text": [
      "Note: redshifts have been re-sorted (earliest first)\n",
      "no input beam found, setting include_beam to False\n",
      "Note: redshifts have been re-sorted (earliest first)\n",
      "no input beam found, setting include_beam to False\n"
     ]
    },
    {
     "name": "stderr",
     "output_type": "stream",
     "text": [
      "/global/homes/z/ztchen/.conda/envs/meer21cm/lib/python3.10/site-packages/numpy/fft/_helper.py:170: RuntimeWarning: divide by zero encountered in scalar divide\n",
      "  val = 1.0 / (n * d)\n",
      "/global/homes/z/ztchen/.conda/envs/meer21cm/lib/python3.10/site-packages/numpy/fft/_helper.py:177: RuntimeWarning: invalid value encountered in multiply\n",
      "  return results * val\n"
     ]
    },
    {
     "name": "stdout",
     "output_type": "stream",
     "text": [
      "Note: redshifts have been re-sorted (earliest first)\n",
      "no input beam found, setting include_beam to False\n",
      "Note: redshifts have been re-sorted (earliest first)\n",
      "no input beam found, setting include_beam to False\n"
     ]
    },
    {
     "name": "stderr",
     "output_type": "stream",
     "text": [
      "/global/homes/z/ztchen/.conda/envs/meer21cm/lib/python3.10/site-packages/numpy/fft/_helper.py:170: RuntimeWarning: divide by zero encountered in scalar divide\n",
      "  val = 1.0 / (n * d)\n",
      "/global/homes/z/ztchen/.conda/envs/meer21cm/lib/python3.10/site-packages/numpy/fft/_helper.py:177: RuntimeWarning: invalid value encountered in multiply\n",
      "  return results * val\n"
     ]
    },
    {
     "name": "stdout",
     "output_type": "stream",
     "text": [
      "Note: redshifts have been re-sorted (earliest first)\n",
      "no input beam found, setting include_beam to False\n",
      "Note: redshifts have been re-sorted (earliest first)\n",
      "no input beam found, setting include_beam to False\n"
     ]
    },
    {
     "name": "stderr",
     "output_type": "stream",
     "text": [
      "/global/homes/z/ztchen/.conda/envs/meer21cm/lib/python3.10/site-packages/numpy/fft/_helper.py:170: RuntimeWarning: divide by zero encountered in scalar divide\n",
      "  val = 1.0 / (n * d)\n",
      "/global/homes/z/ztchen/.conda/envs/meer21cm/lib/python3.10/site-packages/numpy/fft/_helper.py:177: RuntimeWarning: invalid value encountered in multiply\n",
      "  return results * val\n"
     ]
    },
    {
     "name": "stdout",
     "output_type": "stream",
     "text": [
      "Note: redshifts have been re-sorted (earliest first)\n",
      "no input beam found, setting include_beam to False\n",
      "Note: redshifts have been re-sorted (earliest first)\n",
      "no input beam found, setting include_beam to False\n"
     ]
    },
    {
     "name": "stderr",
     "output_type": "stream",
     "text": [
      "/global/homes/z/ztchen/.conda/envs/meer21cm/lib/python3.10/site-packages/numpy/fft/_helper.py:170: RuntimeWarning: divide by zero encountered in scalar divide\n",
      "  val = 1.0 / (n * d)\n",
      "/global/homes/z/ztchen/.conda/envs/meer21cm/lib/python3.10/site-packages/numpy/fft/_helper.py:177: RuntimeWarning: invalid value encountered in multiply\n",
      "  return results * val\n"
     ]
    },
    {
     "name": "stdout",
     "output_type": "stream",
     "text": [
      "Note: redshifts have been re-sorted (earliest first)\n",
      "no input beam found, setting include_beam to False\n",
      "Note: redshifts have been re-sorted (earliest first)\n",
      "no input beam found, setting include_beam to False\n"
     ]
    },
    {
     "name": "stderr",
     "output_type": "stream",
     "text": [
      "/global/homes/z/ztchen/.conda/envs/meer21cm/lib/python3.10/site-packages/numpy/fft/_helper.py:170: RuntimeWarning: divide by zero encountered in scalar divide\n",
      "  val = 1.0 / (n * d)\n",
      "/global/homes/z/ztchen/.conda/envs/meer21cm/lib/python3.10/site-packages/numpy/fft/_helper.py:177: RuntimeWarning: invalid value encountered in multiply\n",
      "  return results * val\n"
     ]
    },
    {
     "name": "stdout",
     "output_type": "stream",
     "text": [
      "Note: redshifts have been re-sorted (earliest first)\n",
      "Note: redshifts have been re-sorted (earliest first)\n",
      "no input beam found, setting include_beam to False\n"
     ]
    },
    {
     "name": "stderr",
     "output_type": "stream",
     "text": [
      "/global/homes/z/ztchen/.conda/envs/meer21cm/lib/python3.10/site-packages/numpy/fft/_helper.py:170: RuntimeWarning: divide by zero encountered in scalar divide\n",
      "  val = 1.0 / (n * d)\n",
      "/global/homes/z/ztchen/.conda/envs/meer21cm/lib/python3.10/site-packages/numpy/fft/_helper.py:177: RuntimeWarning: invalid value encountered in multiply\n",
      "  return results * val\n"
     ]
    },
    {
     "name": "stdout",
     "output_type": "stream",
     "text": [
      "no input beam found, setting include_beam to False\n",
      "Note: redshifts have been re-sorted (earliest first)\n",
      "no input beam found, setting include_beam to False\n",
      "Note: redshifts have been re-sorted (earliest first)\n",
      "Note: redshifts have been re-sorted (earliest first)\n",
      "no input beam found, setting include_beam to False\n"
     ]
    },
    {
     "name": "stderr",
     "output_type": "stream",
     "text": [
      "/global/homes/z/ztchen/.conda/envs/meer21cm/lib/python3.10/site-packages/numpy/fft/_helper.py:170: RuntimeWarning: divide by zero encountered in scalar divide\n",
      "  val = 1.0 / (n * d)\n",
      "/global/homes/z/ztchen/.conda/envs/meer21cm/lib/python3.10/site-packages/numpy/fft/_helper.py:177: RuntimeWarning: invalid value encountered in multiply\n",
      "  return results * val\n"
     ]
    },
    {
     "name": "stdout",
     "output_type": "stream",
     "text": [
      "Note: redshifts have been re-sorted (earliest first)\n",
      "no input beam found, setting include_beam to False\n",
      "Note: redshifts have been re-sorted (earliest first)\n",
      "Note: redshifts have been re-sorted (earliest first)\n",
      "no input beam found, setting include_beam to False\n"
     ]
    },
    {
     "name": "stderr",
     "output_type": "stream",
     "text": [
      "/global/homes/z/ztchen/.conda/envs/meer21cm/lib/python3.10/site-packages/numpy/fft/_helper.py:170: RuntimeWarning: divide by zero encountered in scalar divide\n",
      "  val = 1.0 / (n * d)\n",
      "/global/homes/z/ztchen/.conda/envs/meer21cm/lib/python3.10/site-packages/numpy/fft/_helper.py:177: RuntimeWarning: invalid value encountered in multiply\n",
      "  return results * val\n"
     ]
    },
    {
     "name": "stdout",
     "output_type": "stream",
     "text": [
      "Note: redshifts have been re-sorted (earliest first)\n",
      "Note: redshifts have been re-sorted (earliest first)\n",
      "no input beam found, setting include_beam to Falseno input beam found, setting include_beam to False\n",
      "\n"
     ]
    },
    {
     "name": "stderr",
     "output_type": "stream",
     "text": [
      "/global/homes/z/ztchen/.conda/envs/meer21cm/lib/python3.10/site-packages/numpy/fft/_helper.py:170: RuntimeWarning: divide by zero encountered in scalar divide\n",
      "  val = 1.0 / (n * d)\n",
      "/global/homes/z/ztchen/.conda/envs/meer21cm/lib/python3.10/site-packages/numpy/fft/_helper.py:177: RuntimeWarning: invalid value encountered in multiply\n",
      "  return results * val\n"
     ]
    },
    {
     "name": "stdout",
     "output_type": "stream",
     "text": [
      "Note: redshifts have been re-sorted (earliest first)\n",
      "Note: redshifts have been re-sorted (earliest first)\n",
      "no input beam found, setting include_beam to False\n",
      "no input beam found, setting include_beam to False\n"
     ]
    },
    {
     "name": "stderr",
     "output_type": "stream",
     "text": [
      "/global/homes/z/ztchen/.conda/envs/meer21cm/lib/python3.10/site-packages/numpy/fft/_helper.py:170: RuntimeWarning: divide by zero encountered in scalar divide\n",
      "  val = 1.0 / (n * d)\n",
      "/global/homes/z/ztchen/.conda/envs/meer21cm/lib/python3.10/site-packages/numpy/fft/_helper.py:177: RuntimeWarning: invalid value encountered in multiply\n",
      "  return results * val\n"
     ]
    },
    {
     "name": "stdout",
     "output_type": "stream",
     "text": [
      "Note: redshifts have been re-sorted (earliest first)\n",
      "no input beam found, setting include_beam to False\n",
      "Note: redshifts have been re-sorted (earliest first)\n",
      "Note: redshifts have been re-sorted (earliest first)\n",
      "Note: redshifts have been re-sorted (earliest first)\n",
      "Note: redshifts have been re-sorted (earliest first)\n",
      "Note: redshifts have been re-sorted (earliest first)\n",
      "Note: redshifts have been re-sorted (earliest first)\n",
      "Note: redshifts have been re-sorted (earliest first)\n",
      "Note: redshifts have been re-sorted (earliest first)\n",
      "Note: redshifts have been re-sorted (earliest first)\n",
      "Note: redshifts have been re-sorted (earliest first)\n",
      "no input beam found, setting include_beam to False\n"
     ]
    },
    {
     "name": "stderr",
     "output_type": "stream",
     "text": [
      "/global/homes/z/ztchen/.conda/envs/meer21cm/lib/python3.10/site-packages/numpy/fft/_helper.py:170: RuntimeWarning: divide by zero encountered in scalar divide\n",
      "  val = 1.0 / (n * d)\n",
      "/global/homes/z/ztchen/.conda/envs/meer21cm/lib/python3.10/site-packages/numpy/fft/_helper.py:177: RuntimeWarning: invalid value encountered in multiply\n",
      "  return results * val\n"
     ]
    },
    {
     "name": "stdout",
     "output_type": "stream",
     "text": [
      "Note: redshifts have been re-sorted (earliest first)\n",
      "no input beam found, setting include_beam to False\n",
      "Note: redshifts have been re-sorted (earliest first)\n",
      "no input beam found, setting include_beam to False\n"
     ]
    },
    {
     "name": "stderr",
     "output_type": "stream",
     "text": [
      "/global/homes/z/ztchen/.conda/envs/meer21cm/lib/python3.10/site-packages/numpy/fft/_helper.py:170: RuntimeWarning: divide by zero encountered in scalar divide\n",
      "  val = 1.0 / (n * d)\n",
      "/global/homes/z/ztchen/.conda/envs/meer21cm/lib/python3.10/site-packages/numpy/fft/_helper.py:177: RuntimeWarning: invalid value encountered in multiply\n",
      "  return results * val\n"
     ]
    },
    {
     "name": "stdout",
     "output_type": "stream",
     "text": [
      "Note: redshifts have been re-sorted (earliest first)\n",
      "no input beam found, setting include_beam to False\n",
      "Note: redshifts have been re-sorted (earliest first)\n",
      "no input beam found, setting include_beam to False\n"
     ]
    },
    {
     "name": "stderr",
     "output_type": "stream",
     "text": [
      "/global/homes/z/ztchen/.conda/envs/meer21cm/lib/python3.10/site-packages/numpy/fft/_helper.py:170: RuntimeWarning: divide by zero encountered in scalar divide\n",
      "  val = 1.0 / (n * d)\n",
      "/global/homes/z/ztchen/.conda/envs/meer21cm/lib/python3.10/site-packages/numpy/fft/_helper.py:177: RuntimeWarning: invalid value encountered in multiply\n",
      "  return results * val\n"
     ]
    },
    {
     "name": "stdout",
     "output_type": "stream",
     "text": [
      "Note: redshifts have been re-sorted (earliest first)\n",
      "no input beam found, setting include_beam to False\n",
      "Note: redshifts have been re-sorted (earliest first)\n",
      "Note: redshifts have been re-sorted (earliest first)\n",
      "Note: redshifts have been re-sorted (earliest first)\n",
      "Note: redshifts have been re-sorted (earliest first)\n",
      "no input beam found, setting include_beam to False\n"
     ]
    },
    {
     "name": "stderr",
     "output_type": "stream",
     "text": [
      "/global/homes/z/ztchen/.conda/envs/meer21cm/lib/python3.10/site-packages/numpy/fft/_helper.py:170: RuntimeWarning: divide by zero encountered in scalar divide\n",
      "  val = 1.0 / (n * d)\n",
      "/global/homes/z/ztchen/.conda/envs/meer21cm/lib/python3.10/site-packages/numpy/fft/_helper.py:177: RuntimeWarning: invalid value encountered in multiply\n",
      "  return results * val\n"
     ]
    },
    {
     "name": "stdout",
     "output_type": "stream",
     "text": [
      "Note: redshifts have been re-sorted (earliest first)\n",
      "no input beam found, setting include_beam to False\n",
      "Note: redshifts have been re-sorted (earliest first)\n",
      "Note: redshifts have been re-sorted (earliest first)\n",
      "no input beam found, setting include_beam to False\n"
     ]
    },
    {
     "name": "stderr",
     "output_type": "stream",
     "text": [
      "/global/homes/z/ztchen/.conda/envs/meer21cm/lib/python3.10/site-packages/numpy/fft/_helper.py:170: RuntimeWarning: divide by zero encountered in scalar divide\n",
      "  val = 1.0 / (n * d)\n",
      "/global/homes/z/ztchen/.conda/envs/meer21cm/lib/python3.10/site-packages/numpy/fft/_helper.py:177: RuntimeWarning: invalid value encountered in multiply\n",
      "  return results * val\n"
     ]
    },
    {
     "name": "stdout",
     "output_type": "stream",
     "text": [
      "Note: redshifts have been re-sorted (earliest first)\n",
      "no input beam found, setting include_beam to False\n",
      "Note: redshifts have been re-sorted (earliest first)\n",
      "no input beam found, setting include_beam to False\n"
     ]
    },
    {
     "name": "stderr",
     "output_type": "stream",
     "text": [
      "/global/homes/z/ztchen/.conda/envs/meer21cm/lib/python3.10/site-packages/numpy/fft/_helper.py:170: RuntimeWarning: divide by zero encountered in scalar divide\n",
      "  val = 1.0 / (n * d)\n",
      "/global/homes/z/ztchen/.conda/envs/meer21cm/lib/python3.10/site-packages/numpy/fft/_helper.py:177: RuntimeWarning: invalid value encountered in multiply\n",
      "  return results * val\n"
     ]
    },
    {
     "name": "stdout",
     "output_type": "stream",
     "text": [
      "Note: redshifts have been re-sorted (earliest first)\n",
      "no input beam found, setting include_beam to False\n",
      "Note: redshifts have been re-sorted (earliest first)\n",
      "no input beam found, setting include_beam to False\n"
     ]
    },
    {
     "name": "stderr",
     "output_type": "stream",
     "text": [
      "/global/homes/z/ztchen/.conda/envs/meer21cm/lib/python3.10/site-packages/numpy/fft/_helper.py:170: RuntimeWarning: divide by zero encountered in scalar divide\n",
      "  val = 1.0 / (n * d)\n",
      "/global/homes/z/ztchen/.conda/envs/meer21cm/lib/python3.10/site-packages/numpy/fft/_helper.py:177: RuntimeWarning: invalid value encountered in multiply\n",
      "  return results * val\n"
     ]
    },
    {
     "name": "stdout",
     "output_type": "stream",
     "text": [
      "Note: redshifts have been re-sorted (earliest first)\n",
      "no input beam found, setting include_beam to False\n",
      "Note: redshifts have been re-sorted (earliest first)\n",
      "no input beam found, setting include_beam to False\n"
     ]
    },
    {
     "name": "stderr",
     "output_type": "stream",
     "text": [
      "/global/homes/z/ztchen/.conda/envs/meer21cm/lib/python3.10/site-packages/numpy/fft/_helper.py:170: RuntimeWarning: divide by zero encountered in scalar divide\n",
      "  val = 1.0 / (n * d)\n",
      "/global/homes/z/ztchen/.conda/envs/meer21cm/lib/python3.10/site-packages/numpy/fft/_helper.py:177: RuntimeWarning: invalid value encountered in multiply\n",
      "  return results * val\n"
     ]
    },
    {
     "name": "stdout",
     "output_type": "stream",
     "text": [
      "Note: redshifts have been re-sorted (earliest first)\n",
      "no input beam found, setting include_beam to False\n",
      "Note: redshifts have been re-sorted (earliest first)\n",
      "no input beam found, setting include_beam to False\n"
     ]
    },
    {
     "name": "stderr",
     "output_type": "stream",
     "text": [
      "/global/homes/z/ztchen/.conda/envs/meer21cm/lib/python3.10/site-packages/numpy/fft/_helper.py:170: RuntimeWarning: divide by zero encountered in scalar divide\n",
      "  val = 1.0 / (n * d)\n",
      "/global/homes/z/ztchen/.conda/envs/meer21cm/lib/python3.10/site-packages/numpy/fft/_helper.py:177: RuntimeWarning: invalid value encountered in multiply\n",
      "  return results * val\n"
     ]
    },
    {
     "name": "stdout",
     "output_type": "stream",
     "text": [
      "Note: redshifts have been re-sorted (earliest first)\n",
      "no input beam found, setting include_beam to False\n",
      "Note: redshifts have been re-sorted (earliest first)\n",
      "Note: redshifts have been re-sorted (earliest first)\n",
      "Note: redshifts have been re-sorted (earliest first)\n",
      "Note: redshifts have been re-sorted (earliest first)\n",
      "no input beam found, setting include_beam to False\n"
     ]
    },
    {
     "name": "stderr",
     "output_type": "stream",
     "text": [
      "/global/homes/z/ztchen/.conda/envs/meer21cm/lib/python3.10/site-packages/numpy/fft/_helper.py:170: RuntimeWarning: divide by zero encountered in scalar divide\n",
      "  val = 1.0 / (n * d)\n",
      "/global/homes/z/ztchen/.conda/envs/meer21cm/lib/python3.10/site-packages/numpy/fft/_helper.py:177: RuntimeWarning: invalid value encountered in multiply\n",
      "  return results * val\n"
     ]
    },
    {
     "name": "stdout",
     "output_type": "stream",
     "text": [
      "Note: redshifts have been re-sorted (earliest first)\n",
      "no input beam found, setting include_beam to False\n"
     ]
    },
    {
     "name": "stderr",
     "output_type": "stream",
     "text": [
      "/global/homes/z/ztchen/.conda/envs/meer21cm/lib/python3.10/site-packages/numpy/fft/_helper.py:170: RuntimeWarning: divide by zero encountered in scalar divide\n",
      "  val = 1.0 / (n * d)\n",
      "/global/homes/z/ztchen/.conda/envs/meer21cm/lib/python3.10/site-packages/numpy/fft/_helper.py:177: RuntimeWarning: invalid value encountered in multiply\n",
      "  return results * val\n"
     ]
    },
    {
     "name": "stdout",
     "output_type": "stream",
     "text": [
      "no input beam found, setting include_beam to False\n",
      "Note: redshifts have been re-sorted (earliest first)\n",
      "no input beam found, setting include_beam to False\n",
      "Note: redshifts have been re-sorted (earliest first)\n",
      "Note: redshifts have been re-sorted (earliest first)no input beam found, setting include_beam to False\n",
      "\n"
     ]
    },
    {
     "name": "stderr",
     "output_type": "stream",
     "text": [
      "/global/homes/z/ztchen/.conda/envs/meer21cm/lib/python3.10/site-packages/numpy/fft/_helper.py:170: RuntimeWarning: divide by zero encountered in scalar divide\n",
      "  val = 1.0 / (n * d)\n",
      "/global/homes/z/ztchen/.conda/envs/meer21cm/lib/python3.10/site-packages/numpy/fft/_helper.py:177: RuntimeWarning: invalid value encountered in multiply\n",
      "  return results * val\n"
     ]
    },
    {
     "name": "stdout",
     "output_type": "stream",
     "text": [
      "Note: redshifts have been re-sorted (earliest first)\n",
      "no input beam found, setting include_beam to False\n",
      "Note: redshifts have been re-sorted (earliest first)\n",
      "no input beam found, setting include_beam to False\n"
     ]
    },
    {
     "name": "stderr",
     "output_type": "stream",
     "text": [
      "/global/homes/z/ztchen/.conda/envs/meer21cm/lib/python3.10/site-packages/numpy/fft/_helper.py:170: RuntimeWarning: divide by zero encountered in scalar divide\n",
      "  val = 1.0 / (n * d)\n",
      "/global/homes/z/ztchen/.conda/envs/meer21cm/lib/python3.10/site-packages/numpy/fft/_helper.py:177: RuntimeWarning: invalid value encountered in multiply\n",
      "  return results * val\n"
     ]
    },
    {
     "name": "stdout",
     "output_type": "stream",
     "text": [
      "Note: redshifts have been re-sorted (earliest first)\n",
      "Note: redshifts have been re-sorted (earliest first)\n",
      "Note: redshifts have been re-sorted (earliest first)\n",
      "no input beam found, setting include_beam to False\n",
      "no input beam found, setting include_beam to False\n"
     ]
    },
    {
     "name": "stderr",
     "output_type": "stream",
     "text": [
      "/global/homes/z/ztchen/.conda/envs/meer21cm/lib/python3.10/site-packages/numpy/fft/_helper.py:170: RuntimeWarning: divide by zero encountered in scalar divide\n",
      "  val = 1.0 / (n * d)\n",
      "/global/homes/z/ztchen/.conda/envs/meer21cm/lib/python3.10/site-packages/numpy/fft/_helper.py:177: RuntimeWarning: invalid value encountered in multiply\n",
      "  return results * val\n"
     ]
    },
    {
     "name": "stdout",
     "output_type": "stream",
     "text": [
      "Note: redshifts have been re-sorted (earliest first)\n",
      "no input beam found, setting include_beam to False\n",
      "Note: redshifts have been re-sorted (earliest first)\n",
      "Note: redshifts have been re-sorted (earliest first)\n",
      "no input beam found, setting include_beam to False\n"
     ]
    },
    {
     "name": "stderr",
     "output_type": "stream",
     "text": [
      "/global/homes/z/ztchen/.conda/envs/meer21cm/lib/python3.10/site-packages/numpy/fft/_helper.py:170: RuntimeWarning: divide by zero encountered in scalar divide\n",
      "  val = 1.0 / (n * d)\n",
      "/global/homes/z/ztchen/.conda/envs/meer21cm/lib/python3.10/site-packages/numpy/fft/_helper.py:177: RuntimeWarning: invalid value encountered in multiply\n",
      "  return results * val\n"
     ]
    },
    {
     "name": "stdout",
     "output_type": "stream",
     "text": [
      "Note: redshifts have been re-sorted (earliest first)\n",
      "no input beam found, setting include_beam to False\n",
      "Note: redshifts have been re-sorted (earliest first)\n",
      "Note: redshifts have been re-sorted (earliest first)\n",
      "Note: redshifts have been re-sorted (earliest first)\n",
      "no input beam found, setting include_beam to False\n"
     ]
    },
    {
     "name": "stderr",
     "output_type": "stream",
     "text": [
      "/global/homes/z/ztchen/.conda/envs/meer21cm/lib/python3.10/site-packages/numpy/fft/_helper.py:170: RuntimeWarning: divide by zero encountered in scalar divide\n",
      "  val = 1.0 / (n * d)\n",
      "/global/homes/z/ztchen/.conda/envs/meer21cm/lib/python3.10/site-packages/numpy/fft/_helper.py:177: RuntimeWarning: invalid value encountered in multiply\n",
      "  return results * val\n"
     ]
    },
    {
     "name": "stdout",
     "output_type": "stream",
     "text": [
      "Note: redshifts have been re-sorted (earliest first)\n",
      "no input beam found, setting include_beam to False\n",
      "Note: redshifts have been re-sorted (earliest first)\n",
      "Note: redshifts have been re-sorted (earliest first)\n",
      "Note: redshifts have been re-sorted (earliest first)\n",
      "Note: redshifts have been re-sorted (earliest first)\n",
      "Note: redshifts have been re-sorted (earliest first)\n",
      "no input beam found, setting include_beam to False\n"
     ]
    },
    {
     "name": "stderr",
     "output_type": "stream",
     "text": [
      "/global/homes/z/ztchen/.conda/envs/meer21cm/lib/python3.10/site-packages/numpy/fft/_helper.py:170: RuntimeWarning: divide by zero encountered in scalar divide\n",
      "  val = 1.0 / (n * d)\n",
      "/global/homes/z/ztchen/.conda/envs/meer21cm/lib/python3.10/site-packages/numpy/fft/_helper.py:177: RuntimeWarning: invalid value encountered in multiply\n",
      "  return results * val\n"
     ]
    },
    {
     "name": "stdout",
     "output_type": "stream",
     "text": [
      "Note: redshifts have been re-sorted (earliest first)\n",
      "no input beam found, setting include_beam to False\n",
      "Note: redshifts have been re-sorted (earliest first)\n",
      "no input beam found, setting include_beam to False\n"
     ]
    },
    {
     "name": "stderr",
     "output_type": "stream",
     "text": [
      "/global/homes/z/ztchen/.conda/envs/meer21cm/lib/python3.10/site-packages/numpy/fft/_helper.py:170: RuntimeWarning: divide by zero encountered in scalar divide\n",
      "  val = 1.0 / (n * d)\n",
      "/global/homes/z/ztchen/.conda/envs/meer21cm/lib/python3.10/site-packages/numpy/fft/_helper.py:177: RuntimeWarning: invalid value encountered in multiply\n",
      "  return results * val\n"
     ]
    },
    {
     "name": "stdout",
     "output_type": "stream",
     "text": [
      "Note: redshifts have been re-sorted (earliest first)\n",
      "no input beam found, setting include_beam to False\n",
      "Note: redshifts have been re-sorted (earliest first)\n",
      "Note: redshifts have been re-sorted (earliest first)\n",
      "Note: redshifts have been re-sorted (earliest first)\n",
      "Note: redshifts have been re-sorted (earliest first)\n",
      "no input beam found, setting include_beam to False\n"
     ]
    },
    {
     "name": "stderr",
     "output_type": "stream",
     "text": [
      "/global/homes/z/ztchen/.conda/envs/meer21cm/lib/python3.10/site-packages/numpy/fft/_helper.py:170: RuntimeWarning: divide by zero encountered in scalar divide\n",
      "  val = 1.0 / (n * d)\n",
      "/global/homes/z/ztchen/.conda/envs/meer21cm/lib/python3.10/site-packages/numpy/fft/_helper.py:177: RuntimeWarning: invalid value encountered in multiply\n",
      "  return results * val\n"
     ]
    },
    {
     "name": "stdout",
     "output_type": "stream",
     "text": [
      "Note: redshifts have been re-sorted (earliest first)\n",
      "no input beam found, setting include_beam to False\n",
      "Note: redshifts have been re-sorted (earliest first)\n",
      "Note: redshifts have been re-sorted (earliest first)\n",
      "no input beam found, setting include_beam to False\n"
     ]
    },
    {
     "name": "stderr",
     "output_type": "stream",
     "text": [
      "/global/homes/z/ztchen/.conda/envs/meer21cm/lib/python3.10/site-packages/numpy/fft/_helper.py:170: RuntimeWarning: divide by zero encountered in scalar divide\n",
      "  val = 1.0 / (n * d)\n",
      "/global/homes/z/ztchen/.conda/envs/meer21cm/lib/python3.10/site-packages/numpy/fft/_helper.py:177: RuntimeWarning: invalid value encountered in multiply\n",
      "  return results * val\n"
     ]
    },
    {
     "name": "stdout",
     "output_type": "stream",
     "text": [
      "Note: redshifts have been re-sorted (earliest first)\n",
      "no input beam found, setting include_beam to False\n",
      "Note: redshifts have been re-sorted (earliest first)\n",
      "no input beam found, setting include_beam to False\n"
     ]
    },
    {
     "name": "stderr",
     "output_type": "stream",
     "text": [
      "/global/homes/z/ztchen/.conda/envs/meer21cm/lib/python3.10/site-packages/numpy/fft/_helper.py:170: RuntimeWarning: divide by zero encountered in scalar divide\n",
      "  val = 1.0 / (n * d)\n",
      "/global/homes/z/ztchen/.conda/envs/meer21cm/lib/python3.10/site-packages/numpy/fft/_helper.py:177: RuntimeWarning: invalid value encountered in multiply\n",
      "  return results * val\n"
     ]
    },
    {
     "name": "stdout",
     "output_type": "stream",
     "text": [
      "Note: redshifts have been re-sorted (earliest first)\n",
      "no input beam found, setting include_beam to False\n",
      "Note: redshifts have been re-sorted (earliest first)\n",
      "no input beam found, setting include_beam to False\n"
     ]
    },
    {
     "name": "stderr",
     "output_type": "stream",
     "text": [
      "/global/homes/z/ztchen/.conda/envs/meer21cm/lib/python3.10/site-packages/numpy/fft/_helper.py:170: RuntimeWarning: divide by zero encountered in scalar divide\n",
      "  val = 1.0 / (n * d)\n",
      "/global/homes/z/ztchen/.conda/envs/meer21cm/lib/python3.10/site-packages/numpy/fft/_helper.py:177: RuntimeWarning: invalid value encountered in multiply\n",
      "  return results * val\n"
     ]
    },
    {
     "name": "stdout",
     "output_type": "stream",
     "text": [
      "Note: redshifts have been re-sorted (earliest first)\n",
      "no input beam found, setting include_beam to False\n",
      "Note: redshifts have been re-sorted (earliest first)\n",
      "no input beam found, setting include_beam to False\n"
     ]
    },
    {
     "name": "stderr",
     "output_type": "stream",
     "text": [
      "/global/homes/z/ztchen/.conda/envs/meer21cm/lib/python3.10/site-packages/numpy/fft/_helper.py:170: RuntimeWarning: divide by zero encountered in scalar divide\n",
      "  val = 1.0 / (n * d)\n",
      "/global/homes/z/ztchen/.conda/envs/meer21cm/lib/python3.10/site-packages/numpy/fft/_helper.py:177: RuntimeWarning: invalid value encountered in multiply\n",
      "  return results * val\n"
     ]
    },
    {
     "name": "stdout",
     "output_type": "stream",
     "text": [
      "Note: redshifts have been re-sorted (earliest first)\n",
      "no input beam found, setting include_beam to False\n",
      "Note: redshifts have been re-sorted (earliest first)\n",
      "Note: redshifts have been re-sorted (earliest first)\n",
      "Note: redshifts have been re-sorted (earliest first)\n",
      "Note: redshifts have been re-sorted (earliest first)\n",
      "Note: redshifts have been re-sorted (earliest first)\n",
      "no input beam found, setting include_beam to False\n"
     ]
    },
    {
     "name": "stderr",
     "output_type": "stream",
     "text": [
      "/global/homes/z/ztchen/.conda/envs/meer21cm/lib/python3.10/site-packages/numpy/fft/_helper.py:170: RuntimeWarning: divide by zero encountered in scalar divide\n",
      "  val = 1.0 / (n * d)\n",
      "/global/homes/z/ztchen/.conda/envs/meer21cm/lib/python3.10/site-packages/numpy/fft/_helper.py:177: RuntimeWarning: invalid value encountered in multiply\n",
      "  return results * val\n"
     ]
    },
    {
     "name": "stdout",
     "output_type": "stream",
     "text": [
      "Note: redshifts have been re-sorted (earliest first)\n",
      "no input beam found, setting include_beam to False\n",
      "Note: redshifts have been re-sorted (earliest first)\n",
      "Note: redshifts have been re-sorted (earliest first)\n",
      "no input beam found, setting include_beam to False\n"
     ]
    },
    {
     "name": "stderr",
     "output_type": "stream",
     "text": [
      "/global/homes/z/ztchen/.conda/envs/meer21cm/lib/python3.10/site-packages/numpy/fft/_helper.py:170: RuntimeWarning: divide by zero encountered in scalar divide\n",
      "  val = 1.0 / (n * d)\n",
      "/global/homes/z/ztchen/.conda/envs/meer21cm/lib/python3.10/site-packages/numpy/fft/_helper.py:177: RuntimeWarning: invalid value encountered in multiply\n",
      "  return results * val\n"
     ]
    },
    {
     "name": "stdout",
     "output_type": "stream",
     "text": [
      "Note: redshifts have been re-sorted (earliest first)\n",
      "no input beam found, setting include_beam to False\n",
      "Note: redshifts have been re-sorted (earliest first)\n",
      "no input beam found, setting include_beam to False\n"
     ]
    },
    {
     "name": "stderr",
     "output_type": "stream",
     "text": [
      "/global/homes/z/ztchen/.conda/envs/meer21cm/lib/python3.10/site-packages/numpy/fft/_helper.py:170: RuntimeWarning: divide by zero encountered in scalar divide\n",
      "  val = 1.0 / (n * d)\n",
      "/global/homes/z/ztchen/.conda/envs/meer21cm/lib/python3.10/site-packages/numpy/fft/_helper.py:177: RuntimeWarning: invalid value encountered in multiply\n",
      "  return results * val\n"
     ]
    },
    {
     "name": "stdout",
     "output_type": "stream",
     "text": [
      "Note: redshifts have been re-sorted (earliest first)\n",
      "no input beam found, setting include_beam to False\n",
      "Note: redshifts have been re-sorted (earliest first)\n",
      "no input beam found, setting include_beam to False\n"
     ]
    },
    {
     "name": "stderr",
     "output_type": "stream",
     "text": [
      "/global/homes/z/ztchen/.conda/envs/meer21cm/lib/python3.10/site-packages/numpy/fft/_helper.py:170: RuntimeWarning: divide by zero encountered in scalar divide\n",
      "  val = 1.0 / (n * d)\n",
      "/global/homes/z/ztchen/.conda/envs/meer21cm/lib/python3.10/site-packages/numpy/fft/_helper.py:177: RuntimeWarning: invalid value encountered in multiply\n",
      "  return results * val\n"
     ]
    },
    {
     "name": "stdout",
     "output_type": "stream",
     "text": [
      "Note: redshifts have been re-sorted (earliest first)\n",
      "no input beam found, setting include_beam to False\n",
      "Note: redshifts have been re-sorted (earliest first)\n",
      "Note: redshifts have been re-sorted (earliest first)\n",
      "no input beam found, setting include_beam to False\n"
     ]
    },
    {
     "name": "stderr",
     "output_type": "stream",
     "text": [
      "/global/homes/z/ztchen/.conda/envs/meer21cm/lib/python3.10/site-packages/numpy/fft/_helper.py:170: RuntimeWarning: divide by zero encountered in scalar divide\n",
      "  val = 1.0 / (n * d)\n",
      "/global/homes/z/ztchen/.conda/envs/meer21cm/lib/python3.10/site-packages/numpy/fft/_helper.py:177: RuntimeWarning: invalid value encountered in multiply\n",
      "  return results * val\n"
     ]
    },
    {
     "name": "stdout",
     "output_type": "stream",
     "text": [
      "Note: redshifts have been re-sorted (earliest first)\n",
      "no input beam found, setting include_beam to False\n",
      "Note: redshifts have been re-sorted (earliest first)\n",
      "Note: redshifts have been re-sorted (earliest first)\n",
      "Note: redshifts have been re-sorted (earliest first)\n"
     ]
    }
   ],
   "source": [
    "window = 'cic'\n",
    "rsd = False\n",
    "arglist = [(i, window, rsd) for i in range(100)]\n",
    "pg3d_arr = []\n",
    "sn_arr = []\n",
    "with Pool(15) as p:\n",
    "    for pg3d, sn, pmod3d in p.starmap(get_3d_power, arglist):\n",
    "        pg3d_arr.append(pg3d)\n",
    "        sn_arr.append(sn)\n",
    "np.save(save_dir + f'pg3d_arr_{window}_rsd_{rsd}.npy', pg3d_arr)\n",
    "np.save(save_dir + f'sn_arr_{window}_rsd_{rsd}.npy', sn_arr)\n",
    "np.save(save_dir + f'pmod3d_rsd_{rsd}.npy', pmod3d)"
   ]
  },
  {
   "cell_type": "code",
   "execution_count": 5,
   "metadata": {},
   "outputs": [
    {
     "name": "stdout",
     "output_type": "stream",
     "text": [
      "Note: redshifts have been re-sorted (earliest first)\n",
      "Note: redshifts have been re-sorted (earliest first)Note: redshifts have been re-sorted (earliest first)Note: redshifts have been re-sorted (earliest first)Note: redshifts have been re-sorted (earliest first)Note: redshifts have been re-sorted (earliest first)\n",
      "\n",
      "\n",
      "\n",
      "\n",
      "Note: redshifts have been re-sorted (earliest first)\n",
      "Note: redshifts have been re-sorted (earliest first)Note: redshifts have been re-sorted (earliest first)Note: redshifts have been re-sorted (earliest first)Note: redshifts have been re-sorted (earliest first)Note: redshifts have been re-sorted (earliest first)Note: redshifts have been re-sorted (earliest first)Note: redshifts have been re-sorted (earliest first)\n",
      "\n",
      "\n",
      "Note: redshifts have been re-sorted (earliest first)\n",
      "\n",
      "\n",
      "\n",
      "\n"
     ]
    },
    {
     "name": "stdout",
     "output_type": "stream",
     "text": [
      "no input beam found, setting include_beam to False\n",
      "no input beam found, setting include_beam to Falseno input beam found, setting include_beam to False\n",
      "no input beam found, setting include_beam to False\n",
      "\n"
     ]
    },
    {
     "name": "stderr",
     "output_type": "stream",
     "text": [
      "/global/homes/z/ztchen/.conda/envs/meer21cm/lib/python3.10/site-packages/numpy/fft/_helper.py:170: RuntimeWarning: divide by zero encountered in scalar divide\n",
      "  val = 1.0 / (n * d)\n"
     ]
    },
    {
     "name": "stdout",
     "output_type": "stream",
     "text": [
      "no input beam found, setting include_beam to Falseno input beam found, setting include_beam to False\n",
      "\n"
     ]
    },
    {
     "name": "stderr",
     "output_type": "stream",
     "text": [
      "/global/homes/z/ztchen/.conda/envs/meer21cm/lib/python3.10/site-packages/numpy/fft/_helper.py:170: RuntimeWarning: divide by zero encountered in scalar divide\n",
      "  val = 1.0 / (n * d)\n",
      "/global/homes/z/ztchen/.conda/envs/meer21cm/lib/python3.10/site-packages/numpy/fft/_helper.py:177: RuntimeWarning: invalid value encountered in multiply\n",
      "  return results * val\n",
      "/global/homes/z/ztchen/.conda/envs/meer21cm/lib/python3.10/site-packages/numpy/fft/_helper.py:170: RuntimeWarning: divide by zero encountered in scalar divide\n",
      "  val = 1.0 / (n * d)\n",
      "/global/homes/z/ztchen/.conda/envs/meer21cm/lib/python3.10/site-packages/numpy/fft/_helper.py:170: RuntimeWarning: divide by zero encountered in scalar divide\n",
      "  val = 1.0 / (n * d)\n",
      "/global/homes/z/ztchen/.conda/envs/meer21cm/lib/python3.10/site-packages/numpy/fft/_helper.py:177: RuntimeWarning: invalid value encountered in multiply\n",
      "  return results * val\n",
      "/global/homes/z/ztchen/.conda/envs/meer21cm/lib/python3.10/site-packages/numpy/fft/_helper.py:170: RuntimeWarning: divide by zero encountered in scalar divide\n",
      "  val = 1.0 / (n * d)\n",
      "/global/homes/z/ztchen/.conda/envs/meer21cm/lib/python3.10/site-packages/numpy/fft/_helper.py:177: RuntimeWarning: invalid value encountered in multiply\n",
      "  return results * val\n",
      "/global/homes/z/ztchen/.conda/envs/meer21cm/lib/python3.10/site-packages/numpy/fft/_helper.py:177: RuntimeWarning: invalid value encountered in multiply\n",
      "  return results * val\n",
      "/global/homes/z/ztchen/.conda/envs/meer21cm/lib/python3.10/site-packages/numpy/fft/_helper.py:177: RuntimeWarning: invalid value encountered in multiply\n",
      "  return results * val\n",
      "/global/homes/z/ztchen/.conda/envs/meer21cm/lib/python3.10/site-packages/numpy/fft/_helper.py:170: RuntimeWarning: divide by zero encountered in scalar divide\n",
      "  val = 1.0 / (n * d)\n"
     ]
    },
    {
     "name": "stdout",
     "output_type": "stream",
     "text": [
      "no input beam found, setting include_beam to False"
     ]
    },
    {
     "name": "stderr",
     "output_type": "stream",
     "text": [
      "/global/homes/z/ztchen/.conda/envs/meer21cm/lib/python3.10/site-packages/numpy/fft/_helper.py:177: RuntimeWarning: invalid value encountered in multiply\n",
      "  return results * val\n"
     ]
    },
    {
     "name": "stdout",
     "output_type": "stream",
     "text": [
      "no input beam found, setting include_beam to Falseno input beam found, setting include_beam to Falseno input beam found, setting include_beam to False\n",
      "\n",
      "no input beam found, setting include_beam to False\n",
      "no input beam found, setting include_beam to False\n",
      "\n",
      "\n"
     ]
    },
    {
     "name": "stderr",
     "output_type": "stream",
     "text": [
      "/global/homes/z/ztchen/.conda/envs/meer21cm/lib/python3.10/site-packages/numpy/fft/_helper.py:170: RuntimeWarning: divide by zero encountered in scalar divide\n",
      "  val = 1.0 / (n * d)\n",
      "/global/homes/z/ztchen/.conda/envs/meer21cm/lib/python3.10/site-packages/numpy/fft/_helper.py:170: RuntimeWarning: divide by zero encountered in scalar divide\n",
      "  val = 1.0 / (n * d)\n",
      "/global/homes/z/ztchen/.conda/envs/meer21cm/lib/python3.10/site-packages/numpy/fft/_helper.py:170: RuntimeWarning: divide by zero encountered in scalar divide\n",
      "  val = 1.0 / (n * d)\n"
     ]
    },
    {
     "name": "stdout",
     "output_type": "stream",
     "text": [
      "no input beam found, setting include_beam to False"
     ]
    },
    {
     "name": "stderr",
     "output_type": "stream",
     "text": [
      "/global/homes/z/ztchen/.conda/envs/meer21cm/lib/python3.10/site-packages/numpy/fft/_helper.py:177: RuntimeWarning: invalid value encountered in multiply\n",
      "  return results * val\n",
      "/global/homes/z/ztchen/.conda/envs/meer21cm/lib/python3.10/site-packages/numpy/fft/_helper.py:170: RuntimeWarning: divide by zero encountered in scalar divide\n",
      "  val = 1.0 / (n * d)\n"
     ]
    },
    {
     "name": "stdout",
     "output_type": "stream",
     "text": [
      "\n"
     ]
    },
    {
     "name": "stderr",
     "output_type": "stream",
     "text": [
      "/global/homes/z/ztchen/.conda/envs/meer21cm/lib/python3.10/site-packages/numpy/fft/_helper.py:177: RuntimeWarning: invalid value encountered in multiply\n",
      "  return results * val\n",
      "/global/homes/z/ztchen/.conda/envs/meer21cm/lib/python3.10/site-packages/numpy/fft/_helper.py:170: RuntimeWarning: divide by zero encountered in scalar divide\n",
      "  val = 1.0 / (n * d)\n",
      "/global/homes/z/ztchen/.conda/envs/meer21cm/lib/python3.10/site-packages/numpy/fft/_helper.py:170: RuntimeWarning: divide by zero encountered in scalar divide\n",
      "  val = 1.0 / (n * d)\n",
      "/global/homes/z/ztchen/.conda/envs/meer21cm/lib/python3.10/site-packages/numpy/fft/_helper.py:177: RuntimeWarning: invalid value encountered in multiply\n",
      "  return results * val\n",
      "/global/homes/z/ztchen/.conda/envs/meer21cm/lib/python3.10/site-packages/numpy/fft/_helper.py:177: RuntimeWarning: invalid value encountered in multiply\n",
      "  return results * val\n",
      "/global/homes/z/ztchen/.conda/envs/meer21cm/lib/python3.10/site-packages/numpy/fft/_helper.py:177: RuntimeWarning: invalid value encountered in multiply\n",
      "  return results * val\n",
      "/global/homes/z/ztchen/.conda/envs/meer21cm/lib/python3.10/site-packages/numpy/fft/_helper.py:177: RuntimeWarning: invalid value encountered in multiply\n",
      "  return results * val\n"
     ]
    },
    {
     "name": "stdout",
     "output_type": "stream",
     "text": [
      "no input beam found, setting include_beam to False\n",
      "no input beam found, setting include_beam to False"
     ]
    },
    {
     "name": "stderr",
     "output_type": "stream",
     "text": [
      "/global/homes/z/ztchen/.conda/envs/meer21cm/lib/python3.10/site-packages/numpy/fft/_helper.py:170: RuntimeWarning: divide by zero encountered in scalar divide\n",
      "  val = 1.0 / (n * d)\n"
     ]
    },
    {
     "name": "stdout",
     "output_type": "stream",
     "text": [
      "\n"
     ]
    },
    {
     "name": "stderr",
     "output_type": "stream",
     "text": [
      "/global/homes/z/ztchen/.conda/envs/meer21cm/lib/python3.10/site-packages/numpy/fft/_helper.py:177: RuntimeWarning: invalid value encountered in multiply\n",
      "  return results * val\n",
      "/global/homes/z/ztchen/.conda/envs/meer21cm/lib/python3.10/site-packages/numpy/fft/_helper.py:170: RuntimeWarning: divide by zero encountered in scalar divide\n",
      "  val = 1.0 / (n * d)\n",
      "/global/homes/z/ztchen/.conda/envs/meer21cm/lib/python3.10/site-packages/numpy/fft/_helper.py:177: RuntimeWarning: invalid value encountered in multiply\n",
      "  return results * val\n",
      "/global/homes/z/ztchen/.conda/envs/meer21cm/lib/python3.10/site-packages/numpy/fft/_helper.py:170: RuntimeWarning: divide by zero encountered in scalar divide\n",
      "  val = 1.0 / (n * d)\n",
      "/global/homes/z/ztchen/.conda/envs/meer21cm/lib/python3.10/site-packages/numpy/fft/_helper.py:177: RuntimeWarning: invalid value encountered in multiply\n",
      "  return results * val\n"
     ]
    },
    {
     "name": "stdout",
     "output_type": "stream",
     "text": [
      "Note: redshifts have been re-sorted (earliest first)Note: redshifts have been re-sorted (earliest first)\n",
      "\n",
      "Note: redshifts have been re-sorted (earliest first)Note: redshifts have been re-sorted (earliest first)Note: redshifts have been re-sorted (earliest first)Note: redshifts have been re-sorted (earliest first)Note: redshifts have been re-sorted (earliest first)Note: redshifts have been re-sorted (earliest first)\n",
      "\n",
      "Note: redshifts have been re-sorted (earliest first)\n",
      "Note: redshifts have been re-sorted (earliest first)Note: redshifts have been re-sorted (earliest first)\n",
      "\n",
      "\n",
      "Note: redshifts have been re-sorted (earliest first)\n",
      "\n",
      "Note: redshifts have been re-sorted (earliest first)Note: redshifts have been re-sorted (earliest first)\n",
      "\n",
      "\n",
      "\n",
      "Note: redshifts have been re-sorted (earliest first)\n",
      "no input beam found, setting include_beam to False\n",
      "no input beam found, setting include_beam to False\n",
      "no input beam found, setting include_beam to False\n",
      "no input beam found, setting include_beam to False\n",
      "no input beam found, setting include_beam to Falseno input beam found, setting include_beam to False\n",
      "no input beam found, setting include_beam to False\n",
      "no input beam found, setting include_beam to Falseno input beam found, setting include_beam to False\n",
      "\n",
      "\n",
      "no input beam found, setting include_beam to Falseno input beam found, setting include_beam to Falseno input beam found, setting include_beam to Falseno input beam found, setting include_beam to Falseno input beam found, setting include_beam to False\n",
      "\n",
      "no input beam found, setting include_beam to False\n",
      "\n",
      "\n",
      "\n",
      "Note: redshifts have been re-sorted (earliest first)\n",
      "Note: redshifts have been re-sorted (earliest first)\n",
      "Note: redshifts have been re-sorted (earliest first)\n",
      "Note: redshifts have been re-sorted (earliest first)\n",
      "Note: redshifts have been re-sorted (earliest first)\n",
      "Note: redshifts have been re-sorted (earliest first)\n",
      "Note: redshifts have been re-sorted (earliest first)\n",
      "Note: redshifts have been re-sorted (earliest first)\n",
      "Note: redshifts have been re-sorted (earliest first)\n",
      "Note: redshifts have been re-sorted (earliest first)\n",
      "Note: redshifts have been re-sorted (earliest first)\n",
      "Note: redshifts have been re-sorted (earliest first)\n",
      "Note: redshifts have been re-sorted (earliest first)\n",
      "Note: redshifts have been re-sorted (earliest first)\n",
      "Note: redshifts have been re-sorted (earliest first)\n",
      "Note: redshifts have been re-sorted (earliest first)\n",
      "no input beam found, setting include_beam to False\n",
      "Note: redshifts have been re-sorted (earliest first)\n"
     ]
    },
    {
     "name": "stderr",
     "output_type": "stream",
     "text": [
      "/global/homes/z/ztchen/.conda/envs/meer21cm/lib/python3.10/site-packages/numpy/fft/_helper.py:170: RuntimeWarning: divide by zero encountered in scalar divide\n",
      "  val = 1.0 / (n * d)\n",
      "/global/homes/z/ztchen/.conda/envs/meer21cm/lib/python3.10/site-packages/numpy/fft/_helper.py:177: RuntimeWarning: invalid value encountered in multiply\n",
      "  return results * val\n"
     ]
    },
    {
     "name": "stdout",
     "output_type": "stream",
     "text": [
      "Note: redshifts have been re-sorted (earliest first)\n",
      "no input beam found, setting include_beam to False\n"
     ]
    },
    {
     "name": "stderr",
     "output_type": "stream",
     "text": [
      "/global/homes/z/ztchen/.conda/envs/meer21cm/lib/python3.10/site-packages/numpy/fft/_helper.py:170: RuntimeWarning: divide by zero encountered in scalar divide\n",
      "  val = 1.0 / (n * d)\n",
      "/global/homes/z/ztchen/.conda/envs/meer21cm/lib/python3.10/site-packages/numpy/fft/_helper.py:177: RuntimeWarning: invalid value encountered in multiply\n",
      "  return results * val\n"
     ]
    },
    {
     "name": "stdout",
     "output_type": "stream",
     "text": [
      "no input beam found, setting include_beam to False\n",
      "Note: redshifts have been re-sorted (earliest first)\n",
      "no input beam found, setting include_beam to False\n",
      "Note: redshifts have been re-sorted (earliest first)\n",
      "no input beam found, setting include_beam to False\n"
     ]
    },
    {
     "name": "stderr",
     "output_type": "stream",
     "text": [
      "/global/homes/z/ztchen/.conda/envs/meer21cm/lib/python3.10/site-packages/numpy/fft/_helper.py:170: RuntimeWarning: divide by zero encountered in scalar divide\n",
      "  val = 1.0 / (n * d)\n",
      "/global/homes/z/ztchen/.conda/envs/meer21cm/lib/python3.10/site-packages/numpy/fft/_helper.py:177: RuntimeWarning: invalid value encountered in multiply\n",
      "  return results * val\n"
     ]
    },
    {
     "name": "stdout",
     "output_type": "stream",
     "text": [
      "Note: redshifts have been re-sorted (earliest first)\n",
      "Note: redshifts have been re-sorted (earliest first)\n",
      "no input beam found, setting include_beam to False\n",
      "no input beam found, setting include_beam to False\n"
     ]
    },
    {
     "name": "stderr",
     "output_type": "stream",
     "text": [
      "/global/homes/z/ztchen/.conda/envs/meer21cm/lib/python3.10/site-packages/numpy/fft/_helper.py:170: RuntimeWarning: divide by zero encountered in scalar divide\n",
      "  val = 1.0 / (n * d)\n",
      "/global/homes/z/ztchen/.conda/envs/meer21cm/lib/python3.10/site-packages/numpy/fft/_helper.py:177: RuntimeWarning: invalid value encountered in multiply\n",
      "  return results * val\n"
     ]
    },
    {
     "name": "stdout",
     "output_type": "stream",
     "text": [
      "Note: redshifts have been re-sorted (earliest first)\n",
      "no input beam found, setting include_beam to False\n",
      "Note: redshifts have been re-sorted (earliest first)\n",
      "no input beam found, setting include_beam to False\n"
     ]
    },
    {
     "name": "stderr",
     "output_type": "stream",
     "text": [
      "/global/homes/z/ztchen/.conda/envs/meer21cm/lib/python3.10/site-packages/numpy/fft/_helper.py:170: RuntimeWarning: divide by zero encountered in scalar divide\n",
      "  val = 1.0 / (n * d)\n",
      "/global/homes/z/ztchen/.conda/envs/meer21cm/lib/python3.10/site-packages/numpy/fft/_helper.py:177: RuntimeWarning: invalid value encountered in multiply\n",
      "  return results * val\n"
     ]
    },
    {
     "name": "stdout",
     "output_type": "stream",
     "text": [
      "Note: redshifts have been re-sorted (earliest first)\n",
      "no input beam found, setting include_beam to False\n",
      "Note: redshifts have been re-sorted (earliest first)\n",
      "Note: redshifts have been re-sorted (earliest first)\n",
      "Note: redshifts have been re-sorted (earliest first)\n",
      "Note: redshifts have been re-sorted (earliest first)\n",
      "no input beam found, setting include_beam to False\n"
     ]
    },
    {
     "name": "stderr",
     "output_type": "stream",
     "text": [
      "/global/homes/z/ztchen/.conda/envs/meer21cm/lib/python3.10/site-packages/numpy/fft/_helper.py:170: RuntimeWarning: divide by zero encountered in scalar divide\n",
      "  val = 1.0 / (n * d)\n",
      "/global/homes/z/ztchen/.conda/envs/meer21cm/lib/python3.10/site-packages/numpy/fft/_helper.py:177: RuntimeWarning: invalid value encountered in multiply\n",
      "  return results * val\n"
     ]
    },
    {
     "name": "stdout",
     "output_type": "stream",
     "text": [
      "Note: redshifts have been re-sorted (earliest first)\n",
      "Note: redshifts have been re-sorted (earliest first)\n",
      "no input beam found, setting include_beam to FalseNote: redshifts have been re-sorted (earliest first)\n",
      "\n",
      "no input beam found, setting include_beam to False\n"
     ]
    },
    {
     "name": "stderr",
     "output_type": "stream",
     "text": [
      "/global/homes/z/ztchen/.conda/envs/meer21cm/lib/python3.10/site-packages/numpy/fft/_helper.py:170: RuntimeWarning: divide by zero encountered in scalar divide\n",
      "  val = 1.0 / (n * d)\n",
      "/global/homes/z/ztchen/.conda/envs/meer21cm/lib/python3.10/site-packages/numpy/fft/_helper.py:177: RuntimeWarning: invalid value encountered in multiply\n",
      "  return results * val\n"
     ]
    },
    {
     "name": "stdout",
     "output_type": "stream",
     "text": [
      "Note: redshifts have been re-sorted (earliest first)\n",
      "Note: redshifts have been re-sorted (earliest first)\n",
      "no input beam found, setting include_beam to False\n",
      "Note: redshifts have been re-sorted (earliest first)\n",
      "no input beam found, setting include_beam to False\n"
     ]
    },
    {
     "name": "stderr",
     "output_type": "stream",
     "text": [
      "/global/homes/z/ztchen/.conda/envs/meer21cm/lib/python3.10/site-packages/numpy/fft/_helper.py:170: RuntimeWarning: divide by zero encountered in scalar divide\n",
      "  val = 1.0 / (n * d)\n",
      "/global/homes/z/ztchen/.conda/envs/meer21cm/lib/python3.10/site-packages/numpy/fft/_helper.py:177: RuntimeWarning: invalid value encountered in multiply\n",
      "  return results * val\n"
     ]
    },
    {
     "name": "stdout",
     "output_type": "stream",
     "text": [
      "Note: redshifts have been re-sorted (earliest first)\n",
      "no input beam found, setting include_beam to False\n",
      "Note: redshifts have been re-sorted (earliest first)\n",
      "no input beam found, setting include_beam to False\n"
     ]
    },
    {
     "name": "stderr",
     "output_type": "stream",
     "text": [
      "/global/homes/z/ztchen/.conda/envs/meer21cm/lib/python3.10/site-packages/numpy/fft/_helper.py:170: RuntimeWarning: divide by zero encountered in scalar divide\n",
      "  val = 1.0 / (n * d)\n",
      "/global/homes/z/ztchen/.conda/envs/meer21cm/lib/python3.10/site-packages/numpy/fft/_helper.py:177: RuntimeWarning: invalid value encountered in multiply\n",
      "  return results * val\n"
     ]
    },
    {
     "name": "stdout",
     "output_type": "stream",
     "text": [
      "Note: redshifts have been re-sorted (earliest first)\n",
      "no input beam found, setting include_beam to False\n",
      "Note: redshifts have been re-sorted (earliest first)\n",
      "Note: redshifts have been re-sorted (earliest first)\n",
      "no input beam found, setting include_beam to False\n"
     ]
    },
    {
     "name": "stderr",
     "output_type": "stream",
     "text": [
      "/global/homes/z/ztchen/.conda/envs/meer21cm/lib/python3.10/site-packages/numpy/fft/_helper.py:170: RuntimeWarning: divide by zero encountered in scalar divide\n",
      "  val = 1.0 / (n * d)\n",
      "/global/homes/z/ztchen/.conda/envs/meer21cm/lib/python3.10/site-packages/numpy/fft/_helper.py:177: RuntimeWarning: invalid value encountered in multiply\n",
      "  return results * val\n"
     ]
    },
    {
     "name": "stdout",
     "output_type": "stream",
     "text": [
      "Note: redshifts have been re-sorted (earliest first)\n",
      "Note: redshifts have been re-sorted (earliest first)\n",
      "no input beam found, setting include_beam to False\n",
      "Note: redshifts have been re-sorted (earliest first)\n",
      "no input beam found, setting include_beam to False\n"
     ]
    },
    {
     "name": "stderr",
     "output_type": "stream",
     "text": [
      "/global/homes/z/ztchen/.conda/envs/meer21cm/lib/python3.10/site-packages/numpy/fft/_helper.py:170: RuntimeWarning: divide by zero encountered in scalar divide\n",
      "  val = 1.0 / (n * d)\n",
      "/global/homes/z/ztchen/.conda/envs/meer21cm/lib/python3.10/site-packages/numpy/fft/_helper.py:177: RuntimeWarning: invalid value encountered in multiply\n",
      "  return results * val\n"
     ]
    },
    {
     "name": "stdout",
     "output_type": "stream",
     "text": [
      "Note: redshifts have been re-sorted (earliest first)\n",
      "no input beam found, setting include_beam to False\n",
      "Note: redshifts have been re-sorted (earliest first)\n",
      "no input beam found, setting include_beam to False\n"
     ]
    },
    {
     "name": "stderr",
     "output_type": "stream",
     "text": [
      "/global/homes/z/ztchen/.conda/envs/meer21cm/lib/python3.10/site-packages/numpy/fft/_helper.py:170: RuntimeWarning: divide by zero encountered in scalar divide\n",
      "  val = 1.0 / (n * d)\n",
      "/global/homes/z/ztchen/.conda/envs/meer21cm/lib/python3.10/site-packages/numpy/fft/_helper.py:177: RuntimeWarning: invalid value encountered in multiply\n",
      "  return results * val\n"
     ]
    },
    {
     "name": "stdout",
     "output_type": "stream",
     "text": [
      "Note: redshifts have been re-sorted (earliest first)\n",
      "no input beam found, setting include_beam to False\n",
      "Note: redshifts have been re-sorted (earliest first)\n",
      "no input beam found, setting include_beam to False\n"
     ]
    },
    {
     "name": "stderr",
     "output_type": "stream",
     "text": [
      "/global/homes/z/ztchen/.conda/envs/meer21cm/lib/python3.10/site-packages/numpy/fft/_helper.py:170: RuntimeWarning: divide by zero encountered in scalar divide\n",
      "  val = 1.0 / (n * d)\n",
      "/global/homes/z/ztchen/.conda/envs/meer21cm/lib/python3.10/site-packages/numpy/fft/_helper.py:177: RuntimeWarning: invalid value encountered in multiply\n",
      "  return results * val\n"
     ]
    },
    {
     "name": "stdout",
     "output_type": "stream",
     "text": [
      "Note: redshifts have been re-sorted (earliest first)\n",
      "no input beam found, setting include_beam to False\n",
      "Note: redshifts have been re-sorted (earliest first)\n",
      "Note: redshifts have been re-sorted (earliest first)\n",
      "no input beam found, setting include_beam to False\n"
     ]
    },
    {
     "name": "stderr",
     "output_type": "stream",
     "text": [
      "/global/homes/z/ztchen/.conda/envs/meer21cm/lib/python3.10/site-packages/numpy/fft/_helper.py:170: RuntimeWarning: divide by zero encountered in scalar divide\n",
      "  val = 1.0 / (n * d)\n",
      "/global/homes/z/ztchen/.conda/envs/meer21cm/lib/python3.10/site-packages/numpy/fft/_helper.py:177: RuntimeWarning: invalid value encountered in multiply\n",
      "  return results * val\n"
     ]
    },
    {
     "name": "stdout",
     "output_type": "stream",
     "text": [
      "Note: redshifts have been re-sorted (earliest first)\n",
      "Note: redshifts have been re-sorted (earliest first)\n",
      "no input beam found, setting include_beam to False\n",
      "Note: redshifts have been re-sorted (earliest first)\n",
      "no input beam found, setting include_beam to False\n"
     ]
    },
    {
     "name": "stderr",
     "output_type": "stream",
     "text": [
      "/global/homes/z/ztchen/.conda/envs/meer21cm/lib/python3.10/site-packages/numpy/fft/_helper.py:170: RuntimeWarning: divide by zero encountered in scalar divide\n",
      "  val = 1.0 / (n * d)\n",
      "/global/homes/z/ztchen/.conda/envs/meer21cm/lib/python3.10/site-packages/numpy/fft/_helper.py:177: RuntimeWarning: invalid value encountered in multiply\n",
      "  return results * val\n"
     ]
    },
    {
     "name": "stdout",
     "output_type": "stream",
     "text": [
      "Note: redshifts have been re-sorted (earliest first)\n",
      "no input beam found, setting include_beam to False\n",
      "Note: redshifts have been re-sorted (earliest first)\n",
      "Note: redshifts have been re-sorted (earliest first)\n",
      "Note: redshifts have been re-sorted (earliest first)\n",
      "Note: redshifts have been re-sorted (earliest first)\n",
      "Note: redshifts have been re-sorted (earliest first)\n",
      "Note: redshifts have been re-sorted (earliest first)\n",
      "Note: redshifts have been re-sorted (earliest first)\n",
      "no input beam found, setting include_beam to False\n"
     ]
    },
    {
     "name": "stderr",
     "output_type": "stream",
     "text": [
      "/global/homes/z/ztchen/.conda/envs/meer21cm/lib/python3.10/site-packages/numpy/fft/_helper.py:170: RuntimeWarning: divide by zero encountered in scalar divide\n",
      "  val = 1.0 / (n * d)\n",
      "/global/homes/z/ztchen/.conda/envs/meer21cm/lib/python3.10/site-packages/numpy/fft/_helper.py:177: RuntimeWarning: invalid value encountered in multiply\n",
      "  return results * val\n"
     ]
    },
    {
     "name": "stdout",
     "output_type": "stream",
     "text": [
      "Note: redshifts have been re-sorted (earliest first)\n",
      "no input beam found, setting include_beam to False\n",
      "Note: redshifts have been re-sorted (earliest first)\n",
      "no input beam found, setting include_beam to False\n"
     ]
    },
    {
     "name": "stderr",
     "output_type": "stream",
     "text": [
      "/global/homes/z/ztchen/.conda/envs/meer21cm/lib/python3.10/site-packages/numpy/fft/_helper.py:170: RuntimeWarning: divide by zero encountered in scalar divide\n",
      "  val = 1.0 / (n * d)\n",
      "/global/homes/z/ztchen/.conda/envs/meer21cm/lib/python3.10/site-packages/numpy/fft/_helper.py:177: RuntimeWarning: invalid value encountered in multiply\n",
      "  return results * val\n"
     ]
    },
    {
     "name": "stdout",
     "output_type": "stream",
     "text": [
      "Note: redshifts have been re-sorted (earliest first)\n",
      "no input beam found, setting include_beam to False\n",
      "Note: redshifts have been re-sorted (earliest first)\n",
      "Note: redshifts have been re-sorted (earliest first)\n",
      "Note: redshifts have been re-sorted (earliest first)\n",
      "no input beam found, setting include_beam to False\n"
     ]
    },
    {
     "name": "stderr",
     "output_type": "stream",
     "text": [
      "/global/homes/z/ztchen/.conda/envs/meer21cm/lib/python3.10/site-packages/numpy/fft/_helper.py:170: RuntimeWarning: divide by zero encountered in scalar divide\n",
      "  val = 1.0 / (n * d)\n",
      "/global/homes/z/ztchen/.conda/envs/meer21cm/lib/python3.10/site-packages/numpy/fft/_helper.py:177: RuntimeWarning: invalid value encountered in multiply\n",
      "  return results * val\n"
     ]
    },
    {
     "name": "stdout",
     "output_type": "stream",
     "text": [
      "Note: redshifts have been re-sorted (earliest first)\n",
      "no input beam found, setting include_beam to False\n",
      "Note: redshifts have been re-sorted (earliest first)\n",
      "no input beam found, setting include_beam to False\n"
     ]
    },
    {
     "name": "stderr",
     "output_type": "stream",
     "text": [
      "/global/homes/z/ztchen/.conda/envs/meer21cm/lib/python3.10/site-packages/numpy/fft/_helper.py:170: RuntimeWarning: divide by zero encountered in scalar divide\n",
      "  val = 1.0 / (n * d)\n",
      "/global/homes/z/ztchen/.conda/envs/meer21cm/lib/python3.10/site-packages/numpy/fft/_helper.py:177: RuntimeWarning: invalid value encountered in multiply\n",
      "  return results * val\n"
     ]
    },
    {
     "name": "stdout",
     "output_type": "stream",
     "text": [
      "Note: redshifts have been re-sorted (earliest first)\n",
      "no input beam found, setting include_beam to False\n",
      "Note: redshifts have been re-sorted (earliest first)\n",
      "no input beam found, setting include_beam to False\n"
     ]
    },
    {
     "name": "stderr",
     "output_type": "stream",
     "text": [
      "/global/homes/z/ztchen/.conda/envs/meer21cm/lib/python3.10/site-packages/numpy/fft/_helper.py:170: RuntimeWarning: divide by zero encountered in scalar divide\n",
      "  val = 1.0 / (n * d)\n",
      "/global/homes/z/ztchen/.conda/envs/meer21cm/lib/python3.10/site-packages/numpy/fft/_helper.py:177: RuntimeWarning: invalid value encountered in multiply\n",
      "  return results * val\n"
     ]
    },
    {
     "name": "stdout",
     "output_type": "stream",
     "text": [
      "Note: redshifts have been re-sorted (earliest first)\n",
      "no input beam found, setting include_beam to False\n",
      "Note: redshifts have been re-sorted (earliest first)\n",
      "Note: redshifts have been re-sorted (earliest first)\n",
      "Note: redshifts have been re-sorted (earliest first)\n",
      "Note: redshifts have been re-sorted (earliest first)\n",
      "no input beam found, setting include_beam to False\n"
     ]
    },
    {
     "name": "stderr",
     "output_type": "stream",
     "text": [
      "/global/homes/z/ztchen/.conda/envs/meer21cm/lib/python3.10/site-packages/numpy/fft/_helper.py:170: RuntimeWarning: divide by zero encountered in scalar divide\n",
      "  val = 1.0 / (n * d)\n",
      "/global/homes/z/ztchen/.conda/envs/meer21cm/lib/python3.10/site-packages/numpy/fft/_helper.py:177: RuntimeWarning: invalid value encountered in multiply\n",
      "  return results * val\n"
     ]
    },
    {
     "name": "stdout",
     "output_type": "stream",
     "text": [
      "Note: redshifts have been re-sorted (earliest first)\n",
      "no input beam found, setting include_beam to False\n",
      "Note: redshifts have been re-sorted (earliest first)\n",
      "no input beam found, setting include_beam to False\n"
     ]
    },
    {
     "name": "stderr",
     "output_type": "stream",
     "text": [
      "/global/homes/z/ztchen/.conda/envs/meer21cm/lib/python3.10/site-packages/numpy/fft/_helper.py:170: RuntimeWarning: divide by zero encountered in scalar divide\n",
      "  val = 1.0 / (n * d)\n",
      "/global/homes/z/ztchen/.conda/envs/meer21cm/lib/python3.10/site-packages/numpy/fft/_helper.py:177: RuntimeWarning: invalid value encountered in multiply\n",
      "  return results * val\n"
     ]
    },
    {
     "name": "stdout",
     "output_type": "stream",
     "text": [
      "Note: redshifts have been re-sorted (earliest first)\n",
      "no input beam found, setting include_beam to False\n",
      "Note: redshifts have been re-sorted (earliest first)\n",
      "no input beam found, setting include_beam to False\n"
     ]
    },
    {
     "name": "stderr",
     "output_type": "stream",
     "text": [
      "/global/homes/z/ztchen/.conda/envs/meer21cm/lib/python3.10/site-packages/numpy/fft/_helper.py:170: RuntimeWarning: divide by zero encountered in scalar divide\n",
      "  val = 1.0 / (n * d)\n",
      "/global/homes/z/ztchen/.conda/envs/meer21cm/lib/python3.10/site-packages/numpy/fft/_helper.py:177: RuntimeWarning: invalid value encountered in multiply\n",
      "  return results * val\n"
     ]
    },
    {
     "name": "stdout",
     "output_type": "stream",
     "text": [
      "Note: redshifts have been re-sorted (earliest first)\n",
      "no input beam found, setting include_beam to False\n",
      "Note: redshifts have been re-sorted (earliest first)\n",
      "no input beam found, setting include_beam to False\n"
     ]
    },
    {
     "name": "stderr",
     "output_type": "stream",
     "text": [
      "/global/homes/z/ztchen/.conda/envs/meer21cm/lib/python3.10/site-packages/numpy/fft/_helper.py:170: RuntimeWarning: divide by zero encountered in scalar divide\n",
      "  val = 1.0 / (n * d)\n",
      "/global/homes/z/ztchen/.conda/envs/meer21cm/lib/python3.10/site-packages/numpy/fft/_helper.py:177: RuntimeWarning: invalid value encountered in multiply\n",
      "  return results * val\n"
     ]
    },
    {
     "name": "stdout",
     "output_type": "stream",
     "text": [
      "Note: redshifts have been re-sorted (earliest first)\n",
      "Note: redshifts have been re-sorted (earliest first)\n",
      "no input beam found, setting include_beam to False\n"
     ]
    },
    {
     "name": "stderr",
     "output_type": "stream",
     "text": [
      "/global/homes/z/ztchen/.conda/envs/meer21cm/lib/python3.10/site-packages/numpy/fft/_helper.py:170: RuntimeWarning: divide by zero encountered in scalar divide\n",
      "  val = 1.0 / (n * d)\n",
      "/global/homes/z/ztchen/.conda/envs/meer21cm/lib/python3.10/site-packages/numpy/fft/_helper.py:177: RuntimeWarning: invalid value encountered in multiply\n",
      "  return results * val\n"
     ]
    },
    {
     "name": "stdout",
     "output_type": "stream",
     "text": [
      "no input beam found, setting include_beam to False\n",
      "Note: redshifts have been re-sorted (earliest first)\n",
      "no input beam found, setting include_beam to False\n",
      "Note: redshifts have been re-sorted (earliest first)\n",
      "Note: redshifts have been re-sorted (earliest first)\n",
      "Note: redshifts have been re-sorted (earliest first)\n",
      "Note: redshifts have been re-sorted (earliest first)\n",
      "Note: redshifts have been re-sorted (earliest first)\n",
      "Note: redshifts have been re-sorted (earliest first)\n",
      "no input beam found, setting include_beam to False\n"
     ]
    },
    {
     "name": "stderr",
     "output_type": "stream",
     "text": [
      "/global/homes/z/ztchen/.conda/envs/meer21cm/lib/python3.10/site-packages/numpy/fft/_helper.py:170: RuntimeWarning: divide by zero encountered in scalar divide\n",
      "  val = 1.0 / (n * d)\n",
      "/global/homes/z/ztchen/.conda/envs/meer21cm/lib/python3.10/site-packages/numpy/fft/_helper.py:177: RuntimeWarning: invalid value encountered in multiply\n",
      "  return results * val\n"
     ]
    },
    {
     "name": "stdout",
     "output_type": "stream",
     "text": [
      "Note: redshifts have been re-sorted (earliest first)\n",
      "Note: redshifts have been re-sorted (earliest first)\n",
      "no input beam found, setting include_beam to False\n",
      "no input beam found, setting include_beam to False\n"
     ]
    },
    {
     "name": "stderr",
     "output_type": "stream",
     "text": [
      "/global/homes/z/ztchen/.conda/envs/meer21cm/lib/python3.10/site-packages/numpy/fft/_helper.py:170: RuntimeWarning: divide by zero encountered in scalar divide\n",
      "  val = 1.0 / (n * d)\n",
      "/global/homes/z/ztchen/.conda/envs/meer21cm/lib/python3.10/site-packages/numpy/fft/_helper.py:177: RuntimeWarning: invalid value encountered in multiply\n",
      "  return results * val\n"
     ]
    },
    {
     "name": "stdout",
     "output_type": "stream",
     "text": [
      "Note: redshifts have been re-sorted (earliest first)\n",
      "no input beam found, setting include_beam to False\n",
      "Note: redshifts have been re-sorted (earliest first)\n",
      "no input beam found, setting include_beam to False\n"
     ]
    },
    {
     "name": "stderr",
     "output_type": "stream",
     "text": [
      "/global/homes/z/ztchen/.conda/envs/meer21cm/lib/python3.10/site-packages/numpy/fft/_helper.py:170: RuntimeWarning: divide by zero encountered in scalar divide\n",
      "  val = 1.0 / (n * d)\n",
      "/global/homes/z/ztchen/.conda/envs/meer21cm/lib/python3.10/site-packages/numpy/fft/_helper.py:177: RuntimeWarning: invalid value encountered in multiply\n",
      "  return results * val\n"
     ]
    },
    {
     "name": "stdout",
     "output_type": "stream",
     "text": [
      "Note: redshifts have been re-sorted (earliest first)\n",
      "no input beam found, setting include_beam to False\n",
      "Note: redshifts have been re-sorted (earliest first)\n",
      "Note: redshifts have been re-sorted (earliest first)\n",
      "Note: redshifts have been re-sorted (earliest first)\n",
      "no input beam found, setting include_beam to False\n"
     ]
    },
    {
     "name": "stderr",
     "output_type": "stream",
     "text": [
      "/global/homes/z/ztchen/.conda/envs/meer21cm/lib/python3.10/site-packages/numpy/fft/_helper.py:170: RuntimeWarning: divide by zero encountered in scalar divide\n",
      "  val = 1.0 / (n * d)\n",
      "/global/homes/z/ztchen/.conda/envs/meer21cm/lib/python3.10/site-packages/numpy/fft/_helper.py:177: RuntimeWarning: invalid value encountered in multiply\n",
      "  return results * val\n"
     ]
    },
    {
     "name": "stdout",
     "output_type": "stream",
     "text": [
      "Note: redshifts have been re-sorted (earliest first)\n",
      "no input beam found, setting include_beam to False\n",
      "Note: redshifts have been re-sorted (earliest first)\n",
      "Note: redshifts have been re-sorted (earliest first)\n",
      "no input beam found, setting include_beam to False\n"
     ]
    },
    {
     "name": "stderr",
     "output_type": "stream",
     "text": [
      "/global/homes/z/ztchen/.conda/envs/meer21cm/lib/python3.10/site-packages/numpy/fft/_helper.py:170: RuntimeWarning: divide by zero encountered in scalar divide\n",
      "  val = 1.0 / (n * d)\n",
      "/global/homes/z/ztchen/.conda/envs/meer21cm/lib/python3.10/site-packages/numpy/fft/_helper.py:177: RuntimeWarning: invalid value encountered in multiply\n",
      "  return results * val\n"
     ]
    },
    {
     "name": "stdout",
     "output_type": "stream",
     "text": [
      "Note: redshifts have been re-sorted (earliest first)\n",
      "no input beam found, setting include_beam to False\n",
      "Note: redshifts have been re-sorted (earliest first)\n",
      "Note: redshifts have been re-sorted (earliest first)\n",
      "Note: redshifts have been re-sorted (earliest first)\n",
      "Note: redshifts have been re-sorted (earliest first)\n",
      "no input beam found, setting include_beam to False\n"
     ]
    },
    {
     "name": "stderr",
     "output_type": "stream",
     "text": [
      "/global/homes/z/ztchen/.conda/envs/meer21cm/lib/python3.10/site-packages/numpy/fft/_helper.py:170: RuntimeWarning: divide by zero encountered in scalar divide\n",
      "  val = 1.0 / (n * d)\n",
      "/global/homes/z/ztchen/.conda/envs/meer21cm/lib/python3.10/site-packages/numpy/fft/_helper.py:177: RuntimeWarning: invalid value encountered in multiply\n",
      "  return results * val\n"
     ]
    },
    {
     "name": "stdout",
     "output_type": "stream",
     "text": [
      "Note: redshifts have been re-sorted (earliest first)\n",
      "no input beam found, setting include_beam to False\n"
     ]
    },
    {
     "name": "stderr",
     "output_type": "stream",
     "text": [
      "/global/homes/z/ztchen/.conda/envs/meer21cm/lib/python3.10/site-packages/numpy/fft/_helper.py:170: RuntimeWarning: divide by zero encountered in scalar divide\n",
      "  val = 1.0 / (n * d)\n",
      "/global/homes/z/ztchen/.conda/envs/meer21cm/lib/python3.10/site-packages/numpy/fft/_helper.py:177: RuntimeWarning: invalid value encountered in multiply\n",
      "  return results * val\n"
     ]
    },
    {
     "name": "stdout",
     "output_type": "stream",
     "text": [
      "no input beam found, setting include_beam to False\n",
      "Note: redshifts have been re-sorted (earliest first)\n",
      "no input beam found, setting include_beam to False\n",
      "Note: redshifts have been re-sorted (earliest first)\n",
      "Note: redshifts have been re-sorted (earliest first)\n",
      "Note: redshifts have been re-sorted (earliest first)\n",
      "no input beam found, setting include_beam to False\n"
     ]
    },
    {
     "name": "stderr",
     "output_type": "stream",
     "text": [
      "/global/homes/z/ztchen/.conda/envs/meer21cm/lib/python3.10/site-packages/numpy/fft/_helper.py:170: RuntimeWarning: divide by zero encountered in scalar divide\n",
      "  val = 1.0 / (n * d)\n",
      "/global/homes/z/ztchen/.conda/envs/meer21cm/lib/python3.10/site-packages/numpy/fft/_helper.py:177: RuntimeWarning: invalid value encountered in multiply\n",
      "  return results * val\n"
     ]
    },
    {
     "name": "stdout",
     "output_type": "stream",
     "text": [
      "Note: redshifts have been re-sorted (earliest first)\n",
      "no input beam found, setting include_beam to False\n",
      "Note: redshifts have been re-sorted (earliest first)\n",
      "no input beam found, setting include_beam to False\n"
     ]
    },
    {
     "name": "stderr",
     "output_type": "stream",
     "text": [
      "/global/homes/z/ztchen/.conda/envs/meer21cm/lib/python3.10/site-packages/numpy/fft/_helper.py:170: RuntimeWarning: divide by zero encountered in scalar divide\n",
      "  val = 1.0 / (n * d)\n",
      "/global/homes/z/ztchen/.conda/envs/meer21cm/lib/python3.10/site-packages/numpy/fft/_helper.py:177: RuntimeWarning: invalid value encountered in multiply\n",
      "  return results * val\n"
     ]
    },
    {
     "name": "stdout",
     "output_type": "stream",
     "text": [
      "Note: redshifts have been re-sorted (earliest first)\n",
      "no input beam found, setting include_beam to False\n",
      "Note: redshifts have been re-sorted (earliest first)\n",
      "no input beam found, setting include_beam to False\n"
     ]
    },
    {
     "name": "stderr",
     "output_type": "stream",
     "text": [
      "/global/homes/z/ztchen/.conda/envs/meer21cm/lib/python3.10/site-packages/numpy/fft/_helper.py:170: RuntimeWarning: divide by zero encountered in scalar divide\n",
      "  val = 1.0 / (n * d)\n",
      "/global/homes/z/ztchen/.conda/envs/meer21cm/lib/python3.10/site-packages/numpy/fft/_helper.py:177: RuntimeWarning: invalid value encountered in multiply\n",
      "  return results * val\n"
     ]
    },
    {
     "name": "stdout",
     "output_type": "stream",
     "text": [
      "Note: redshifts have been re-sorted (earliest first)\n",
      "no input beam found, setting include_beam to False\n",
      "Note: redshifts have been re-sorted (earliest first)\n",
      "Note: redshifts have been re-sorted (earliest first)\n",
      "Note: redshifts have been re-sorted (earliest first)\n",
      "Note: redshifts have been re-sorted (earliest first)\n",
      "no input beam found, setting include_beam to False\n"
     ]
    },
    {
     "name": "stderr",
     "output_type": "stream",
     "text": [
      "/global/homes/z/ztchen/.conda/envs/meer21cm/lib/python3.10/site-packages/numpy/fft/_helper.py:170: RuntimeWarning: divide by zero encountered in scalar divide\n",
      "  val = 1.0 / (n * d)\n",
      "/global/homes/z/ztchen/.conda/envs/meer21cm/lib/python3.10/site-packages/numpy/fft/_helper.py:177: RuntimeWarning: invalid value encountered in multiply\n",
      "  return results * val\n"
     ]
    },
    {
     "name": "stdout",
     "output_type": "stream",
     "text": [
      "Note: redshifts have been re-sorted (earliest first)\n",
      "no input beam found, setting include_beam to False\n",
      "Note: redshifts have been re-sorted (earliest first)\n",
      "no input beam found, setting include_beam to False\n"
     ]
    },
    {
     "name": "stderr",
     "output_type": "stream",
     "text": [
      "/global/homes/z/ztchen/.conda/envs/meer21cm/lib/python3.10/site-packages/numpy/fft/_helper.py:170: RuntimeWarning: divide by zero encountered in scalar divide\n",
      "  val = 1.0 / (n * d)\n",
      "/global/homes/z/ztchen/.conda/envs/meer21cm/lib/python3.10/site-packages/numpy/fft/_helper.py:177: RuntimeWarning: invalid value encountered in multiply\n",
      "  return results * val\n"
     ]
    },
    {
     "name": "stdout",
     "output_type": "stream",
     "text": [
      "Note: redshifts have been re-sorted (earliest first)\n",
      "no input beam found, setting include_beam to False\n",
      "Note: redshifts have been re-sorted (earliest first)\n",
      "no input beam found, setting include_beam to False\n"
     ]
    },
    {
     "name": "stderr",
     "output_type": "stream",
     "text": [
      "/global/homes/z/ztchen/.conda/envs/meer21cm/lib/python3.10/site-packages/numpy/fft/_helper.py:170: RuntimeWarning: divide by zero encountered in scalar divide\n",
      "  val = 1.0 / (n * d)\n",
      "/global/homes/z/ztchen/.conda/envs/meer21cm/lib/python3.10/site-packages/numpy/fft/_helper.py:177: RuntimeWarning: invalid value encountered in multiply\n",
      "  return results * val\n"
     ]
    },
    {
     "name": "stdout",
     "output_type": "stream",
     "text": [
      "Note: redshifts have been re-sorted (earliest first)\n",
      "no input beam found, setting include_beam to False\n",
      "Note: redshifts have been re-sorted (earliest first)\n",
      "Note: redshifts have been re-sorted (earliest first)\n",
      "Note: redshifts have been re-sorted (earliest first)\n",
      "Note: redshifts have been re-sorted (earliest first)\n",
      "no input beam found, setting include_beam to False\n"
     ]
    },
    {
     "name": "stderr",
     "output_type": "stream",
     "text": [
      "/global/homes/z/ztchen/.conda/envs/meer21cm/lib/python3.10/site-packages/numpy/fft/_helper.py:170: RuntimeWarning: divide by zero encountered in scalar divide\n",
      "  val = 1.0 / (n * d)\n",
      "/global/homes/z/ztchen/.conda/envs/meer21cm/lib/python3.10/site-packages/numpy/fft/_helper.py:177: RuntimeWarning: invalid value encountered in multiply\n",
      "  return results * val\n"
     ]
    },
    {
     "name": "stdout",
     "output_type": "stream",
     "text": [
      "Note: redshifts have been re-sorted (earliest first)\n",
      "no input beam found, setting include_beam to False\n",
      "Note: redshifts have been re-sorted (earliest first)\n",
      "no input beam found, setting include_beam to False\n"
     ]
    },
    {
     "name": "stderr",
     "output_type": "stream",
     "text": [
      "/global/homes/z/ztchen/.conda/envs/meer21cm/lib/python3.10/site-packages/numpy/fft/_helper.py:170: RuntimeWarning: divide by zero encountered in scalar divide\n",
      "  val = 1.0 / (n * d)\n",
      "/global/homes/z/ztchen/.conda/envs/meer21cm/lib/python3.10/site-packages/numpy/fft/_helper.py:177: RuntimeWarning: invalid value encountered in multiply\n",
      "  return results * val\n"
     ]
    },
    {
     "name": "stdout",
     "output_type": "stream",
     "text": [
      "Note: redshifts have been re-sorted (earliest first)\n",
      "no input beam found, setting include_beam to False\n",
      "Note: redshifts have been re-sorted (earliest first)\n",
      "Note: redshifts have been re-sorted (earliest first)\n",
      "no input beam found, setting include_beam to False\n"
     ]
    },
    {
     "name": "stderr",
     "output_type": "stream",
     "text": [
      "/global/homes/z/ztchen/.conda/envs/meer21cm/lib/python3.10/site-packages/numpy/fft/_helper.py:170: RuntimeWarning: divide by zero encountered in scalar divide\n",
      "  val = 1.0 / (n * d)\n",
      "/global/homes/z/ztchen/.conda/envs/meer21cm/lib/python3.10/site-packages/numpy/fft/_helper.py:177: RuntimeWarning: invalid value encountered in multiply\n",
      "  return results * val\n"
     ]
    },
    {
     "name": "stdout",
     "output_type": "stream",
     "text": [
      "Note: redshifts have been re-sorted (earliest first)\n",
      "no input beam found, setting include_beam to False\n"
     ]
    },
    {
     "name": "stderr",
     "output_type": "stream",
     "text": [
      "/global/homes/z/ztchen/.conda/envs/meer21cm/lib/python3.10/site-packages/numpy/fft/_helper.py:170: RuntimeWarning: divide by zero encountered in scalar divide\n",
      "  val = 1.0 / (n * d)\n"
     ]
    },
    {
     "name": "stdout",
     "output_type": "stream",
     "text": [
      "no input beam found, setting include_beam to False"
     ]
    },
    {
     "name": "stderr",
     "output_type": "stream",
     "text": [
      "/global/homes/z/ztchen/.conda/envs/meer21cm/lib/python3.10/site-packages/numpy/fft/_helper.py:177: RuntimeWarning: invalid value encountered in multiply\n",
      "  return results * val\n"
     ]
    },
    {
     "name": "stdout",
     "output_type": "stream",
     "text": [
      "\n",
      "Note: redshifts have been re-sorted (earliest first)\n",
      "no input beam found, setting include_beam to False\n",
      "Note: redshifts have been re-sorted (earliest first)\n",
      "no input beam found, setting include_beam to False\n"
     ]
    },
    {
     "name": "stderr",
     "output_type": "stream",
     "text": [
      "/global/homes/z/ztchen/.conda/envs/meer21cm/lib/python3.10/site-packages/numpy/fft/_helper.py:170: RuntimeWarning: divide by zero encountered in scalar divide\n",
      "  val = 1.0 / (n * d)\n",
      "/global/homes/z/ztchen/.conda/envs/meer21cm/lib/python3.10/site-packages/numpy/fft/_helper.py:177: RuntimeWarning: invalid value encountered in multiply\n",
      "  return results * val\n"
     ]
    },
    {
     "name": "stdout",
     "output_type": "stream",
     "text": [
      "Note: redshifts have been re-sorted (earliest first)\n",
      "no input beam found, setting include_beam to False\n",
      "Note: redshifts have been re-sorted (earliest first)\n",
      "Note: redshifts have been re-sorted (earliest first)\n",
      "Note: redshifts have been re-sorted (earliest first)\n",
      "Note: redshifts have been re-sorted (earliest first)no input beam found, setting include_beam to False\n",
      "\n"
     ]
    },
    {
     "name": "stderr",
     "output_type": "stream",
     "text": [
      "/global/homes/z/ztchen/.conda/envs/meer21cm/lib/python3.10/site-packages/numpy/fft/_helper.py:170: RuntimeWarning: divide by zero encountered in scalar divide\n",
      "  val = 1.0 / (n * d)\n",
      "/global/homes/z/ztchen/.conda/envs/meer21cm/lib/python3.10/site-packages/numpy/fft/_helper.py:177: RuntimeWarning: invalid value encountered in multiply\n",
      "  return results * val\n"
     ]
    },
    {
     "name": "stdout",
     "output_type": "stream",
     "text": [
      "Note: redshifts have been re-sorted (earliest first)\n",
      "no input beam found, setting include_beam to False\n",
      "Note: redshifts have been re-sorted (earliest first)\n",
      "Note: redshifts have been re-sorted (earliest first)\n",
      "Note: redshifts have been re-sorted (earliest first)\n",
      "Note: redshifts have been re-sorted (earliest first)\n",
      "no input beam found, setting include_beam to False\n"
     ]
    },
    {
     "name": "stderr",
     "output_type": "stream",
     "text": [
      "/global/homes/z/ztchen/.conda/envs/meer21cm/lib/python3.10/site-packages/numpy/fft/_helper.py:170: RuntimeWarning: divide by zero encountered in scalar divide\n",
      "  val = 1.0 / (n * d)\n",
      "/global/homes/z/ztchen/.conda/envs/meer21cm/lib/python3.10/site-packages/numpy/fft/_helper.py:177: RuntimeWarning: invalid value encountered in multiply\n",
      "  return results * val\n"
     ]
    },
    {
     "name": "stdout",
     "output_type": "stream",
     "text": [
      "Note: redshifts have been re-sorted (earliest first)\n",
      "no input beam found, setting include_beam to False\n",
      "Note: redshifts have been re-sorted (earliest first)\n",
      "Note: redshifts have been re-sorted (earliest first)\n",
      "no input beam found, setting include_beam to False\n"
     ]
    },
    {
     "name": "stderr",
     "output_type": "stream",
     "text": [
      "/global/homes/z/ztchen/.conda/envs/meer21cm/lib/python3.10/site-packages/numpy/fft/_helper.py:170: RuntimeWarning: divide by zero encountered in scalar divide\n",
      "  val = 1.0 / (n * d)\n",
      "/global/homes/z/ztchen/.conda/envs/meer21cm/lib/python3.10/site-packages/numpy/fft/_helper.py:177: RuntimeWarning: invalid value encountered in multiply\n",
      "  return results * val\n"
     ]
    },
    {
     "name": "stdout",
     "output_type": "stream",
     "text": [
      "Note: redshifts have been re-sorted (earliest first)\n",
      "no input beam found, setting include_beam to False\n",
      "Note: redshifts have been re-sorted (earliest first)\n",
      "no input beam found, setting include_beam to False\n"
     ]
    },
    {
     "name": "stderr",
     "output_type": "stream",
     "text": [
      "/global/homes/z/ztchen/.conda/envs/meer21cm/lib/python3.10/site-packages/numpy/fft/_helper.py:170: RuntimeWarning: divide by zero encountered in scalar divide\n",
      "  val = 1.0 / (n * d)\n",
      "/global/homes/z/ztchen/.conda/envs/meer21cm/lib/python3.10/site-packages/numpy/fft/_helper.py:177: RuntimeWarning: invalid value encountered in multiply\n",
      "  return results * val\n"
     ]
    },
    {
     "name": "stdout",
     "output_type": "stream",
     "text": [
      "Note: redshifts have been re-sorted (earliest first)\n",
      "no input beam found, setting include_beam to False\n",
      "Note: redshifts have been re-sorted (earliest first)\n",
      "Note: redshifts have been re-sorted (earliest first)\n",
      "Note: redshifts have been re-sorted (earliest first)\n",
      "no input beam found, setting include_beam to False\n"
     ]
    },
    {
     "name": "stderr",
     "output_type": "stream",
     "text": [
      "/global/homes/z/ztchen/.conda/envs/meer21cm/lib/python3.10/site-packages/numpy/fft/_helper.py:170: RuntimeWarning: divide by zero encountered in scalar divide\n",
      "  val = 1.0 / (n * d)\n",
      "/global/homes/z/ztchen/.conda/envs/meer21cm/lib/python3.10/site-packages/numpy/fft/_helper.py:177: RuntimeWarning: invalid value encountered in multiply\n",
      "  return results * val\n"
     ]
    },
    {
     "name": "stdout",
     "output_type": "stream",
     "text": [
      "Note: redshifts have been re-sorted (earliest first)\n",
      "no input beam found, setting include_beam to False\n",
      "Note: redshifts have been re-sorted (earliest first)\n",
      "no input beam found, setting include_beam to False\n"
     ]
    },
    {
     "name": "stderr",
     "output_type": "stream",
     "text": [
      "/global/homes/z/ztchen/.conda/envs/meer21cm/lib/python3.10/site-packages/numpy/fft/_helper.py:170: RuntimeWarning: divide by zero encountered in scalar divide\n",
      "  val = 1.0 / (n * d)\n",
      "/global/homes/z/ztchen/.conda/envs/meer21cm/lib/python3.10/site-packages/numpy/fft/_helper.py:177: RuntimeWarning: invalid value encountered in multiply\n",
      "  return results * val\n"
     ]
    },
    {
     "name": "stdout",
     "output_type": "stream",
     "text": [
      "Note: redshifts have been re-sorted (earliest first)\n",
      "Note: redshifts have been re-sorted (earliest first)\n",
      "no input beam found, setting include_beam to False\n",
      "no input beam found, setting include_beam to False\n"
     ]
    },
    {
     "name": "stderr",
     "output_type": "stream",
     "text": [
      "/global/homes/z/ztchen/.conda/envs/meer21cm/lib/python3.10/site-packages/numpy/fft/_helper.py:170: RuntimeWarning: divide by zero encountered in scalar divide\n",
      "  val = 1.0 / (n * d)\n",
      "/global/homes/z/ztchen/.conda/envs/meer21cm/lib/python3.10/site-packages/numpy/fft/_helper.py:177: RuntimeWarning: invalid value encountered in multiply\n",
      "  return results * val\n"
     ]
    },
    {
     "name": "stdout",
     "output_type": "stream",
     "text": [
      "Note: redshifts have been re-sorted (earliest first)\n",
      "no input beam found, setting include_beam to False\n",
      "Note: redshifts have been re-sorted (earliest first)\n",
      "Note: redshifts have been re-sorted (earliest first)\n",
      "Note: redshifts have been re-sorted (earliest first)\n",
      "Note: redshifts have been re-sorted (earliest first)\n",
      "no input beam found, setting include_beam to False\n"
     ]
    },
    {
     "name": "stderr",
     "output_type": "stream",
     "text": [
      "/global/homes/z/ztchen/.conda/envs/meer21cm/lib/python3.10/site-packages/numpy/fft/_helper.py:170: RuntimeWarning: divide by zero encountered in scalar divide\n",
      "  val = 1.0 / (n * d)\n",
      "/global/homes/z/ztchen/.conda/envs/meer21cm/lib/python3.10/site-packages/numpy/fft/_helper.py:177: RuntimeWarning: invalid value encountered in multiply\n",
      "  return results * val\n"
     ]
    },
    {
     "name": "stdout",
     "output_type": "stream",
     "text": [
      "Note: redshifts have been re-sorted (earliest first)\n",
      "no input beam found, setting include_beam to False\n",
      "Note: redshifts have been re-sorted (earliest first)\n",
      "no input beam found, setting include_beam to False\n"
     ]
    },
    {
     "name": "stderr",
     "output_type": "stream",
     "text": [
      "/global/homes/z/ztchen/.conda/envs/meer21cm/lib/python3.10/site-packages/numpy/fft/_helper.py:170: RuntimeWarning: divide by zero encountered in scalar divide\n",
      "  val = 1.0 / (n * d)\n",
      "/global/homes/z/ztchen/.conda/envs/meer21cm/lib/python3.10/site-packages/numpy/fft/_helper.py:177: RuntimeWarning: invalid value encountered in multiply\n",
      "  return results * val\n"
     ]
    },
    {
     "name": "stdout",
     "output_type": "stream",
     "text": [
      "Note: redshifts have been re-sorted (earliest first)\n",
      "no input beam found, setting include_beam to False\n",
      "Note: redshifts have been re-sorted (earliest first)\n",
      "no input beam found, setting include_beam to False\n"
     ]
    },
    {
     "name": "stderr",
     "output_type": "stream",
     "text": [
      "/global/homes/z/ztchen/.conda/envs/meer21cm/lib/python3.10/site-packages/numpy/fft/_helper.py:170: RuntimeWarning: divide by zero encountered in scalar divide\n",
      "  val = 1.0 / (n * d)\n",
      "/global/homes/z/ztchen/.conda/envs/meer21cm/lib/python3.10/site-packages/numpy/fft/_helper.py:177: RuntimeWarning: invalid value encountered in multiply\n",
      "  return results * val\n"
     ]
    },
    {
     "name": "stdout",
     "output_type": "stream",
     "text": [
      "Note: redshifts have been re-sorted (earliest first)\n",
      "no input beam found, setting include_beam to False\n",
      "Note: redshifts have been re-sorted (earliest first)\n",
      "Note: redshifts have been re-sorted (earliest first)\n",
      "Note: redshifts have been re-sorted (earliest first)\n",
      "Note: redshifts have been re-sorted (earliest first)\n",
      "no input beam found, setting include_beam to False\n"
     ]
    },
    {
     "name": "stderr",
     "output_type": "stream",
     "text": [
      "/global/homes/z/ztchen/.conda/envs/meer21cm/lib/python3.10/site-packages/numpy/fft/_helper.py:170: RuntimeWarning: divide by zero encountered in scalar divide\n",
      "  val = 1.0 / (n * d)\n",
      "/global/homes/z/ztchen/.conda/envs/meer21cm/lib/python3.10/site-packages/numpy/fft/_helper.py:177: RuntimeWarning: invalid value encountered in multiply\n",
      "  return results * val\n"
     ]
    },
    {
     "name": "stdout",
     "output_type": "stream",
     "text": [
      "Note: redshifts have been re-sorted (earliest first)\n",
      "no input beam found, setting include_beam to False\n",
      "Note: redshifts have been re-sorted (earliest first)\n",
      "no input beam found, setting include_beam to False\n"
     ]
    },
    {
     "name": "stderr",
     "output_type": "stream",
     "text": [
      "/global/homes/z/ztchen/.conda/envs/meer21cm/lib/python3.10/site-packages/numpy/fft/_helper.py:170: RuntimeWarning: divide by zero encountered in scalar divide\n",
      "  val = 1.0 / (n * d)\n",
      "/global/homes/z/ztchen/.conda/envs/meer21cm/lib/python3.10/site-packages/numpy/fft/_helper.py:177: RuntimeWarning: invalid value encountered in multiply\n",
      "  return results * val\n"
     ]
    },
    {
     "name": "stdout",
     "output_type": "stream",
     "text": [
      "Note: redshifts have been re-sorted (earliest first)\n",
      "no input beam found, setting include_beam to False\n",
      "Note: redshifts have been re-sorted (earliest first)\n",
      "Note: redshifts have been re-sorted (earliest first)\n",
      "no input beam found, setting include_beam to False\n"
     ]
    },
    {
     "name": "stderr",
     "output_type": "stream",
     "text": [
      "/global/homes/z/ztchen/.conda/envs/meer21cm/lib/python3.10/site-packages/numpy/fft/_helper.py:170: RuntimeWarning: divide by zero encountered in scalar divide\n",
      "  val = 1.0 / (n * d)\n",
      "/global/homes/z/ztchen/.conda/envs/meer21cm/lib/python3.10/site-packages/numpy/fft/_helper.py:177: RuntimeWarning: invalid value encountered in multiply\n",
      "  return results * val\n"
     ]
    },
    {
     "name": "stdout",
     "output_type": "stream",
     "text": [
      "Note: redshifts have been re-sorted (earliest first)\n",
      "no input beam found, setting include_beam to False\n",
      "Note: redshifts have been re-sorted (earliest first)\n",
      "Note: redshifts have been re-sorted (earliest first)\n",
      "no input beam found, setting include_beam to False\n"
     ]
    },
    {
     "name": "stderr",
     "output_type": "stream",
     "text": [
      "/global/homes/z/ztchen/.conda/envs/meer21cm/lib/python3.10/site-packages/numpy/fft/_helper.py:170: RuntimeWarning: divide by zero encountered in scalar divide\n",
      "  val = 1.0 / (n * d)\n",
      "/global/homes/z/ztchen/.conda/envs/meer21cm/lib/python3.10/site-packages/numpy/fft/_helper.py:177: RuntimeWarning: invalid value encountered in multiply\n",
      "  return results * val\n"
     ]
    },
    {
     "name": "stdout",
     "output_type": "stream",
     "text": [
      "Note: redshifts have been re-sorted (earliest first)\n",
      "no input beam found, setting include_beam to False\n",
      "Note: redshifts have been re-sorted (earliest first)\n",
      "Note: redshifts have been re-sorted (earliest first)\n",
      "no input beam found, setting include_beam to False\n"
     ]
    },
    {
     "name": "stderr",
     "output_type": "stream",
     "text": [
      "/global/homes/z/ztchen/.conda/envs/meer21cm/lib/python3.10/site-packages/numpy/fft/_helper.py:170: RuntimeWarning: divide by zero encountered in scalar divide\n",
      "  val = 1.0 / (n * d)\n",
      "/global/homes/z/ztchen/.conda/envs/meer21cm/lib/python3.10/site-packages/numpy/fft/_helper.py:177: RuntimeWarning: invalid value encountered in multiply\n",
      "  return results * val\n"
     ]
    },
    {
     "name": "stdout",
     "output_type": "stream",
     "text": [
      "Note: redshifts have been re-sorted (earliest first)\n",
      "no input beam found, setting include_beam to False\n",
      "Note: redshifts have been re-sorted (earliest first)\n",
      "Note: redshifts have been re-sorted (earliest first)\n",
      "no input beam found, setting include_beam to False\n"
     ]
    },
    {
     "name": "stderr",
     "output_type": "stream",
     "text": [
      "/global/homes/z/ztchen/.conda/envs/meer21cm/lib/python3.10/site-packages/numpy/fft/_helper.py:170: RuntimeWarning: divide by zero encountered in scalar divide\n",
      "  val = 1.0 / (n * d)\n",
      "/global/homes/z/ztchen/.conda/envs/meer21cm/lib/python3.10/site-packages/numpy/fft/_helper.py:177: RuntimeWarning: invalid value encountered in multiply\n",
      "  return results * val\n"
     ]
    },
    {
     "name": "stdout",
     "output_type": "stream",
     "text": [
      "Note: redshifts have been re-sorted (earliest first)\n",
      "no input beam found, setting include_beam to False\n",
      "Note: redshifts have been re-sorted (earliest first)\n",
      "Note: redshifts have been re-sorted (earliest first)\n",
      "Note: redshifts have been re-sorted (earliest first)\n",
      "no input beam found, setting include_beam to False\n"
     ]
    },
    {
     "name": "stderr",
     "output_type": "stream",
     "text": [
      "/global/homes/z/ztchen/.conda/envs/meer21cm/lib/python3.10/site-packages/numpy/fft/_helper.py:170: RuntimeWarning: divide by zero encountered in scalar divide\n",
      "  val = 1.0 / (n * d)\n",
      "/global/homes/z/ztchen/.conda/envs/meer21cm/lib/python3.10/site-packages/numpy/fft/_helper.py:177: RuntimeWarning: invalid value encountered in multiply\n",
      "  return results * val\n"
     ]
    },
    {
     "name": "stdout",
     "output_type": "stream",
     "text": [
      "Note: redshifts have been re-sorted (earliest first)\n",
      "no input beam found, setting include_beam to False\n",
      "Note: redshifts have been re-sorted (earliest first)\n",
      "Note: redshifts have been re-sorted (earliest first)\n",
      "no input beam found, setting include_beam to False\n"
     ]
    },
    {
     "name": "stderr",
     "output_type": "stream",
     "text": [
      "/global/homes/z/ztchen/.conda/envs/meer21cm/lib/python3.10/site-packages/numpy/fft/_helper.py:170: RuntimeWarning: divide by zero encountered in scalar divide\n",
      "  val = 1.0 / (n * d)\n",
      "/global/homes/z/ztchen/.conda/envs/meer21cm/lib/python3.10/site-packages/numpy/fft/_helper.py:177: RuntimeWarning: invalid value encountered in multiply\n",
      "  return results * val\n"
     ]
    },
    {
     "name": "stdout",
     "output_type": "stream",
     "text": [
      "Note: redshifts have been re-sorted (earliest first)\n",
      "no input beam found, setting include_beam to False\n",
      "Note: redshifts have been re-sorted (earliest first)\n",
      "Note: redshifts have been re-sorted (earliest first)\n",
      "no input beam found, setting include_beam to False\n"
     ]
    },
    {
     "name": "stderr",
     "output_type": "stream",
     "text": [
      "/global/homes/z/ztchen/.conda/envs/meer21cm/lib/python3.10/site-packages/numpy/fft/_helper.py:170: RuntimeWarning: divide by zero encountered in scalar divide\n",
      "  val = 1.0 / (n * d)\n",
      "/global/homes/z/ztchen/.conda/envs/meer21cm/lib/python3.10/site-packages/numpy/fft/_helper.py:177: RuntimeWarning: invalid value encountered in multiply\n",
      "  return results * val\n"
     ]
    },
    {
     "name": "stdout",
     "output_type": "stream",
     "text": [
      "Note: redshifts have been re-sorted (earliest first)\n",
      "no input beam found, setting include_beam to False\n",
      "Note: redshifts have been re-sorted (earliest first)\n",
      "Note: redshifts have been re-sorted (earliest first)\n",
      "no input beam found, setting include_beam to False\n"
     ]
    },
    {
     "name": "stderr",
     "output_type": "stream",
     "text": [
      "/global/homes/z/ztchen/.conda/envs/meer21cm/lib/python3.10/site-packages/numpy/fft/_helper.py:170: RuntimeWarning: divide by zero encountered in scalar divide\n",
      "  val = 1.0 / (n * d)\n",
      "/global/homes/z/ztchen/.conda/envs/meer21cm/lib/python3.10/site-packages/numpy/fft/_helper.py:177: RuntimeWarning: invalid value encountered in multiply\n",
      "  return results * val\n"
     ]
    },
    {
     "name": "stdout",
     "output_type": "stream",
     "text": [
      "Note: redshifts have been re-sorted (earliest first)\n",
      "no input beam found, setting include_beam to False\n",
      "Note: redshifts have been re-sorted (earliest first)\n",
      "no input beam found, setting include_beam to False\n"
     ]
    },
    {
     "name": "stderr",
     "output_type": "stream",
     "text": [
      "/global/homes/z/ztchen/.conda/envs/meer21cm/lib/python3.10/site-packages/numpy/fft/_helper.py:170: RuntimeWarning: divide by zero encountered in scalar divide\n",
      "  val = 1.0 / (n * d)\n",
      "/global/homes/z/ztchen/.conda/envs/meer21cm/lib/python3.10/site-packages/numpy/fft/_helper.py:177: RuntimeWarning: invalid value encountered in multiply\n",
      "  return results * val\n"
     ]
    },
    {
     "name": "stdout",
     "output_type": "stream",
     "text": [
      "Note: redshifts have been re-sorted (earliest first)\n",
      "no input beam found, setting include_beam to False\n",
      "Note: redshifts have been re-sorted (earliest first)\n",
      "no input beam found, setting include_beam to False\n"
     ]
    },
    {
     "name": "stderr",
     "output_type": "stream",
     "text": [
      "/global/homes/z/ztchen/.conda/envs/meer21cm/lib/python3.10/site-packages/numpy/fft/_helper.py:170: RuntimeWarning: divide by zero encountered in scalar divide\n",
      "  val = 1.0 / (n * d)\n",
      "/global/homes/z/ztchen/.conda/envs/meer21cm/lib/python3.10/site-packages/numpy/fft/_helper.py:177: RuntimeWarning: invalid value encountered in multiply\n",
      "  return results * val\n"
     ]
    },
    {
     "name": "stdout",
     "output_type": "stream",
     "text": [
      "Note: redshifts have been re-sorted (earliest first)\n",
      "no input beam found, setting include_beam to False\n",
      "Note: redshifts have been re-sorted (earliest first)\n",
      "Note: redshifts have been re-sorted (earliest first)\n",
      "Note: redshifts have been re-sorted (earliest first)\n",
      "Note: redshifts have been re-sorted (earliest first)\n",
      "no input beam found, setting include_beam to False\n"
     ]
    },
    {
     "name": "stderr",
     "output_type": "stream",
     "text": [
      "/global/homes/z/ztchen/.conda/envs/meer21cm/lib/python3.10/site-packages/numpy/fft/_helper.py:170: RuntimeWarning: divide by zero encountered in scalar divide\n",
      "  val = 1.0 / (n * d)\n",
      "/global/homes/z/ztchen/.conda/envs/meer21cm/lib/python3.10/site-packages/numpy/fft/_helper.py:177: RuntimeWarning: invalid value encountered in multiply\n",
      "  return results * val\n"
     ]
    },
    {
     "name": "stdout",
     "output_type": "stream",
     "text": [
      "Note: redshifts have been re-sorted (earliest first)\n",
      "no input beam found, setting include_beam to False\n",
      "Note: redshifts have been re-sorted (earliest first)\n",
      "no input beam found, setting include_beam to False\n"
     ]
    },
    {
     "name": "stderr",
     "output_type": "stream",
     "text": [
      "/global/homes/z/ztchen/.conda/envs/meer21cm/lib/python3.10/site-packages/numpy/fft/_helper.py:170: RuntimeWarning: divide by zero encountered in scalar divide\n",
      "  val = 1.0 / (n * d)\n",
      "/global/homes/z/ztchen/.conda/envs/meer21cm/lib/python3.10/site-packages/numpy/fft/_helper.py:177: RuntimeWarning: invalid value encountered in multiply\n",
      "  return results * val\n"
     ]
    },
    {
     "name": "stdout",
     "output_type": "stream",
     "text": [
      "Note: redshifts have been re-sorted (earliest first)\n",
      "no input beam found, setting include_beam to False\n",
      "Note: redshifts have been re-sorted (earliest first)\n"
     ]
    },
    {
     "name": "stderr",
     "output_type": "stream",
     "text": [
      "/global/homes/z/ztchen/.conda/envs/meer21cm/lib/python3.10/site-packages/numpy/fft/_helper.py:170: RuntimeWarning: divide by zero encountered in scalar divide\n",
      "  val = 1.0 / (n * d)\n",
      "/global/homes/z/ztchen/.conda/envs/meer21cm/lib/python3.10/site-packages/numpy/fft/_helper.py:177: RuntimeWarning: invalid value encountered in multiply\n",
      "  return results * val\n"
     ]
    },
    {
     "name": "stdout",
     "output_type": "stream",
     "text": [
      "no input beam found, setting include_beam to False\n",
      "Note: redshifts have been re-sorted (earliest first)\n",
      "no input beam found, setting include_beam to False\n",
      "Note: redshifts have been re-sorted (earliest first)\n",
      "Note: redshifts have been re-sorted (earliest first)\n",
      "Note: redshifts have been re-sorted (earliest first)\n",
      "Note: redshifts have been re-sorted (earliest first)\n",
      "no input beam found, setting include_beam to False\n"
     ]
    },
    {
     "name": "stderr",
     "output_type": "stream",
     "text": [
      "/global/homes/z/ztchen/.conda/envs/meer21cm/lib/python3.10/site-packages/numpy/fft/_helper.py:170: RuntimeWarning: divide by zero encountered in scalar divide\n",
      "  val = 1.0 / (n * d)\n",
      "/global/homes/z/ztchen/.conda/envs/meer21cm/lib/python3.10/site-packages/numpy/fft/_helper.py:177: RuntimeWarning: invalid value encountered in multiply\n",
      "  return results * val\n"
     ]
    },
    {
     "name": "stdout",
     "output_type": "stream",
     "text": [
      "Note: redshifts have been re-sorted (earliest first)\n",
      "no input beam found, setting include_beam to False\n",
      "Note: redshifts have been re-sorted (earliest first)\n",
      "no input beam found, setting include_beam to False\n"
     ]
    },
    {
     "name": "stderr",
     "output_type": "stream",
     "text": [
      "/global/homes/z/ztchen/.conda/envs/meer21cm/lib/python3.10/site-packages/numpy/fft/_helper.py:170: RuntimeWarning: divide by zero encountered in scalar divide\n",
      "  val = 1.0 / (n * d)\n",
      "/global/homes/z/ztchen/.conda/envs/meer21cm/lib/python3.10/site-packages/numpy/fft/_helper.py:177: RuntimeWarning: invalid value encountered in multiply\n",
      "  return results * val\n"
     ]
    },
    {
     "name": "stdout",
     "output_type": "stream",
     "text": [
      "Note: redshifts have been re-sorted (earliest first)\n",
      "no input beam found, setting include_beam to False\n",
      "Note: redshifts have been re-sorted (earliest first)\n",
      "Note: redshifts have been re-sorted (earliest first)\n",
      "no input beam found, setting include_beam to False\n"
     ]
    },
    {
     "name": "stderr",
     "output_type": "stream",
     "text": [
      "/global/homes/z/ztchen/.conda/envs/meer21cm/lib/python3.10/site-packages/numpy/fft/_helper.py:170: RuntimeWarning: divide by zero encountered in scalar divide\n",
      "  val = 1.0 / (n * d)\n",
      "/global/homes/z/ztchen/.conda/envs/meer21cm/lib/python3.10/site-packages/numpy/fft/_helper.py:177: RuntimeWarning: invalid value encountered in multiply\n",
      "  return results * val\n"
     ]
    },
    {
     "name": "stdout",
     "output_type": "stream",
     "text": [
      "Note: redshifts have been re-sorted (earliest first)\n",
      "no input beam found, setting include_beam to False\n",
      "Note: redshifts have been re-sorted (earliest first)\n",
      "Note: redshifts have been re-sorted (earliest first)\n",
      "no input beam found, setting include_beam to False\n"
     ]
    },
    {
     "name": "stderr",
     "output_type": "stream",
     "text": [
      "/global/homes/z/ztchen/.conda/envs/meer21cm/lib/python3.10/site-packages/numpy/fft/_helper.py:170: RuntimeWarning: divide by zero encountered in scalar divide\n",
      "  val = 1.0 / (n * d)\n",
      "/global/homes/z/ztchen/.conda/envs/meer21cm/lib/python3.10/site-packages/numpy/fft/_helper.py:177: RuntimeWarning: invalid value encountered in multiply\n",
      "  return results * val\n"
     ]
    },
    {
     "name": "stdout",
     "output_type": "stream",
     "text": [
      "Note: redshifts have been re-sorted (earliest first)\n",
      "no input beam found, setting include_beam to False\n",
      "Note: redshifts have been re-sorted (earliest first)\n",
      "Note: redshifts have been re-sorted (earliest first)\n",
      "no input beam found, setting include_beam to False\n"
     ]
    },
    {
     "name": "stderr",
     "output_type": "stream",
     "text": [
      "/global/homes/z/ztchen/.conda/envs/meer21cm/lib/python3.10/site-packages/numpy/fft/_helper.py:170: RuntimeWarning: divide by zero encountered in scalar divide\n",
      "  val = 1.0 / (n * d)\n",
      "/global/homes/z/ztchen/.conda/envs/meer21cm/lib/python3.10/site-packages/numpy/fft/_helper.py:177: RuntimeWarning: invalid value encountered in multiply\n",
      "  return results * val\n"
     ]
    },
    {
     "name": "stdout",
     "output_type": "stream",
     "text": [
      "Note: redshifts have been re-sorted (earliest first)\n",
      "no input beam found, setting include_beam to False\n",
      "Note: redshifts have been re-sorted (earliest first)\n",
      "no input beam found, setting include_beam to False\n"
     ]
    },
    {
     "name": "stderr",
     "output_type": "stream",
     "text": [
      "/global/homes/z/ztchen/.conda/envs/meer21cm/lib/python3.10/site-packages/numpy/fft/_helper.py:170: RuntimeWarning: divide by zero encountered in scalar divide\n",
      "  val = 1.0 / (n * d)\n",
      "/global/homes/z/ztchen/.conda/envs/meer21cm/lib/python3.10/site-packages/numpy/fft/_helper.py:177: RuntimeWarning: invalid value encountered in multiply\n",
      "  return results * val\n"
     ]
    },
    {
     "name": "stdout",
     "output_type": "stream",
     "text": [
      "Note: redshifts have been re-sorted (earliest first)\n",
      "Note: redshifts have been re-sorted (earliest first)\n",
      "no input beam found, setting include_beam to False\n",
      "Note: redshifts have been re-sorted (earliest first)\n",
      "Note: redshifts have been re-sorted (earliest first)\n",
      "Note: redshifts have been re-sorted (earliest first)\n",
      "no input beam found, setting include_beam to False\n"
     ]
    },
    {
     "name": "stderr",
     "output_type": "stream",
     "text": [
      "/global/homes/z/ztchen/.conda/envs/meer21cm/lib/python3.10/site-packages/numpy/fft/_helper.py:170: RuntimeWarning: divide by zero encountered in scalar divide\n",
      "  val = 1.0 / (n * d)\n",
      "/global/homes/z/ztchen/.conda/envs/meer21cm/lib/python3.10/site-packages/numpy/fft/_helper.py:177: RuntimeWarning: invalid value encountered in multiply\n",
      "  return results * val\n"
     ]
    },
    {
     "name": "stdout",
     "output_type": "stream",
     "text": [
      "Note: redshifts have been re-sorted (earliest first)\n",
      "no input beam found, setting include_beam to False\n",
      "Note: redshifts have been re-sorted (earliest first)\n",
      "Note: redshifts have been re-sorted (earliest first)\n",
      "no input beam found, setting include_beam to False\n"
     ]
    },
    {
     "name": "stderr",
     "output_type": "stream",
     "text": [
      "/global/homes/z/ztchen/.conda/envs/meer21cm/lib/python3.10/site-packages/numpy/fft/_helper.py:170: RuntimeWarning: divide by zero encountered in scalar divide\n",
      "  val = 1.0 / (n * d)\n",
      "/global/homes/z/ztchen/.conda/envs/meer21cm/lib/python3.10/site-packages/numpy/fft/_helper.py:177: RuntimeWarning: invalid value encountered in multiply\n",
      "  return results * val\n"
     ]
    },
    {
     "name": "stdout",
     "output_type": "stream",
     "text": [
      "Note: redshifts have been re-sorted (earliest first)\n",
      "no input beam found, setting include_beam to False\n",
      "Note: redshifts have been re-sorted (earliest first)\n",
      "Note: redshifts have been re-sorted (earliest first)\n",
      "no input beam found, setting include_beam to False\n"
     ]
    },
    {
     "name": "stderr",
     "output_type": "stream",
     "text": [
      "/global/homes/z/ztchen/.conda/envs/meer21cm/lib/python3.10/site-packages/numpy/fft/_helper.py:170: RuntimeWarning: divide by zero encountered in scalar divide\n",
      "  val = 1.0 / (n * d)\n",
      "/global/homes/z/ztchen/.conda/envs/meer21cm/lib/python3.10/site-packages/numpy/fft/_helper.py:177: RuntimeWarning: invalid value encountered in multiply\n",
      "  return results * val\n"
     ]
    },
    {
     "name": "stdout",
     "output_type": "stream",
     "text": [
      "Note: redshifts have been re-sorted (earliest first)\n",
      "no input beam found, setting include_beam to False\n",
      "Note: redshifts have been re-sorted (earliest first)\n",
      "Note: redshifts have been re-sorted (earliest first)\n",
      "no input beam found, setting include_beam to False\n"
     ]
    },
    {
     "name": "stderr",
     "output_type": "stream",
     "text": [
      "/global/homes/z/ztchen/.conda/envs/meer21cm/lib/python3.10/site-packages/numpy/fft/_helper.py:170: RuntimeWarning: divide by zero encountered in scalar divide\n",
      "  val = 1.0 / (n * d)\n",
      "/global/homes/z/ztchen/.conda/envs/meer21cm/lib/python3.10/site-packages/numpy/fft/_helper.py:177: RuntimeWarning: invalid value encountered in multiply\n",
      "  return results * val\n"
     ]
    },
    {
     "name": "stdout",
     "output_type": "stream",
     "text": [
      "Note: redshifts have been re-sorted (earliest first)\n",
      "no input beam found, setting include_beam to False\n",
      "Note: redshifts have been re-sorted (earliest first)\n",
      "no input beam found, setting include_beam to False\n"
     ]
    },
    {
     "name": "stderr",
     "output_type": "stream",
     "text": [
      "/global/homes/z/ztchen/.conda/envs/meer21cm/lib/python3.10/site-packages/numpy/fft/_helper.py:170: RuntimeWarning: divide by zero encountered in scalar divide\n",
      "  val = 1.0 / (n * d)\n",
      "/global/homes/z/ztchen/.conda/envs/meer21cm/lib/python3.10/site-packages/numpy/fft/_helper.py:177: RuntimeWarning: invalid value encountered in multiply\n",
      "  return results * val\n"
     ]
    },
    {
     "name": "stdout",
     "output_type": "stream",
     "text": [
      "Note: redshifts have been re-sorted (earliest first)\n",
      "Note: redshifts have been re-sorted (earliest first)\n",
      "no input beam found, setting include_beam to False\n",
      "no input beam found, setting include_beam to False\n"
     ]
    },
    {
     "name": "stderr",
     "output_type": "stream",
     "text": [
      "/global/homes/z/ztchen/.conda/envs/meer21cm/lib/python3.10/site-packages/numpy/fft/_helper.py:170: RuntimeWarning: divide by zero encountered in scalar divide\n",
      "  val = 1.0 / (n * d)\n",
      "/global/homes/z/ztchen/.conda/envs/meer21cm/lib/python3.10/site-packages/numpy/fft/_helper.py:177: RuntimeWarning: invalid value encountered in multiply\n",
      "  return results * val\n"
     ]
    },
    {
     "name": "stdout",
     "output_type": "stream",
     "text": [
      "Note: redshifts have been re-sorted (earliest first)\n",
      "no input beam found, setting include_beam to False\n",
      "Note: redshifts have been re-sorted (earliest first)\n",
      "Note: redshifts have been re-sorted (earliest first)\n",
      "Note: redshifts have been re-sorted (earliest first)\n",
      "Note: redshifts have been re-sorted (earliest first)\n",
      "no input beam found, setting include_beam to False\n"
     ]
    },
    {
     "name": "stderr",
     "output_type": "stream",
     "text": [
      "/global/homes/z/ztchen/.conda/envs/meer21cm/lib/python3.10/site-packages/numpy/fft/_helper.py:170: RuntimeWarning: divide by zero encountered in scalar divide\n",
      "  val = 1.0 / (n * d)\n",
      "/global/homes/z/ztchen/.conda/envs/meer21cm/lib/python3.10/site-packages/numpy/fft/_helper.py:177: RuntimeWarning: invalid value encountered in multiply\n",
      "  return results * val\n"
     ]
    },
    {
     "name": "stdout",
     "output_type": "stream",
     "text": [
      "Note: redshifts have been re-sorted (earliest first)\n",
      "no input beam found, setting include_beam to False\n",
      "Note: redshifts have been re-sorted (earliest first)\n",
      "Note: redshifts have been re-sorted (earliest first)\n",
      "no input beam found, setting include_beam to False\n"
     ]
    },
    {
     "name": "stderr",
     "output_type": "stream",
     "text": [
      "/global/homes/z/ztchen/.conda/envs/meer21cm/lib/python3.10/site-packages/numpy/fft/_helper.py:170: RuntimeWarning: divide by zero encountered in scalar divide\n",
      "  val = 1.0 / (n * d)\n",
      "/global/homes/z/ztchen/.conda/envs/meer21cm/lib/python3.10/site-packages/numpy/fft/_helper.py:177: RuntimeWarning: invalid value encountered in multiply\n",
      "  return results * val\n"
     ]
    },
    {
     "name": "stdout",
     "output_type": "stream",
     "text": [
      "Note: redshifts have been re-sorted (earliest first)\n",
      "no input beam found, setting include_beam to False\n",
      "Note: redshifts have been re-sorted (earliest first)\n",
      "Note: redshifts have been re-sorted (earliest first)\n",
      "no input beam found, setting include_beam to False\n"
     ]
    },
    {
     "name": "stderr",
     "output_type": "stream",
     "text": [
      "/global/homes/z/ztchen/.conda/envs/meer21cm/lib/python3.10/site-packages/numpy/fft/_helper.py:170: RuntimeWarning: divide by zero encountered in scalar divide\n",
      "  val = 1.0 / (n * d)\n",
      "/global/homes/z/ztchen/.conda/envs/meer21cm/lib/python3.10/site-packages/numpy/fft/_helper.py:177: RuntimeWarning: invalid value encountered in multiply\n",
      "  return results * val\n"
     ]
    },
    {
     "name": "stdout",
     "output_type": "stream",
     "text": [
      "Note: redshifts have been re-sorted (earliest first)\n",
      "no input beam found, setting include_beam to False\n",
      "Note: redshifts have been re-sorted (earliest first)\n",
      "Note: redshifts have been re-sorted (earliest first)\n",
      "no input beam found, setting include_beam to False\n"
     ]
    },
    {
     "name": "stderr",
     "output_type": "stream",
     "text": [
      "/global/homes/z/ztchen/.conda/envs/meer21cm/lib/python3.10/site-packages/numpy/fft/_helper.py:170: RuntimeWarning: divide by zero encountered in scalar divide\n",
      "  val = 1.0 / (n * d)\n",
      "/global/homes/z/ztchen/.conda/envs/meer21cm/lib/python3.10/site-packages/numpy/fft/_helper.py:177: RuntimeWarning: invalid value encountered in multiply\n",
      "  return results * val\n"
     ]
    },
    {
     "name": "stdout",
     "output_type": "stream",
     "text": [
      "Note: redshifts have been re-sorted (earliest first)\n",
      "no input beam found, setting include_beam to False\n",
      "Note: redshifts have been re-sorted (earliest first)\n",
      "no input beam found, setting include_beam to False\n"
     ]
    },
    {
     "name": "stderr",
     "output_type": "stream",
     "text": [
      "/global/homes/z/ztchen/.conda/envs/meer21cm/lib/python3.10/site-packages/numpy/fft/_helper.py:170: RuntimeWarning: divide by zero encountered in scalar divide\n",
      "  val = 1.0 / (n * d)\n",
      "/global/homes/z/ztchen/.conda/envs/meer21cm/lib/python3.10/site-packages/numpy/fft/_helper.py:177: RuntimeWarning: invalid value encountered in multiply\n",
      "  return results * val\n"
     ]
    },
    {
     "name": "stdout",
     "output_type": "stream",
     "text": [
      "Note: redshifts have been re-sorted (earliest first)\n",
      "no input beam found, setting include_beam to False\n",
      "Note: redshifts have been re-sorted (earliest first)\n",
      "Note: redshifts have been re-sorted (earliest first)\n"
     ]
    }
   ],
   "source": [
    "window = 'tsc'\n",
    "rsd = False\n",
    "arglist = [(i, window, rsd) for i in range(100)]\n",
    "pg3d_arr = []\n",
    "sn_arr = []\n",
    "with Pool(15) as p:\n",
    "    for pg3d, sn, pmod3d in p.starmap(get_3d_power, arglist):\n",
    "        pg3d_arr.append(pg3d)\n",
    "        sn_arr.append(sn)\n",
    "np.save(save_dir + f'pg3d_arr_{window}_rsd_{rsd}.npy', pg3d_arr)\n",
    "np.save(save_dir + f'sn_arr_{window}_rsd_{rsd}.npy', sn_arr)\n",
    "np.save(save_dir + f'pmod3d_rsd_{rsd}.npy', pmod3d)"
   ]
  },
  {
   "cell_type": "code",
   "execution_count": 7,
   "metadata": {},
   "outputs": [
    {
     "name": "stdout",
     "output_type": "stream",
     "text": [
      "Note: redshifts have been re-sorted (earliest first)\n",
      "no input beam found, setting include_beam to False\n",
      "Note: redshifts have been re-sorted (earliest first)\n",
      "no input beam found, setting include_beam to False\n"
     ]
    },
    {
     "name": "stderr",
     "output_type": "stream",
     "text": [
      "/global/homes/z/ztchen/.conda/envs/meer21cm/lib/python3.10/site-packages/numpy/fft/_helper.py:170: RuntimeWarning: divide by zero encountered in scalar divide\n",
      "  val = 1.0 / (n * d)\n",
      "/global/homes/z/ztchen/.conda/envs/meer21cm/lib/python3.10/site-packages/numpy/fft/_helper.py:177: RuntimeWarning: invalid value encountered in multiply\n",
      "  return results * val\n"
     ]
    }
   ],
   "source": [
    "mock = MockSimulation(\n",
    "    band=\"L\",\n",
    "    survey=\"meerklass_2021\",\n",
    "    kaiser_rsd=True,\n",
    "    tracer_bias_2=1.0,\n",
    "    num_discrete_source=1e6,\n",
    ")\n",
    "mock._box_len = np.array([1000, 1000, 1000])\n",
    "mock._box_ndim = np.array([50, 50, 50])\n",
    "mock.propagate_field_k_to_model()\n"
   ]
  },
  {
   "cell_type": "code",
   "execution_count": 18,
   "metadata": {},
   "outputs": [
    {
     "name": "stderr",
     "output_type": "stream",
     "text": [
      "/global/u1/z/ztchen/meer21cm/src/meer21cm/power.py:1682: RuntimeWarning: invalid value encountered in divide\n",
      "  pscy = pscy / np.sum(weights, 0)[None]\n"
     ]
    },
    {
     "data": {
      "image/png": "[encoded data removed]",
      "text/plain": [
       "<Figure size 1800x900 with 2 Axes>"
      ]
     },
     "metadata": {},
     "output_type": "display_data"
    },
    {
     "data": {
      "image/png": "[encoded data removed]",
      "text/plain": [
       "<Figure size 1800x900 with 1 Axes>"
      ]
     },
     "metadata": {},
     "output_type": "display_data"
    },
    {
     "data": {
      "image/png": "[encoded data removed]",
      "text/plain": [
       "<Figure size 1800x900 with 2 Axes>"
      ]
     },
     "metadata": {},
     "output_type": "display_data"
    },
    {
     "data": {
      "image/png": "[encoded data removed]",
      "text/plain": [
       "<Figure size 1800x900 with 1 Axes>"
      ]
     },
     "metadata": {},
     "output_type": "display_data"
    },
    {
     "data": {
      "image/png": "[encoded data removed]",
      "text/plain": [
       "<Figure size 1800x900 with 2 Axes>"
      ]
     },
     "metadata": {},
     "output_type": "display_data"
    },
    {
     "data": {
      "image/png": "[encoded data removed]",
      "text/plain": [
       "<Figure size 1800x900 with 1 Axes>"
      ]
     },
     "metadata": {},
     "output_type": "display_data"
    }
   ],
   "source": [
    "rsd = True\n",
    "for window in ['nnb', 'cic', 'tsc']:\n",
    "    pg3d_arr = np.load(save_dir + f'pg3d_arr_{window}_rsd_{rsd}.npy')\n",
    "    sn_arr = np.load(save_dir + f'sn_arr_{window}_rsd_{rsd}.npy')\n",
    "    pmod3d = np.load(save_dir + f'pmod3d_rsd_{rsd}.npy')\n",
    "    compensate = fourier_window_for_assignment(\n",
    "        mock.box_ndim,\n",
    "        window=window,\n",
    "    )\n",
    "    k_sel = np.ones(mock.box_ndim)\n",
    "    # remove k_xyz=0 modes\n",
    "    k_sel[0] = 0\n",
    "    k_sel[:,0] = 0\n",
    "    k_sel[:,:,0] = 0\n",
    "    ratio = (pg3d_arr-sn_arr)/pmod3d[None]/compensate[None]**2\n",
    "    ratio.mean()\n",
    "    mock.kperpbins = np.linspace(0.01,0.22,22)\n",
    "    mock.kparabins = np.linspace(0.00,0.15,16)\n",
    "    ratiocy_arr = bin_3d_to_cy(ratio, mock.k_perp, mock.kperpbins,weights=k_sel, vectorize=True)\n",
    "    ratiocy_arr = bin_3d_to_cy(np.nan_to_num(ratiocy_arr), np.abs(mock.k_para), mock.kparabins,weights=1-np.isnan(ratiocy_arr[0]).astype(float), vectorize=True)\n",
    "    plt.figure()\n",
    "    plt.pcolormesh(mock.kperpbins, mock.kparabins, ratiocy_arr.mean(0).T,vmin=0.95,vmax=1.05,cmap='coolwarm')\n",
    "    plt.colorbar()\n",
    "    plt.title(f'{window}')\n",
    "    kxyz_min = [0.005, 0.005, 0.005]\n",
    "    if window == 'nnb':\n",
    "        kxyz_max = [0.075, 0.075, 0.075]\n",
    "    else:\n",
    "        kxyz_max = [0.075, 0.075, 0.075]\n",
    "    k_sel = [(np.abs(mock.k_vec[i])>kxyz_min[i]) * (np.abs(mock.k_vec[i])<kxyz_max[i]) for i in range(3)]\n",
    "    k_sel = k_sel[0][:,None,None] * k_sel[1][None,:,None] * k_sel[2][None,None,:]\n",
    "    mock.k1dbins = np.linspace(kxyz_min[0]*np.sqrt(3),kxyz_max[0]*np.sqrt(3),11)\n",
    "    ratio1d_arr, keff, nmodes = bin_3d_to_1d(ratio, mock.kmode, mock.k1dbins, weights=k_sel, vectorize=True)\n",
    "    plt.figure()\n",
    "    plt.errorbar(keff, ratio1d_arr.mean(0), yerr=ratio1d_arr.std(0)/np.sqrt(nmodes-1), fmt='o')\n",
    "    plt.ylim(0.95,1.05)\n",
    "    ax = plt.gca()\n",
    "    xlim = ax.get_xlim()\n",
    "    plt.fill_between(x=xlim, y1=0.99, y2=1.01, color='black',  interpolate=True, alpha=.25)\n",
    "    plt.fill_between(x=xlim, y1=0.97, y2=1.03, color='black',  interpolate=True, alpha=.25)\n",
    "    \n",
    "    ax.set_xlim(xlim)\n",
    "\n"
   ]
  },
  {
   "cell_type": "code",
   "execution_count": null,
   "metadata": {},
   "outputs": [],
   "source": []
  }
 ],
 "metadata": {
  "kernelspec": {
   "display_name": "Python 3",
   "language": "python",
   "name": "python3"
  },
  "language_info": {
   "codemirror_mode": {
    "name": "ipython",
    "version": 3
   },
   "file_extension": ".py",
   "mimetype": "text/x-python",
   "name": "python",
   "nbconvert_exporter": "python",
   "pygments_lexer": "ipython3",
   "version": "3.10.18"
  }
 },
 "nbformat": 4,
 "nbformat_minor": 2
}
